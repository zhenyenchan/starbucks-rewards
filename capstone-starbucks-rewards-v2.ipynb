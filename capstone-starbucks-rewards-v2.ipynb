{
 "cells": [
  {
   "cell_type": "markdown",
   "id": "3a4c10e4",
   "metadata": {},
   "source": [
    "# Starbucks Capstone Challenge \n",
    "\n",
    "Project design by Udacity and Starbucks\n",
    "\n",
    "Notebook author: Zhen-Yen Chan\n",
    "\n",
    "Version: 2.0 \n",
    "\n",
    "Date created: 22/08/2022\n",
    "\n",
    "Last updated: 26/08/2022\n",
    "\n",
    "This notebook processes and analyses transaction, demographic and offer data from Starbucks, trains several classification models, performs hyperparameter tuning and produces visualisations to predict which offer type each customer will respond best to. The CRISP-DM process is followed."
   ]
  },
  {
   "cell_type": "markdown",
   "id": "6cb9cc26",
   "metadata": {},
   "source": [
    "## 1. Business Understanding\n",
    "\n",
    "### 1.1 Introduction (this section is provided by Udacity)\n",
    "\n",
    "This data set contains simulated data that mimics customer behavior on the Starbucks rewards mobile app. Once every few days, Starbucks sends out an offer to users of the mobile app. An offer can be merely an advertisement for a drink or an actual offer such as a discount or BOGO (buy one get one free). Some users might not receive any offer during certain weeks. \n",
    "\n",
    "Not all users receive the same offer, and that is the challenge to solve with this data set.\n",
    "\n",
    "Your task is to combine transaction, demographic and offer data to determine which demographic groups respond best to which offer type. This data set is a simplified version of the real Starbucks app because the underlying simulator only has one product whereas Starbucks actually sells dozens of products.\n",
    "\n",
    "Every offer has a validity period before the offer expires. As an example, a BOGO offer might be valid for only 5 days. \n",
    "\n",
    "**Assumption**: Informational offers have a validity period even though these ads are merely providing information about a product; for example, if an informational offer has 7 days of validity, we assume the customer is feeling the influence of the offer for 7 days after receiving the advertisement.\n",
    "\n",
    "You'll be given transactional data showing user purchases made on the app including the timestamp of purchase and the amount of money spent on a purchase. This transactional data also has a record for each offer that a user receives as well as a record for when a user actually views the offer. There are also records for when a user completes an offer. \n",
    "\n",
    "**Caveat**: Someone using the app might make a purchase through the app without having received an offer or seen an offer.\n",
    "\n",
    "To give an example, a user could receive a discount offer buy 10 dollars get 2 off on Monday. The offer is valid for 10 days from receipt. If the customer accumulates at least 10 dollars in purchases during the validity period, the customer completes the offer.\n",
    "\n",
    "Customers do not opt into the offers that they receive; in other words, a user can receive an offer, never actually view the offer, and still complete the offer. For example, a user might receive the \"buy 10 dollars get 2 dollars off offer\", but the user never opens the offer during the 10 day validity period. The customer spends 15 dollars during those ten days. There will be an offer completion record in the data set; however, the customer was not influenced by the offer because the customer never viewed the offer."
   ]
  },
  {
   "cell_type": "markdown",
   "id": "0667e3c9",
   "metadata": {},
   "source": [
    "### 1.2 Problem Formulation\n",
    "\n",
    "In this project, I will build machine learning models to predict whether each customer who has seen an offer will complete it. Customers who did not receive an offer or received but did not view it are not relevant to this analysis."
   ]
  },
  {
   "cell_type": "markdown",
   "id": "bcf1fcca",
   "metadata": {},
   "source": [
    "## 2. Data Understanding\n",
    "\n",
    "### 2.1 Data Sets (this section is provided by Udacity)\n",
    "\n",
    "The data is contained in three files:\n",
    "\n",
    "* portfolio.json - containing offer ids and meta data about each offer (duration, type, etc.)\n",
    "* profile.json - demographic data for each customer\n",
    "* transcript.json - records for transactions, offers received, offers viewed, and offers completed\n",
    "\n",
    "Here is the schema and explanation of each variable in the files:\n",
    "\n",
    "**portfolio.json**\n",
    "* id (string) - offer id\n",
    "* offer_type (string) - type of offer ie BOGO, discount, informational\n",
    "* difficulty (int) - minimum required spend to complete an offer\n",
    "* reward (int) - reward given for completing an offer\n",
    "* duration (int) - time for offer to be open, in days\n",
    "* channels (list of strings)\n",
    "\n",
    "**profile.json**\n",
    "* age (int) - age of the customer \n",
    "* became_member_on (int) - date when customer created an app account\n",
    "* gender (str) - gender of the customer (note some entries contain 'O' for other rather than M or F)\n",
    "* id (str) - customer id\n",
    "* income (float) - customer's income\n",
    "\n",
    "**transcript.json**\n",
    "* event (str) - record description (ie transaction, offer received, offer viewed, etc.)\n",
    "* person (str) - customer id\n",
    "* time (int) - time in hours since start of test. The data begins at time t=0\n",
    "* value - (dict of strings) - either an offer id or transaction amount depending on the record"
   ]
  },
  {
   "cell_type": "markdown",
   "id": "0b3a4782",
   "metadata": {},
   "source": [
    "### 2.2 First look at the data"
   ]
  },
  {
   "cell_type": "code",
   "execution_count": 1,
   "id": "98bd0453",
   "metadata": {
    "scrolled": true
   },
   "outputs": [],
   "source": [
    "# import libraries\n",
    "import numpy as np                               \n",
    "import pandas as pd                               \n",
    "import matplotlib.pyplot as plt                  \n",
    "import seaborn as sns\n",
    "import math\n",
    "import json\n",
    "from sklearn.model_selection import train_test_split\n",
    "from sklearn.pipeline import Pipeline\n",
    "from sklearn.ensemble import RandomForestClassifier\n",
    "from sklearn.impute import SimpleImputer\n",
    "from sklearn.metrics import confusion_matrix, classification_report\n",
    "from sklearn.model_selection import GridSearchCV\n",
    "from catboost import CatBoostClassifier\n",
    "from xgboost import XGBClassifier\n",
    "from lightgbm import LGBMClassifier\n",
    "\n",
    "# adjust output display size\n",
    "pd.set_option('display.max_columns', 500)\n",
    "pd.set_option('display.max_rows', 100)  \n",
    "\n",
    "# read in the json files\n",
    "portfolio = pd.read_json('data/portfolio.json', orient='records', lines=True)\n",
    "profile = pd.read_json('data/profile.json', orient='records', lines=True)\n",
    "transcript = pd.read_json('data/transcript.json', orient='records', lines=True)"
   ]
  },
  {
   "cell_type": "code",
   "execution_count": 2,
   "id": "709f57f6",
   "metadata": {},
   "outputs": [
    {
     "data": {
      "text/html": [
       "<div>\n",
       "<style scoped>\n",
       "    .dataframe tbody tr th:only-of-type {\n",
       "        vertical-align: middle;\n",
       "    }\n",
       "\n",
       "    .dataframe tbody tr th {\n",
       "        vertical-align: top;\n",
       "    }\n",
       "\n",
       "    .dataframe thead th {\n",
       "        text-align: right;\n",
       "    }\n",
       "</style>\n",
       "<table border=\"1\" class=\"dataframe\">\n",
       "  <thead>\n",
       "    <tr style=\"text-align: right;\">\n",
       "      <th></th>\n",
       "      <th>reward</th>\n",
       "      <th>channels</th>\n",
       "      <th>difficulty</th>\n",
       "      <th>duration</th>\n",
       "      <th>offer_type</th>\n",
       "      <th>id</th>\n",
       "    </tr>\n",
       "  </thead>\n",
       "  <tbody>\n",
       "    <tr>\n",
       "      <th>0</th>\n",
       "      <td>10</td>\n",
       "      <td>[email, mobile, social]</td>\n",
       "      <td>10</td>\n",
       "      <td>7</td>\n",
       "      <td>bogo</td>\n",
       "      <td>ae264e3637204a6fb9bb56bc8210ddfd</td>\n",
       "    </tr>\n",
       "    <tr>\n",
       "      <th>1</th>\n",
       "      <td>10</td>\n",
       "      <td>[web, email, mobile, social]</td>\n",
       "      <td>10</td>\n",
       "      <td>5</td>\n",
       "      <td>bogo</td>\n",
       "      <td>4d5c57ea9a6940dd891ad53e9dbe8da0</td>\n",
       "    </tr>\n",
       "    <tr>\n",
       "      <th>2</th>\n",
       "      <td>0</td>\n",
       "      <td>[web, email, mobile]</td>\n",
       "      <td>0</td>\n",
       "      <td>4</td>\n",
       "      <td>informational</td>\n",
       "      <td>3f207df678b143eea3cee63160fa8bed</td>\n",
       "    </tr>\n",
       "    <tr>\n",
       "      <th>3</th>\n",
       "      <td>5</td>\n",
       "      <td>[web, email, mobile]</td>\n",
       "      <td>5</td>\n",
       "      <td>7</td>\n",
       "      <td>bogo</td>\n",
       "      <td>9b98b8c7a33c4b65b9aebfe6a799e6d9</td>\n",
       "    </tr>\n",
       "    <tr>\n",
       "      <th>4</th>\n",
       "      <td>5</td>\n",
       "      <td>[web, email]</td>\n",
       "      <td>20</td>\n",
       "      <td>10</td>\n",
       "      <td>discount</td>\n",
       "      <td>0b1e1539f2cc45b7b9fa7c272da2e1d7</td>\n",
       "    </tr>\n",
       "    <tr>\n",
       "      <th>5</th>\n",
       "      <td>3</td>\n",
       "      <td>[web, email, mobile, social]</td>\n",
       "      <td>7</td>\n",
       "      <td>7</td>\n",
       "      <td>discount</td>\n",
       "      <td>2298d6c36e964ae4a3e7e9706d1fb8c2</td>\n",
       "    </tr>\n",
       "    <tr>\n",
       "      <th>6</th>\n",
       "      <td>2</td>\n",
       "      <td>[web, email, mobile, social]</td>\n",
       "      <td>10</td>\n",
       "      <td>10</td>\n",
       "      <td>discount</td>\n",
       "      <td>fafdcd668e3743c1bb461111dcafc2a4</td>\n",
       "    </tr>\n",
       "    <tr>\n",
       "      <th>7</th>\n",
       "      <td>0</td>\n",
       "      <td>[email, mobile, social]</td>\n",
       "      <td>0</td>\n",
       "      <td>3</td>\n",
       "      <td>informational</td>\n",
       "      <td>5a8bc65990b245e5a138643cd4eb9837</td>\n",
       "    </tr>\n",
       "    <tr>\n",
       "      <th>8</th>\n",
       "      <td>5</td>\n",
       "      <td>[web, email, mobile, social]</td>\n",
       "      <td>5</td>\n",
       "      <td>5</td>\n",
       "      <td>bogo</td>\n",
       "      <td>f19421c1d4aa40978ebb69ca19b0e20d</td>\n",
       "    </tr>\n",
       "    <tr>\n",
       "      <th>9</th>\n",
       "      <td>2</td>\n",
       "      <td>[web, email, mobile]</td>\n",
       "      <td>10</td>\n",
       "      <td>7</td>\n",
       "      <td>discount</td>\n",
       "      <td>2906b810c7d4411798c6938adc9daaa5</td>\n",
       "    </tr>\n",
       "  </tbody>\n",
       "</table>\n",
       "</div>"
      ],
      "text/plain": [
       "   reward                      channels  difficulty  duration     offer_type  \\\n",
       "0      10       [email, mobile, social]          10         7           bogo   \n",
       "1      10  [web, email, mobile, social]          10         5           bogo   \n",
       "2       0          [web, email, mobile]           0         4  informational   \n",
       "3       5          [web, email, mobile]           5         7           bogo   \n",
       "4       5                  [web, email]          20        10       discount   \n",
       "5       3  [web, email, mobile, social]           7         7       discount   \n",
       "6       2  [web, email, mobile, social]          10        10       discount   \n",
       "7       0       [email, mobile, social]           0         3  informational   \n",
       "8       5  [web, email, mobile, social]           5         5           bogo   \n",
       "9       2          [web, email, mobile]          10         7       discount   \n",
       "\n",
       "                                 id  \n",
       "0  ae264e3637204a6fb9bb56bc8210ddfd  \n",
       "1  4d5c57ea9a6940dd891ad53e9dbe8da0  \n",
       "2  3f207df678b143eea3cee63160fa8bed  \n",
       "3  9b98b8c7a33c4b65b9aebfe6a799e6d9  \n",
       "4  0b1e1539f2cc45b7b9fa7c272da2e1d7  \n",
       "5  2298d6c36e964ae4a3e7e9706d1fb8c2  \n",
       "6  fafdcd668e3743c1bb461111dcafc2a4  \n",
       "7  5a8bc65990b245e5a138643cd4eb9837  \n",
       "8  f19421c1d4aa40978ebb69ca19b0e20d  \n",
       "9  2906b810c7d4411798c6938adc9daaa5  "
      ]
     },
     "execution_count": 2,
     "metadata": {},
     "output_type": "execute_result"
    }
   ],
   "source": [
    "# preview portfolio data\n",
    "portfolio"
   ]
  },
  {
   "cell_type": "code",
   "execution_count": 3,
   "id": "a234c0b5",
   "metadata": {
    "scrolled": true
   },
   "outputs": [
    {
     "name": "stdout",
     "output_type": "stream",
     "text": [
      "<class 'pandas.core.frame.DataFrame'>\n",
      "RangeIndex: 10 entries, 0 to 9\n",
      "Data columns (total 6 columns):\n",
      " #   Column      Non-Null Count  Dtype \n",
      "---  ------      --------------  ----- \n",
      " 0   reward      10 non-null     int64 \n",
      " 1   channels    10 non-null     object\n",
      " 2   difficulty  10 non-null     int64 \n",
      " 3   duration    10 non-null     int64 \n",
      " 4   offer_type  10 non-null     object\n",
      " 5   id          10 non-null     object\n",
      "dtypes: int64(3), object(3)\n",
      "memory usage: 608.0+ bytes\n"
     ]
    }
   ],
   "source": [
    "# get data types and count of missing values\n",
    "portfolio.info()\n",
    "\n",
    "# there are no missing values"
   ]
  },
  {
   "cell_type": "code",
   "execution_count": 4,
   "id": "e01d1367",
   "metadata": {},
   "outputs": [],
   "source": [
    "# list available channels and convert channels column to string\n",
    "channel_names = ['web', 'email', 'mobile', 'social']\n",
    "portfolio['channels'] = portfolio['channels'].astype(str)"
   ]
  },
  {
   "cell_type": "code",
   "execution_count": 5,
   "id": "184196c7",
   "metadata": {},
   "outputs": [
    {
     "data": {
      "text/html": [
       "<div>\n",
       "<style scoped>\n",
       "    .dataframe tbody tr th:only-of-type {\n",
       "        vertical-align: middle;\n",
       "    }\n",
       "\n",
       "    .dataframe tbody tr th {\n",
       "        vertical-align: top;\n",
       "    }\n",
       "\n",
       "    .dataframe thead th {\n",
       "        text-align: right;\n",
       "    }\n",
       "</style>\n",
       "<table border=\"1\" class=\"dataframe\">\n",
       "  <thead>\n",
       "    <tr style=\"text-align: right;\">\n",
       "      <th></th>\n",
       "      <th>reward</th>\n",
       "      <th>difficulty</th>\n",
       "      <th>duration</th>\n",
       "      <th>offer_type</th>\n",
       "      <th>id</th>\n",
       "      <th>web</th>\n",
       "      <th>email</th>\n",
       "      <th>mobile</th>\n",
       "      <th>social</th>\n",
       "    </tr>\n",
       "  </thead>\n",
       "  <tbody>\n",
       "    <tr>\n",
       "      <th>0</th>\n",
       "      <td>10</td>\n",
       "      <td>10</td>\n",
       "      <td>7</td>\n",
       "      <td>bogo</td>\n",
       "      <td>ae264e3637204a6fb9bb56bc8210ddfd</td>\n",
       "      <td>0</td>\n",
       "      <td>1</td>\n",
       "      <td>1</td>\n",
       "      <td>1</td>\n",
       "    </tr>\n",
       "    <tr>\n",
       "      <th>1</th>\n",
       "      <td>10</td>\n",
       "      <td>10</td>\n",
       "      <td>5</td>\n",
       "      <td>bogo</td>\n",
       "      <td>4d5c57ea9a6940dd891ad53e9dbe8da0</td>\n",
       "      <td>1</td>\n",
       "      <td>1</td>\n",
       "      <td>1</td>\n",
       "      <td>1</td>\n",
       "    </tr>\n",
       "    <tr>\n",
       "      <th>2</th>\n",
       "      <td>0</td>\n",
       "      <td>0</td>\n",
       "      <td>4</td>\n",
       "      <td>informational</td>\n",
       "      <td>3f207df678b143eea3cee63160fa8bed</td>\n",
       "      <td>1</td>\n",
       "      <td>1</td>\n",
       "      <td>1</td>\n",
       "      <td>0</td>\n",
       "    </tr>\n",
       "    <tr>\n",
       "      <th>3</th>\n",
       "      <td>5</td>\n",
       "      <td>5</td>\n",
       "      <td>7</td>\n",
       "      <td>bogo</td>\n",
       "      <td>9b98b8c7a33c4b65b9aebfe6a799e6d9</td>\n",
       "      <td>1</td>\n",
       "      <td>1</td>\n",
       "      <td>1</td>\n",
       "      <td>0</td>\n",
       "    </tr>\n",
       "    <tr>\n",
       "      <th>4</th>\n",
       "      <td>5</td>\n",
       "      <td>20</td>\n",
       "      <td>10</td>\n",
       "      <td>discount</td>\n",
       "      <td>0b1e1539f2cc45b7b9fa7c272da2e1d7</td>\n",
       "      <td>1</td>\n",
       "      <td>1</td>\n",
       "      <td>0</td>\n",
       "      <td>0</td>\n",
       "    </tr>\n",
       "    <tr>\n",
       "      <th>5</th>\n",
       "      <td>3</td>\n",
       "      <td>7</td>\n",
       "      <td>7</td>\n",
       "      <td>discount</td>\n",
       "      <td>2298d6c36e964ae4a3e7e9706d1fb8c2</td>\n",
       "      <td>1</td>\n",
       "      <td>1</td>\n",
       "      <td>1</td>\n",
       "      <td>1</td>\n",
       "    </tr>\n",
       "    <tr>\n",
       "      <th>6</th>\n",
       "      <td>2</td>\n",
       "      <td>10</td>\n",
       "      <td>10</td>\n",
       "      <td>discount</td>\n",
       "      <td>fafdcd668e3743c1bb461111dcafc2a4</td>\n",
       "      <td>1</td>\n",
       "      <td>1</td>\n",
       "      <td>1</td>\n",
       "      <td>1</td>\n",
       "    </tr>\n",
       "    <tr>\n",
       "      <th>7</th>\n",
       "      <td>0</td>\n",
       "      <td>0</td>\n",
       "      <td>3</td>\n",
       "      <td>informational</td>\n",
       "      <td>5a8bc65990b245e5a138643cd4eb9837</td>\n",
       "      <td>0</td>\n",
       "      <td>1</td>\n",
       "      <td>1</td>\n",
       "      <td>1</td>\n",
       "    </tr>\n",
       "    <tr>\n",
       "      <th>8</th>\n",
       "      <td>5</td>\n",
       "      <td>5</td>\n",
       "      <td>5</td>\n",
       "      <td>bogo</td>\n",
       "      <td>f19421c1d4aa40978ebb69ca19b0e20d</td>\n",
       "      <td>1</td>\n",
       "      <td>1</td>\n",
       "      <td>1</td>\n",
       "      <td>1</td>\n",
       "    </tr>\n",
       "    <tr>\n",
       "      <th>9</th>\n",
       "      <td>2</td>\n",
       "      <td>10</td>\n",
       "      <td>7</td>\n",
       "      <td>discount</td>\n",
       "      <td>2906b810c7d4411798c6938adc9daaa5</td>\n",
       "      <td>1</td>\n",
       "      <td>1</td>\n",
       "      <td>1</td>\n",
       "      <td>0</td>\n",
       "    </tr>\n",
       "  </tbody>\n",
       "</table>\n",
       "</div>"
      ],
      "text/plain": [
       "   reward  difficulty  duration     offer_type  \\\n",
       "0      10          10         7           bogo   \n",
       "1      10          10         5           bogo   \n",
       "2       0           0         4  informational   \n",
       "3       5           5         7           bogo   \n",
       "4       5          20        10       discount   \n",
       "5       3           7         7       discount   \n",
       "6       2          10        10       discount   \n",
       "7       0           0         3  informational   \n",
       "8       5           5         5           bogo   \n",
       "9       2          10         7       discount   \n",
       "\n",
       "                                 id  web  email  mobile  social  \n",
       "0  ae264e3637204a6fb9bb56bc8210ddfd    0      1       1       1  \n",
       "1  4d5c57ea9a6940dd891ad53e9dbe8da0    1      1       1       1  \n",
       "2  3f207df678b143eea3cee63160fa8bed    1      1       1       0  \n",
       "3  9b98b8c7a33c4b65b9aebfe6a799e6d9    1      1       1       0  \n",
       "4  0b1e1539f2cc45b7b9fa7c272da2e1d7    1      1       0       0  \n",
       "5  2298d6c36e964ae4a3e7e9706d1fb8c2    1      1       1       1  \n",
       "6  fafdcd668e3743c1bb461111dcafc2a4    1      1       1       1  \n",
       "7  5a8bc65990b245e5a138643cd4eb9837    0      1       1       1  \n",
       "8  f19421c1d4aa40978ebb69ca19b0e20d    1      1       1       1  \n",
       "9  2906b810c7d4411798c6938adc9daaa5    1      1       1       0  "
      ]
     },
     "execution_count": 5,
     "metadata": {},
     "output_type": "execute_result"
    }
   ],
   "source": [
    "# expand the channels column into dummy columns for each channel\n",
    "for channel in channel_names:\n",
    "    portfolio[channel] = np.where(portfolio['channels'].str.contains(channel), 1, 0)\n",
    "portfolio = portfolio.drop('channels', axis = 1)\n",
    "portfolio"
   ]
  },
  {
   "cell_type": "code",
   "execution_count": 6,
   "id": "c75e707c",
   "metadata": {},
   "outputs": [
    {
     "data": {
      "text/plain": [
       "['bogo', 'informational', 'discount']"
      ]
     },
     "execution_count": 6,
     "metadata": {},
     "output_type": "execute_result"
    }
   ],
   "source": [
    "list(portfolio.offer_type.unique())"
   ]
  },
  {
   "cell_type": "code",
   "execution_count": 7,
   "id": "3234f30b",
   "metadata": {},
   "outputs": [
    {
     "name": "stdout",
     "output_type": "stream",
     "text": [
      "The portfolio dataset provides information on 10 offers with 3 offer types (['bogo', 'informational', 'discount']) delivered through 4 channels (['web', 'email', 'mobile', 'social']).\n"
     ]
    }
   ],
   "source": [
    "# get summary counts\n",
    "num_offers = portfolio.id.nunique()\n",
    "num_offer_types = portfolio.offer_type.nunique()\n",
    "offer_type_names = list(portfolio.offer_type.unique())\n",
    "num_channels = len(channel_names)\n",
    "\n",
    "print(f\"The portfolio dataset provides information on {num_offers} offers with {num_offer_types} offer types ({offer_type_names}) delivered through {num_channels} channels ({channel_names}).\")"
   ]
  },
  {
   "cell_type": "code",
   "execution_count": 8,
   "id": "5af2e775",
   "metadata": {
    "scrolled": true
   },
   "outputs": [
    {
     "data": {
      "text/html": [
       "<div>\n",
       "<style scoped>\n",
       "    .dataframe tbody tr th:only-of-type {\n",
       "        vertical-align: middle;\n",
       "    }\n",
       "\n",
       "    .dataframe tbody tr th {\n",
       "        vertical-align: top;\n",
       "    }\n",
       "\n",
       "    .dataframe thead th {\n",
       "        text-align: right;\n",
       "    }\n",
       "</style>\n",
       "<table border=\"1\" class=\"dataframe\">\n",
       "  <thead>\n",
       "    <tr style=\"text-align: right;\">\n",
       "      <th></th>\n",
       "      <th>gender</th>\n",
       "      <th>age</th>\n",
       "      <th>id</th>\n",
       "      <th>became_member_on</th>\n",
       "      <th>income</th>\n",
       "    </tr>\n",
       "  </thead>\n",
       "  <tbody>\n",
       "    <tr>\n",
       "      <th>0</th>\n",
       "      <td>None</td>\n",
       "      <td>118</td>\n",
       "      <td>68be06ca386d4c31939f3a4f0e3dd783</td>\n",
       "      <td>20170212</td>\n",
       "      <td>NaN</td>\n",
       "    </tr>\n",
       "    <tr>\n",
       "      <th>1</th>\n",
       "      <td>F</td>\n",
       "      <td>55</td>\n",
       "      <td>0610b486422d4921ae7d2bf64640c50b</td>\n",
       "      <td>20170715</td>\n",
       "      <td>112000.0</td>\n",
       "    </tr>\n",
       "    <tr>\n",
       "      <th>2</th>\n",
       "      <td>None</td>\n",
       "      <td>118</td>\n",
       "      <td>38fe809add3b4fcf9315a9694bb96ff5</td>\n",
       "      <td>20180712</td>\n",
       "      <td>NaN</td>\n",
       "    </tr>\n",
       "    <tr>\n",
       "      <th>3</th>\n",
       "      <td>F</td>\n",
       "      <td>75</td>\n",
       "      <td>78afa995795e4d85b5d9ceeca43f5fef</td>\n",
       "      <td>20170509</td>\n",
       "      <td>100000.0</td>\n",
       "    </tr>\n",
       "    <tr>\n",
       "      <th>4</th>\n",
       "      <td>None</td>\n",
       "      <td>118</td>\n",
       "      <td>a03223e636434f42ac4c3df47e8bac43</td>\n",
       "      <td>20170804</td>\n",
       "      <td>NaN</td>\n",
       "    </tr>\n",
       "  </tbody>\n",
       "</table>\n",
       "</div>"
      ],
      "text/plain": [
       "  gender  age                                id  became_member_on    income\n",
       "0   None  118  68be06ca386d4c31939f3a4f0e3dd783          20170212       NaN\n",
       "1      F   55  0610b486422d4921ae7d2bf64640c50b          20170715  112000.0\n",
       "2   None  118  38fe809add3b4fcf9315a9694bb96ff5          20180712       NaN\n",
       "3      F   75  78afa995795e4d85b5d9ceeca43f5fef          20170509  100000.0\n",
       "4   None  118  a03223e636434f42ac4c3df47e8bac43          20170804       NaN"
      ]
     },
     "execution_count": 8,
     "metadata": {},
     "output_type": "execute_result"
    }
   ],
   "source": [
    "# load the profile dataset\n",
    "profile.head()"
   ]
  },
  {
   "cell_type": "code",
   "execution_count": 9,
   "id": "18e325bb",
   "metadata": {
    "scrolled": true
   },
   "outputs": [
    {
     "name": "stdout",
     "output_type": "stream",
     "text": [
      "<class 'pandas.core.frame.DataFrame'>\n",
      "RangeIndex: 17000 entries, 0 to 16999\n",
      "Data columns (total 5 columns):\n",
      " #   Column            Non-Null Count  Dtype  \n",
      "---  ------            --------------  -----  \n",
      " 0   gender            14825 non-null  object \n",
      " 1   age               17000 non-null  int64  \n",
      " 2   id                17000 non-null  object \n",
      " 3   became_member_on  17000 non-null  int64  \n",
      " 4   income            14825 non-null  float64\n",
      "dtypes: float64(1), int64(2), object(2)\n",
      "memory usage: 664.2+ KB\n"
     ]
    }
   ],
   "source": [
    "# get data types and count of missing values\n",
    "profile.info()\n",
    "\n",
    "# we need to deal with missing values for gender and income later"
   ]
  },
  {
   "cell_type": "code",
   "execution_count": 10,
   "id": "02098643",
   "metadata": {
    "scrolled": true
   },
   "outputs": [
    {
     "name": "stdout",
     "output_type": "stream",
     "text": [
      "The profile dataset provides information on 17000 customers between the ages of 18 and 118. These customers have an income range between 30000.0 and 120000.0\n"
     ]
    }
   ],
   "source": [
    "# get summary counts\n",
    "\n",
    "num_customers = profile.id.nunique()\n",
    "min_age = profile.age.min()\n",
    "max_age = profile.age.max()\n",
    "min_income = profile.income.min()\n",
    "max_income = profile.income.max()\n",
    "\n",
    "print(f\"The profile dataset provides information on {num_customers} customers between the ages of {min_age} and {max_age}. These customers have an income range between {min_income} and {max_income}\")"
   ]
  },
  {
   "cell_type": "code",
   "execution_count": 11,
   "id": "57c2f79f",
   "metadata": {
    "scrolled": true
   },
   "outputs": [
    {
     "data": {
      "text/html": [
       "<div>\n",
       "<style scoped>\n",
       "    .dataframe tbody tr th:only-of-type {\n",
       "        vertical-align: middle;\n",
       "    }\n",
       "\n",
       "    .dataframe tbody tr th {\n",
       "        vertical-align: top;\n",
       "    }\n",
       "\n",
       "    .dataframe thead th {\n",
       "        text-align: right;\n",
       "    }\n",
       "</style>\n",
       "<table border=\"1\" class=\"dataframe\">\n",
       "  <thead>\n",
       "    <tr style=\"text-align: right;\">\n",
       "      <th></th>\n",
       "      <th>person</th>\n",
       "      <th>event</th>\n",
       "      <th>value</th>\n",
       "      <th>time</th>\n",
       "    </tr>\n",
       "  </thead>\n",
       "  <tbody>\n",
       "    <tr>\n",
       "      <th>0</th>\n",
       "      <td>78afa995795e4d85b5d9ceeca43f5fef</td>\n",
       "      <td>offer received</td>\n",
       "      <td>{'offer id': '9b98b8c7a33c4b65b9aebfe6a799e6d9'}</td>\n",
       "      <td>0</td>\n",
       "    </tr>\n",
       "    <tr>\n",
       "      <th>1</th>\n",
       "      <td>a03223e636434f42ac4c3df47e8bac43</td>\n",
       "      <td>offer received</td>\n",
       "      <td>{'offer id': '0b1e1539f2cc45b7b9fa7c272da2e1d7'}</td>\n",
       "      <td>0</td>\n",
       "    </tr>\n",
       "    <tr>\n",
       "      <th>2</th>\n",
       "      <td>e2127556f4f64592b11af22de27a7932</td>\n",
       "      <td>offer received</td>\n",
       "      <td>{'offer id': '2906b810c7d4411798c6938adc9daaa5'}</td>\n",
       "      <td>0</td>\n",
       "    </tr>\n",
       "    <tr>\n",
       "      <th>3</th>\n",
       "      <td>8ec6ce2a7e7949b1bf142def7d0e0586</td>\n",
       "      <td>offer received</td>\n",
       "      <td>{'offer id': 'fafdcd668e3743c1bb461111dcafc2a4'}</td>\n",
       "      <td>0</td>\n",
       "    </tr>\n",
       "    <tr>\n",
       "      <th>4</th>\n",
       "      <td>68617ca6246f4fbc85e91a2a49552598</td>\n",
       "      <td>offer received</td>\n",
       "      <td>{'offer id': '4d5c57ea9a6940dd891ad53e9dbe8da0'}</td>\n",
       "      <td>0</td>\n",
       "    </tr>\n",
       "  </tbody>\n",
       "</table>\n",
       "</div>"
      ],
      "text/plain": [
       "                             person           event  \\\n",
       "0  78afa995795e4d85b5d9ceeca43f5fef  offer received   \n",
       "1  a03223e636434f42ac4c3df47e8bac43  offer received   \n",
       "2  e2127556f4f64592b11af22de27a7932  offer received   \n",
       "3  8ec6ce2a7e7949b1bf142def7d0e0586  offer received   \n",
       "4  68617ca6246f4fbc85e91a2a49552598  offer received   \n",
       "\n",
       "                                              value  time  \n",
       "0  {'offer id': '9b98b8c7a33c4b65b9aebfe6a799e6d9'}     0  \n",
       "1  {'offer id': '0b1e1539f2cc45b7b9fa7c272da2e1d7'}     0  \n",
       "2  {'offer id': '2906b810c7d4411798c6938adc9daaa5'}     0  \n",
       "3  {'offer id': 'fafdcd668e3743c1bb461111dcafc2a4'}     0  \n",
       "4  {'offer id': '4d5c57ea9a6940dd891ad53e9dbe8da0'}     0  "
      ]
     },
     "execution_count": 11,
     "metadata": {},
     "output_type": "execute_result"
    }
   ],
   "source": [
    "# load the transcript dataset\n",
    "transcript.head(5)"
   ]
  },
  {
   "cell_type": "code",
   "execution_count": 12,
   "id": "f5d2c218",
   "metadata": {
    "scrolled": true
   },
   "outputs": [
    {
     "name": "stdout",
     "output_type": "stream",
     "text": [
      "<class 'pandas.core.frame.DataFrame'>\n",
      "RangeIndex: 306534 entries, 0 to 306533\n",
      "Data columns (total 4 columns):\n",
      " #   Column  Non-Null Count   Dtype \n",
      "---  ------  --------------   ----- \n",
      " 0   person  306534 non-null  object\n",
      " 1   event   306534 non-null  object\n",
      " 2   value   306534 non-null  object\n",
      " 3   time    306534 non-null  int64 \n",
      "dtypes: int64(1), object(3)\n",
      "memory usage: 9.4+ MB\n"
     ]
    }
   ],
   "source": [
    "# get data types and count of missing values\n",
    "transcript.info()\n",
    "\n",
    "# there are no missing values"
   ]
  },
  {
   "cell_type": "code",
   "execution_count": 13,
   "id": "35f81c33",
   "metadata": {},
   "outputs": [
    {
     "name": "stdout",
     "output_type": "stream",
     "text": [
      "The original transcript dataset provides information on 306534 records of activity (['offer received' 'offer viewed' 'transaction' 'offer completed']) over a test period of 29.75 days for 17000 customers.\n"
     ]
    }
   ],
   "source": [
    "# get summary counts\n",
    "\n",
    "num_records = transcript.shape[0]\n",
    "event_names = transcript.event.unique()\n",
    "num_customers_initial = transcript.person.nunique()\n",
    "test_duration = transcript.time.max()/24\n",
    "\n",
    "print(f\"The original transcript dataset provides information on {num_records} records of activity ({event_names}) over a test period of {test_duration} days for {num_customers_initial} customers.\")"
   ]
  },
  {
   "cell_type": "code",
   "execution_count": 14,
   "id": "5c0aa30c",
   "metadata": {},
   "outputs": [],
   "source": [
    "# select the events 'offer viewed' and 'offer completed' only \n",
    "transcript = transcript[transcript.event.isin(['offer viewed', 'offer completed'])]"
   ]
  },
  {
   "cell_type": "code",
   "execution_count": 15,
   "id": "0358c4b2",
   "metadata": {
    "scrolled": true
   },
   "outputs": [
    {
     "data": {
      "text/html": [
       "<div>\n",
       "<style scoped>\n",
       "    .dataframe tbody tr th:only-of-type {\n",
       "        vertical-align: middle;\n",
       "    }\n",
       "\n",
       "    .dataframe tbody tr th {\n",
       "        vertical-align: top;\n",
       "    }\n",
       "\n",
       "    .dataframe thead th {\n",
       "        text-align: right;\n",
       "    }\n",
       "</style>\n",
       "<table border=\"1\" class=\"dataframe\">\n",
       "  <thead>\n",
       "    <tr style=\"text-align: right;\">\n",
       "      <th></th>\n",
       "      <th>person</th>\n",
       "      <th>event</th>\n",
       "      <th>value</th>\n",
       "      <th>time</th>\n",
       "    </tr>\n",
       "  </thead>\n",
       "  <tbody>\n",
       "    <tr>\n",
       "      <th>77705</th>\n",
       "      <td>0009655768c64bdeb2e877511632db8f</td>\n",
       "      <td>offer viewed</td>\n",
       "      <td>{'offer id': '5a8bc65990b245e5a138643cd4eb9837'}</td>\n",
       "      <td>192</td>\n",
       "    </tr>\n",
       "    <tr>\n",
       "      <th>139992</th>\n",
       "      <td>0009655768c64bdeb2e877511632db8f</td>\n",
       "      <td>offer viewed</td>\n",
       "      <td>{'offer id': '3f207df678b143eea3cee63160fa8bed'}</td>\n",
       "      <td>372</td>\n",
       "    </tr>\n",
       "    <tr>\n",
       "      <th>168413</th>\n",
       "      <td>0009655768c64bdeb2e877511632db8f</td>\n",
       "      <td>offer completed</td>\n",
       "      <td>{'offer_id': 'f19421c1d4aa40978ebb69ca19b0e20d...</td>\n",
       "      <td>414</td>\n",
       "    </tr>\n",
       "    <tr>\n",
       "      <th>187554</th>\n",
       "      <td>0009655768c64bdeb2e877511632db8f</td>\n",
       "      <td>offer viewed</td>\n",
       "      <td>{'offer id': 'f19421c1d4aa40978ebb69ca19b0e20d'}</td>\n",
       "      <td>456</td>\n",
       "    </tr>\n",
       "    <tr>\n",
       "      <th>228423</th>\n",
       "      <td>0009655768c64bdeb2e877511632db8f</td>\n",
       "      <td>offer completed</td>\n",
       "      <td>{'offer_id': 'fafdcd668e3743c1bb461111dcafc2a4...</td>\n",
       "      <td>528</td>\n",
       "    </tr>\n",
       "    <tr>\n",
       "      <th>233413</th>\n",
       "      <td>0009655768c64bdeb2e877511632db8f</td>\n",
       "      <td>offer viewed</td>\n",
       "      <td>{'offer id': 'fafdcd668e3743c1bb461111dcafc2a4'}</td>\n",
       "      <td>540</td>\n",
       "    </tr>\n",
       "    <tr>\n",
       "      <th>258884</th>\n",
       "      <td>0009655768c64bdeb2e877511632db8f</td>\n",
       "      <td>offer completed</td>\n",
       "      <td>{'offer_id': '2906b810c7d4411798c6938adc9daaa5...</td>\n",
       "      <td>576</td>\n",
       "    </tr>\n",
       "  </tbody>\n",
       "</table>\n",
       "</div>"
      ],
      "text/plain": [
       "                                  person            event  \\\n",
       "77705   0009655768c64bdeb2e877511632db8f     offer viewed   \n",
       "139992  0009655768c64bdeb2e877511632db8f     offer viewed   \n",
       "168413  0009655768c64bdeb2e877511632db8f  offer completed   \n",
       "187554  0009655768c64bdeb2e877511632db8f     offer viewed   \n",
       "228423  0009655768c64bdeb2e877511632db8f  offer completed   \n",
       "233413  0009655768c64bdeb2e877511632db8f     offer viewed   \n",
       "258884  0009655768c64bdeb2e877511632db8f  offer completed   \n",
       "\n",
       "                                                    value  time  \n",
       "77705    {'offer id': '5a8bc65990b245e5a138643cd4eb9837'}   192  \n",
       "139992   {'offer id': '3f207df678b143eea3cee63160fa8bed'}   372  \n",
       "168413  {'offer_id': 'f19421c1d4aa40978ebb69ca19b0e20d...   414  \n",
       "187554   {'offer id': 'f19421c1d4aa40978ebb69ca19b0e20d'}   456  \n",
       "228423  {'offer_id': 'fafdcd668e3743c1bb461111dcafc2a4...   528  \n",
       "233413   {'offer id': 'fafdcd668e3743c1bb461111dcafc2a4'}   540  \n",
       "258884  {'offer_id': '2906b810c7d4411798c6938adc9daaa5...   576  "
      ]
     },
     "execution_count": 15,
     "metadata": {},
     "output_type": "execute_result"
    }
   ],
   "source": [
    "# deep dive into one customer\n",
    "transcript[transcript.person == '0009655768c64bdeb2e877511632db8f'].sort_values(['person', 'time'])"
   ]
  },
  {
   "cell_type": "markdown",
   "id": "267029f5",
   "metadata": {},
   "source": [
    "We see that this customer completed 3 different offers during the test period but observing the time column tells us that they did not actually view any offers before completing it. We want to remove these customers from analysis."
   ]
  },
  {
   "cell_type": "markdown",
   "id": "c8b6c5a1",
   "metadata": {},
   "source": [
    "## 3. Data Preparation"
   ]
  },
  {
   "cell_type": "markdown",
   "id": "2f07e85d",
   "metadata": {},
   "source": [
    "### 3.1 Transform the transcript table and select customers of interest"
   ]
  },
  {
   "cell_type": "code",
   "execution_count": 16,
   "id": "c35035f1",
   "metadata": {},
   "outputs": [
    {
     "data": {
      "text/plain": [
       "10"
      ]
     },
     "execution_count": 16,
     "metadata": {},
     "output_type": "execute_result"
    }
   ],
   "source": [
    "# extract offer id only from the value column and drop the original column\n",
    "transcript['offer_id'] = transcript['value'].apply(lambda x: list(x.values())[0])\n",
    "transcript = transcript.drop('value', axis=1)\n",
    "# sort and rearrange columns for readability\n",
    "transcript = transcript.sort_values(['person', 'offer_id', 'event', 'time'])\n",
    "transcript = transcript[['person', 'offer_id', 'event', 'time']]\n",
    "# check number of different offer_ids returned\n",
    "transcript.offer_id.nunique()"
   ]
  },
  {
   "cell_type": "code",
   "execution_count": 17,
   "id": "5aab835d",
   "metadata": {
    "scrolled": true
   },
   "outputs": [],
   "source": [
    "def get_complete_time(row):\n",
    "    if row['event']=='offer completed':\n",
    "        complete_time = row['time']\n",
    "    else:\n",
    "        complete_time = np.nan\n",
    "    return complete_time\n",
    "\n",
    "def get_view_time(row):\n",
    "    if row['event']=='offer viewed':\n",
    "        view_time = row['time']\n",
    "    else:\n",
    "        view_time = np.nan\n",
    "    return view_time\n",
    "\n",
    "transcript['complete_time'] = transcript.apply(get_complete_time, axis=1)\n",
    "transcript['view_time'] = transcript.apply(get_view_time, axis=1)"
   ]
  },
  {
   "cell_type": "code",
   "execution_count": 18,
   "id": "9aba4e31",
   "metadata": {},
   "outputs": [
    {
     "data": {
      "text/html": [
       "<div>\n",
       "<style scoped>\n",
       "    .dataframe tbody tr th:only-of-type {\n",
       "        vertical-align: middle;\n",
       "    }\n",
       "\n",
       "    .dataframe tbody tr th {\n",
       "        vertical-align: top;\n",
       "    }\n",
       "\n",
       "    .dataframe thead th {\n",
       "        text-align: right;\n",
       "    }\n",
       "</style>\n",
       "<table border=\"1\" class=\"dataframe\">\n",
       "  <thead>\n",
       "    <tr style=\"text-align: right;\">\n",
       "      <th></th>\n",
       "      <th>person</th>\n",
       "      <th>offer_id</th>\n",
       "      <th>event</th>\n",
       "      <th>time</th>\n",
       "      <th>complete_time</th>\n",
       "      <th>view_time</th>\n",
       "    </tr>\n",
       "  </thead>\n",
       "  <tbody>\n",
       "    <tr>\n",
       "      <th>79668</th>\n",
       "      <td>ffff82501cea40309d5fdd7edcca4a07</td>\n",
       "      <td>0b1e1539f2cc45b7b9fa7c272da2e1d7</td>\n",
       "      <td>offer completed</td>\n",
       "      <td>198</td>\n",
       "      <td>198.0</td>\n",
       "      <td>NaN</td>\n",
       "    </tr>\n",
       "    <tr>\n",
       "      <th>69626</th>\n",
       "      <td>ffff82501cea40309d5fdd7edcca4a07</td>\n",
       "      <td>0b1e1539f2cc45b7b9fa7c272da2e1d7</td>\n",
       "      <td>offer viewed</td>\n",
       "      <td>174</td>\n",
       "      <td>NaN</td>\n",
       "      <td>174.0</td>\n",
       "    </tr>\n",
       "    <tr>\n",
       "      <th>143788</th>\n",
       "      <td>ffff82501cea40309d5fdd7edcca4a07</td>\n",
       "      <td>2906b810c7d4411798c6938adc9daaa5</td>\n",
       "      <td>offer completed</td>\n",
       "      <td>384</td>\n",
       "      <td>384.0</td>\n",
       "      <td>NaN</td>\n",
       "    </tr>\n",
       "    <tr>\n",
       "      <th>168024</th>\n",
       "      <td>ffff82501cea40309d5fdd7edcca4a07</td>\n",
       "      <td>2906b810c7d4411798c6938adc9daaa5</td>\n",
       "      <td>offer completed</td>\n",
       "      <td>414</td>\n",
       "      <td>414.0</td>\n",
       "      <td>NaN</td>\n",
       "    </tr>\n",
       "    <tr>\n",
       "      <th>258362</th>\n",
       "      <td>ffff82501cea40309d5fdd7edcca4a07</td>\n",
       "      <td>2906b810c7d4411798c6938adc9daaa5</td>\n",
       "      <td>offer completed</td>\n",
       "      <td>576</td>\n",
       "      <td>576.0</td>\n",
       "      <td>NaN</td>\n",
       "    </tr>\n",
       "    <tr>\n",
       "      <th>133074</th>\n",
       "      <td>ffff82501cea40309d5fdd7edcca4a07</td>\n",
       "      <td>2906b810c7d4411798c6938adc9daaa5</td>\n",
       "      <td>offer viewed</td>\n",
       "      <td>354</td>\n",
       "      <td>NaN</td>\n",
       "      <td>354.0</td>\n",
       "    </tr>\n",
       "    <tr>\n",
       "      <th>168022</th>\n",
       "      <td>ffff82501cea40309d5fdd7edcca4a07</td>\n",
       "      <td>2906b810c7d4411798c6938adc9daaa5</td>\n",
       "      <td>offer viewed</td>\n",
       "      <td>414</td>\n",
       "      <td>NaN</td>\n",
       "      <td>414.0</td>\n",
       "    </tr>\n",
       "    <tr>\n",
       "      <th>262475</th>\n",
       "      <td>ffff82501cea40309d5fdd7edcca4a07</td>\n",
       "      <td>2906b810c7d4411798c6938adc9daaa5</td>\n",
       "      <td>offer viewed</td>\n",
       "      <td>582</td>\n",
       "      <td>NaN</td>\n",
       "      <td>582.0</td>\n",
       "    </tr>\n",
       "    <tr>\n",
       "      <th>214717</th>\n",
       "      <td>ffff82501cea40309d5fdd7edcca4a07</td>\n",
       "      <td>9b98b8c7a33c4b65b9aebfe6a799e6d9</td>\n",
       "      <td>offer completed</td>\n",
       "      <td>504</td>\n",
       "      <td>504.0</td>\n",
       "      <td>NaN</td>\n",
       "    </tr>\n",
       "    <tr>\n",
       "      <th>230690</th>\n",
       "      <td>ffff82501cea40309d5fdd7edcca4a07</td>\n",
       "      <td>9b98b8c7a33c4b65b9aebfe6a799e6d9</td>\n",
       "      <td>offer viewed</td>\n",
       "      <td>534</td>\n",
       "      <td>NaN</td>\n",
       "      <td>534.0</td>\n",
       "    </tr>\n",
       "    <tr>\n",
       "      <th>32763</th>\n",
       "      <td>ffff82501cea40309d5fdd7edcca4a07</td>\n",
       "      <td>fafdcd668e3743c1bb461111dcafc2a4</td>\n",
       "      <td>offer completed</td>\n",
       "      <td>60</td>\n",
       "      <td>60.0</td>\n",
       "      <td>NaN</td>\n",
       "    </tr>\n",
       "    <tr>\n",
       "      <th>15836</th>\n",
       "      <td>ffff82501cea40309d5fdd7edcca4a07</td>\n",
       "      <td>fafdcd668e3743c1bb461111dcafc2a4</td>\n",
       "      <td>offer viewed</td>\n",
       "      <td>6</td>\n",
       "      <td>NaN</td>\n",
       "      <td>6.0</td>\n",
       "    </tr>\n",
       "  </tbody>\n",
       "</table>\n",
       "</div>"
      ],
      "text/plain": [
       "                                  person                          offer_id  \\\n",
       "79668   ffff82501cea40309d5fdd7edcca4a07  0b1e1539f2cc45b7b9fa7c272da2e1d7   \n",
       "69626   ffff82501cea40309d5fdd7edcca4a07  0b1e1539f2cc45b7b9fa7c272da2e1d7   \n",
       "143788  ffff82501cea40309d5fdd7edcca4a07  2906b810c7d4411798c6938adc9daaa5   \n",
       "168024  ffff82501cea40309d5fdd7edcca4a07  2906b810c7d4411798c6938adc9daaa5   \n",
       "258362  ffff82501cea40309d5fdd7edcca4a07  2906b810c7d4411798c6938adc9daaa5   \n",
       "133074  ffff82501cea40309d5fdd7edcca4a07  2906b810c7d4411798c6938adc9daaa5   \n",
       "168022  ffff82501cea40309d5fdd7edcca4a07  2906b810c7d4411798c6938adc9daaa5   \n",
       "262475  ffff82501cea40309d5fdd7edcca4a07  2906b810c7d4411798c6938adc9daaa5   \n",
       "214717  ffff82501cea40309d5fdd7edcca4a07  9b98b8c7a33c4b65b9aebfe6a799e6d9   \n",
       "230690  ffff82501cea40309d5fdd7edcca4a07  9b98b8c7a33c4b65b9aebfe6a799e6d9   \n",
       "32763   ffff82501cea40309d5fdd7edcca4a07  fafdcd668e3743c1bb461111dcafc2a4   \n",
       "15836   ffff82501cea40309d5fdd7edcca4a07  fafdcd668e3743c1bb461111dcafc2a4   \n",
       "\n",
       "                  event  time  complete_time  view_time  \n",
       "79668   offer completed   198          198.0        NaN  \n",
       "69626      offer viewed   174            NaN      174.0  \n",
       "143788  offer completed   384          384.0        NaN  \n",
       "168024  offer completed   414          414.0        NaN  \n",
       "258362  offer completed   576          576.0        NaN  \n",
       "133074     offer viewed   354            NaN      354.0  \n",
       "168022     offer viewed   414            NaN      414.0  \n",
       "262475     offer viewed   582            NaN      582.0  \n",
       "214717  offer completed   504          504.0        NaN  \n",
       "230690     offer viewed   534            NaN      534.0  \n",
       "32763   offer completed    60           60.0        NaN  \n",
       "15836      offer viewed     6            NaN        6.0  "
      ]
     },
     "execution_count": 18,
     "metadata": {},
     "output_type": "execute_result"
    }
   ],
   "source": [
    "transcript[transcript.person == 'ffff82501cea40309d5fdd7edcca4a07']"
   ]
  },
  {
   "cell_type": "code",
   "execution_count": 19,
   "id": "f69a26e0",
   "metadata": {},
   "outputs": [],
   "source": [
    "# for each combination of person, offer_id and event, select only the first time they completed it \n",
    "# and the first time they viewed it (if any)\n",
    "first_complete_and_view_times = transcript.groupby(['person', 'offer_id']).agg(min_complete_time=pd.NamedAgg(column='complete_time', aggfunc='min'),min_view_time = pd.NamedAgg(column='view_time', aggfunc='min'))"
   ]
  },
  {
   "cell_type": "code",
   "execution_count": 20,
   "id": "bce4b6b4",
   "metadata": {},
   "outputs": [
    {
     "data": {
      "text/plain": [
       "53671"
      ]
     },
     "execution_count": 20,
     "metadata": {},
     "output_type": "execute_result"
    }
   ],
   "source": [
    "# count number of unique combinations of person and offer_id\n",
    "len(transcript[['person', 'offer_id']].value_counts())"
   ]
  },
  {
   "cell_type": "code",
   "execution_count": 21,
   "id": "149c096d",
   "metadata": {},
   "outputs": [
    {
     "data": {
      "text/plain": [
       "53671"
      ]
     },
     "execution_count": 21,
     "metadata": {},
     "output_type": "execute_result"
    }
   ],
   "source": [
    "# for each combination of person and offer_id, join with the first time they viewed or completed that offer (if any)\n",
    "transcript2 = transcript[['person', 'offer_id']].drop_duplicates()\n",
    "transcript2 = transcript2.merge(first_complete_and_view_times, on=['person','offer_id'])\n",
    "transcript2.shape[0]"
   ]
  },
  {
   "cell_type": "code",
   "execution_count": 22,
   "id": "c33b4dda",
   "metadata": {
    "scrolled": true
   },
   "outputs": [
    {
     "data": {
      "text/html": [
       "<div>\n",
       "<style scoped>\n",
       "    .dataframe tbody tr th:only-of-type {\n",
       "        vertical-align: middle;\n",
       "    }\n",
       "\n",
       "    .dataframe tbody tr th {\n",
       "        vertical-align: top;\n",
       "    }\n",
       "\n",
       "    .dataframe thead th {\n",
       "        text-align: right;\n",
       "    }\n",
       "</style>\n",
       "<table border=\"1\" class=\"dataframe\">\n",
       "  <thead>\n",
       "    <tr style=\"text-align: right;\">\n",
       "      <th></th>\n",
       "      <th>person</th>\n",
       "      <th>offer_id</th>\n",
       "      <th>min_complete_time</th>\n",
       "      <th>min_view_time</th>\n",
       "    </tr>\n",
       "  </thead>\n",
       "  <tbody>\n",
       "    <tr>\n",
       "      <th>53667</th>\n",
       "      <td>ffff82501cea40309d5fdd7edcca4a07</td>\n",
       "      <td>0b1e1539f2cc45b7b9fa7c272da2e1d7</td>\n",
       "      <td>198.0</td>\n",
       "      <td>174.0</td>\n",
       "    </tr>\n",
       "    <tr>\n",
       "      <th>53668</th>\n",
       "      <td>ffff82501cea40309d5fdd7edcca4a07</td>\n",
       "      <td>2906b810c7d4411798c6938adc9daaa5</td>\n",
       "      <td>384.0</td>\n",
       "      <td>354.0</td>\n",
       "    </tr>\n",
       "    <tr>\n",
       "      <th>53669</th>\n",
       "      <td>ffff82501cea40309d5fdd7edcca4a07</td>\n",
       "      <td>9b98b8c7a33c4b65b9aebfe6a799e6d9</td>\n",
       "      <td>504.0</td>\n",
       "      <td>534.0</td>\n",
       "    </tr>\n",
       "    <tr>\n",
       "      <th>53670</th>\n",
       "      <td>ffff82501cea40309d5fdd7edcca4a07</td>\n",
       "      <td>fafdcd668e3743c1bb461111dcafc2a4</td>\n",
       "      <td>60.0</td>\n",
       "      <td>6.0</td>\n",
       "    </tr>\n",
       "  </tbody>\n",
       "</table>\n",
       "</div>"
      ],
      "text/plain": [
       "                                 person                          offer_id  \\\n",
       "53667  ffff82501cea40309d5fdd7edcca4a07  0b1e1539f2cc45b7b9fa7c272da2e1d7   \n",
       "53668  ffff82501cea40309d5fdd7edcca4a07  2906b810c7d4411798c6938adc9daaa5   \n",
       "53669  ffff82501cea40309d5fdd7edcca4a07  9b98b8c7a33c4b65b9aebfe6a799e6d9   \n",
       "53670  ffff82501cea40309d5fdd7edcca4a07  fafdcd668e3743c1bb461111dcafc2a4   \n",
       "\n",
       "       min_complete_time  min_view_time  \n",
       "53667              198.0          174.0  \n",
       "53668              384.0          354.0  \n",
       "53669              504.0          534.0  \n",
       "53670               60.0            6.0  "
      ]
     },
     "execution_count": 22,
     "metadata": {},
     "output_type": "execute_result"
    }
   ],
   "source": [
    "transcript2[transcript2.person == 'ffff82501cea40309d5fdd7edcca4a07']"
   ]
  },
  {
   "cell_type": "code",
   "execution_count": 23,
   "id": "327eb602",
   "metadata": {},
   "outputs": [],
   "source": [
    "# select customers with only 2 conditions:\n",
    "# 1) viewed but did not complete the offer\n",
    "# 2) completed the offer after viewing it\n",
    "transcript3 = transcript2[((transcript2.min_complete_time.isnull()) & (transcript2.min_view_time.notnull())) \n",
    "                          | ((transcript2.min_complete_time.notnull()) & (transcript2.min_view_time.notnull()) & (transcript2.min_complete_time > transcript2.min_view_time)) ]"
   ]
  },
  {
   "cell_type": "code",
   "execution_count": 24,
   "id": "4e3951bf",
   "metadata": {},
   "outputs": [
    {
     "name": "stdout",
     "output_type": "stream",
     "text": [
      "As we are only interested in analysing customer behaviour after the offer was viewed, our dataset for modelling will use information on 16522 customers only, which is 97.18823529411765% of the provided customer base.\n"
     ]
    }
   ],
   "source": [
    "# get new summary counts\n",
    "\n",
    "num_customers_final = transcript3.person.nunique()\n",
    "\n",
    "print(f\"As we are only interested in analysing customer behaviour after the offer was viewed, our dataset for modelling will use information on {num_customers_final} customers only, which is {num_customers_final/num_customers_initial*100}% of the provided customer base.\")"
   ]
  },
  {
   "cell_type": "markdown",
   "id": "fb3fde61",
   "metadata": {},
   "source": [
    "### 3.2 Create target variable (conversion = offer completed after viewed)"
   ]
  },
  {
   "cell_type": "code",
   "execution_count": 25,
   "id": "117eb144",
   "metadata": {},
   "outputs": [
    {
     "name": "stdout",
     "output_type": "stream",
     "text": [
      "<class 'pandas.core.frame.DataFrame'>\n",
      "Int64Index: 43146 entries, 1 to 53670\n",
      "Data columns (total 4 columns):\n",
      " #   Column             Non-Null Count  Dtype  \n",
      "---  ------             --------------  -----  \n",
      " 0   person             43146 non-null  object \n",
      " 1   offer_id           43146 non-null  object \n",
      " 2   min_complete_time  18471 non-null  float64\n",
      " 3   min_view_time      43146 non-null  float64\n",
      "dtypes: float64(2), object(2)\n",
      "memory usage: 1.6+ MB\n"
     ]
    }
   ],
   "source": [
    "transcript3.info()"
   ]
  },
  {
   "cell_type": "code",
   "execution_count": 26,
   "id": "3e9e6625",
   "metadata": {},
   "outputs": [
    {
     "data": {
      "text/plain": [
       "0    24675\n",
       "1    18471\n",
       "Name: conversion, dtype: int64"
      ]
     },
     "execution_count": 26,
     "metadata": {},
     "output_type": "execute_result"
    }
   ],
   "source": [
    "transcript4 = transcript3.copy()\n",
    "transcript4['conversion']= np.where(transcript4['min_complete_time'].notnull(), 1, 0)\n",
    "transcript4['conversion'].value_counts()"
   ]
  },
  {
   "cell_type": "code",
   "execution_count": 27,
   "id": "150632c2",
   "metadata": {},
   "outputs": [
    {
     "data": {
      "text/html": [
       "<div>\n",
       "<style scoped>\n",
       "    .dataframe tbody tr th:only-of-type {\n",
       "        vertical-align: middle;\n",
       "    }\n",
       "\n",
       "    .dataframe tbody tr th {\n",
       "        vertical-align: top;\n",
       "    }\n",
       "\n",
       "    .dataframe thead th {\n",
       "        text-align: right;\n",
       "    }\n",
       "</style>\n",
       "<table border=\"1\" class=\"dataframe\">\n",
       "  <thead>\n",
       "    <tr style=\"text-align: right;\">\n",
       "      <th></th>\n",
       "      <th>person</th>\n",
       "      <th>offer_id</th>\n",
       "      <th>conversion</th>\n",
       "    </tr>\n",
       "  </thead>\n",
       "  <tbody>\n",
       "    <tr>\n",
       "      <th>1</th>\n",
       "      <td>0009655768c64bdeb2e877511632db8f</td>\n",
       "      <td>3f207df678b143eea3cee63160fa8bed</td>\n",
       "      <td>0</td>\n",
       "    </tr>\n",
       "    <tr>\n",
       "      <th>2</th>\n",
       "      <td>0009655768c64bdeb2e877511632db8f</td>\n",
       "      <td>5a8bc65990b245e5a138643cd4eb9837</td>\n",
       "      <td>0</td>\n",
       "    </tr>\n",
       "    <tr>\n",
       "      <th>5</th>\n",
       "      <td>00116118485d4dfda04fdbaba9a87b5c</td>\n",
       "      <td>f19421c1d4aa40978ebb69ca19b0e20d</td>\n",
       "      <td>0</td>\n",
       "    </tr>\n",
       "    <tr>\n",
       "      <th>6</th>\n",
       "      <td>0011e0d4e6b944f998e987f904e8c1e5</td>\n",
       "      <td>0b1e1539f2cc45b7b9fa7c272da2e1d7</td>\n",
       "      <td>1</td>\n",
       "    </tr>\n",
       "    <tr>\n",
       "      <th>7</th>\n",
       "      <td>0011e0d4e6b944f998e987f904e8c1e5</td>\n",
       "      <td>2298d6c36e964ae4a3e7e9706d1fb8c2</td>\n",
       "      <td>1</td>\n",
       "    </tr>\n",
       "  </tbody>\n",
       "</table>\n",
       "</div>"
      ],
      "text/plain": [
       "                             person                          offer_id  \\\n",
       "1  0009655768c64bdeb2e877511632db8f  3f207df678b143eea3cee63160fa8bed   \n",
       "2  0009655768c64bdeb2e877511632db8f  5a8bc65990b245e5a138643cd4eb9837   \n",
       "5  00116118485d4dfda04fdbaba9a87b5c  f19421c1d4aa40978ebb69ca19b0e20d   \n",
       "6  0011e0d4e6b944f998e987f904e8c1e5  0b1e1539f2cc45b7b9fa7c272da2e1d7   \n",
       "7  0011e0d4e6b944f998e987f904e8c1e5  2298d6c36e964ae4a3e7e9706d1fb8c2   \n",
       "\n",
       "   conversion  \n",
       "1           0  \n",
       "2           0  \n",
       "5           0  \n",
       "6           1  \n",
       "7           1  "
      ]
     },
     "execution_count": 27,
     "metadata": {},
     "output_type": "execute_result"
    }
   ],
   "source": [
    "transcript4 = transcript4[['person', 'offer_id', 'conversion']]\n",
    "transcript4.head()"
   ]
  },
  {
   "cell_type": "markdown",
   "id": "874864a5",
   "metadata": {},
   "source": [
    "### 3.3 Join with profile and portfolio tables and select columns of interest"
   ]
  },
  {
   "cell_type": "code",
   "execution_count": 28,
   "id": "b25e5d63",
   "metadata": {},
   "outputs": [
    {
     "data": {
      "text/plain": [
       "43146"
      ]
     },
     "execution_count": 28,
     "metadata": {},
     "output_type": "execute_result"
    }
   ],
   "source": [
    "df_joined = transcript4.merge(profile, left_on='person', right_on='id')\n",
    "df_joined = df_joined.merge(portfolio, left_on='offer_id', right_on='id')\n",
    "df_joined.shape[0]"
   ]
  },
  {
   "cell_type": "code",
   "execution_count": 29,
   "id": "43adc4f7",
   "metadata": {},
   "outputs": [
    {
     "data": {
      "text/plain": [
       "Index(['person', 'offer_id', 'conversion', 'gender', 'age', 'id_x',\n",
       "       'became_member_on', 'income', 'reward', 'difficulty', 'duration',\n",
       "       'offer_type', 'id_y', 'web', 'email', 'mobile', 'social'],\n",
       "      dtype='object')"
      ]
     },
     "execution_count": 29,
     "metadata": {},
     "output_type": "execute_result"
    }
   ],
   "source": [
    "df_joined.columns"
   ]
  },
  {
   "cell_type": "code",
   "execution_count": 30,
   "id": "9256778d",
   "metadata": {
    "scrolled": true
   },
   "outputs": [
    {
     "data": {
      "text/html": [
       "<div>\n",
       "<style scoped>\n",
       "    .dataframe tbody tr th:only-of-type {\n",
       "        vertical-align: middle;\n",
       "    }\n",
       "\n",
       "    .dataframe tbody tr th {\n",
       "        vertical-align: top;\n",
       "    }\n",
       "\n",
       "    .dataframe thead th {\n",
       "        text-align: right;\n",
       "    }\n",
       "</style>\n",
       "<table border=\"1\" class=\"dataframe\">\n",
       "  <thead>\n",
       "    <tr style=\"text-align: right;\">\n",
       "      <th></th>\n",
       "      <th>conversion</th>\n",
       "      <th>gender</th>\n",
       "      <th>age</th>\n",
       "      <th>income</th>\n",
       "      <th>reward</th>\n",
       "      <th>difficulty</th>\n",
       "      <th>duration</th>\n",
       "      <th>offer_type</th>\n",
       "      <th>web</th>\n",
       "      <th>email</th>\n",
       "      <th>mobile</th>\n",
       "      <th>social</th>\n",
       "    </tr>\n",
       "  </thead>\n",
       "  <tbody>\n",
       "    <tr>\n",
       "      <th>0</th>\n",
       "      <td>0</td>\n",
       "      <td>M</td>\n",
       "      <td>33</td>\n",
       "      <td>72000.0</td>\n",
       "      <td>0</td>\n",
       "      <td>0</td>\n",
       "      <td>4</td>\n",
       "      <td>informational</td>\n",
       "      <td>1</td>\n",
       "      <td>1</td>\n",
       "      <td>1</td>\n",
       "      <td>0</td>\n",
       "    </tr>\n",
       "    <tr>\n",
       "      <th>1</th>\n",
       "      <td>0</td>\n",
       "      <td>O</td>\n",
       "      <td>40</td>\n",
       "      <td>57000.0</td>\n",
       "      <td>0</td>\n",
       "      <td>0</td>\n",
       "      <td>4</td>\n",
       "      <td>informational</td>\n",
       "      <td>1</td>\n",
       "      <td>1</td>\n",
       "      <td>1</td>\n",
       "      <td>0</td>\n",
       "    </tr>\n",
       "    <tr>\n",
       "      <th>2</th>\n",
       "      <td>0</td>\n",
       "      <td>F</td>\n",
       "      <td>26</td>\n",
       "      <td>73000.0</td>\n",
       "      <td>0</td>\n",
       "      <td>0</td>\n",
       "      <td>4</td>\n",
       "      <td>informational</td>\n",
       "      <td>1</td>\n",
       "      <td>1</td>\n",
       "      <td>1</td>\n",
       "      <td>0</td>\n",
       "    </tr>\n",
       "    <tr>\n",
       "      <th>3</th>\n",
       "      <td>0</td>\n",
       "      <td>M</td>\n",
       "      <td>54</td>\n",
       "      <td>91000.0</td>\n",
       "      <td>0</td>\n",
       "      <td>0</td>\n",
       "      <td>4</td>\n",
       "      <td>informational</td>\n",
       "      <td>1</td>\n",
       "      <td>1</td>\n",
       "      <td>1</td>\n",
       "      <td>0</td>\n",
       "    </tr>\n",
       "    <tr>\n",
       "      <th>4</th>\n",
       "      <td>0</td>\n",
       "      <td>F</td>\n",
       "      <td>28</td>\n",
       "      <td>68000.0</td>\n",
       "      <td>0</td>\n",
       "      <td>0</td>\n",
       "      <td>4</td>\n",
       "      <td>informational</td>\n",
       "      <td>1</td>\n",
       "      <td>1</td>\n",
       "      <td>1</td>\n",
       "      <td>0</td>\n",
       "    </tr>\n",
       "  </tbody>\n",
       "</table>\n",
       "</div>"
      ],
      "text/plain": [
       "   conversion gender  age   income  reward  difficulty  duration  \\\n",
       "0           0      M   33  72000.0       0           0         4   \n",
       "1           0      O   40  57000.0       0           0         4   \n",
       "2           0      F   26  73000.0       0           0         4   \n",
       "3           0      M   54  91000.0       0           0         4   \n",
       "4           0      F   28  68000.0       0           0         4   \n",
       "\n",
       "      offer_type  web  email  mobile  social  \n",
       "0  informational    1      1       1       0  \n",
       "1  informational    1      1       1       0  \n",
       "2  informational    1      1       1       0  \n",
       "3  informational    1      1       1       0  \n",
       "4  informational    1      1       1       0  "
      ]
     },
     "execution_count": 30,
     "metadata": {},
     "output_type": "execute_result"
    }
   ],
   "source": [
    "# select relevant columns for modelling\n",
    "# unique identifiers such as the customer and offer ID are removed as it would overfit the model\n",
    "df1 = df_joined[['conversion', 'gender', 'age', 'income', 'reward', 'difficulty', 'duration',\n",
    "       'offer_type', 'web', 'email', 'mobile', 'social']]\n",
    "df1.head()"
   ]
  },
  {
   "cell_type": "code",
   "execution_count": 31,
   "id": "cb9dbfdd",
   "metadata": {
    "scrolled": true
   },
   "outputs": [
    {
     "data": {
      "text/plain": [
       "conversion      int64\n",
       "gender         object\n",
       "age             int64\n",
       "income        float64\n",
       "reward          int64\n",
       "difficulty      int64\n",
       "duration        int64\n",
       "offer_type     object\n",
       "web             int64\n",
       "email           int64\n",
       "mobile          int64\n",
       "social          int64\n",
       "dtype: object"
      ]
     },
     "execution_count": 31,
     "metadata": {},
     "output_type": "execute_result"
    }
   ],
   "source": [
    "df1.dtypes"
   ]
  },
  {
   "cell_type": "markdown",
   "id": "b40cbb4c",
   "metadata": {},
   "source": [
    "### 3.4 Exploratory data analysis and visualisation"
   ]
  },
  {
   "cell_type": "code",
   "execution_count": 32,
   "id": "7eda0afd",
   "metadata": {
    "scrolled": false
   },
   "outputs": [
    {
     "data": {
      "text/html": [
       "<div>\n",
       "<style scoped>\n",
       "    .dataframe tbody tr th:only-of-type {\n",
       "        vertical-align: middle;\n",
       "    }\n",
       "\n",
       "    .dataframe tbody tr th {\n",
       "        vertical-align: top;\n",
       "    }\n",
       "\n",
       "    .dataframe thead th {\n",
       "        text-align: right;\n",
       "    }\n",
       "</style>\n",
       "<table border=\"1\" class=\"dataframe\">\n",
       "  <thead>\n",
       "    <tr style=\"text-align: right;\">\n",
       "      <th></th>\n",
       "      <th>conversion</th>\n",
       "      <th>age</th>\n",
       "      <th>income</th>\n",
       "      <th>reward</th>\n",
       "      <th>difficulty</th>\n",
       "      <th>duration</th>\n",
       "      <th>web</th>\n",
       "      <th>email</th>\n",
       "      <th>mobile</th>\n",
       "      <th>social</th>\n",
       "    </tr>\n",
       "  </thead>\n",
       "  <tbody>\n",
       "    <tr>\n",
       "      <th>count</th>\n",
       "      <td>43146.000000</td>\n",
       "      <td>43146.000000</td>\n",
       "      <td>36581.000000</td>\n",
       "      <td>43146.000000</td>\n",
       "      <td>43146.000000</td>\n",
       "      <td>43146.000000</td>\n",
       "      <td>43146.000000</td>\n",
       "      <td>43146.0</td>\n",
       "      <td>43146.000000</td>\n",
       "      <td>43146.000000</td>\n",
       "    </tr>\n",
       "    <tr>\n",
       "      <th>mean</th>\n",
       "      <td>0.428105</td>\n",
       "      <td>64.103810</td>\n",
       "      <td>65086.383642</td>\n",
       "      <td>4.295022</td>\n",
       "      <td>7.036226</td>\n",
       "      <td>6.251657</td>\n",
       "      <td>0.755574</td>\n",
       "      <td>1.0</td>\n",
       "      <td>0.952255</td>\n",
       "      <td>0.735109</td>\n",
       "    </tr>\n",
       "    <tr>\n",
       "      <th>std</th>\n",
       "      <td>0.494810</td>\n",
       "      <td>27.806562</td>\n",
       "      <td>21037.238864</td>\n",
       "      <td>3.617176</td>\n",
       "      <td>4.822549</td>\n",
       "      <td>2.198966</td>\n",
       "      <td>0.429751</td>\n",
       "      <td>0.0</td>\n",
       "      <td>0.213228</td>\n",
       "      <td>0.441280</td>\n",
       "    </tr>\n",
       "    <tr>\n",
       "      <th>min</th>\n",
       "      <td>0.000000</td>\n",
       "      <td>18.000000</td>\n",
       "      <td>30000.000000</td>\n",
       "      <td>0.000000</td>\n",
       "      <td>0.000000</td>\n",
       "      <td>3.000000</td>\n",
       "      <td>0.000000</td>\n",
       "      <td>1.0</td>\n",
       "      <td>0.000000</td>\n",
       "      <td>0.000000</td>\n",
       "    </tr>\n",
       "    <tr>\n",
       "      <th>25%</th>\n",
       "      <td>0.000000</td>\n",
       "      <td>46.000000</td>\n",
       "      <td>50000.000000</td>\n",
       "      <td>2.000000</td>\n",
       "      <td>5.000000</td>\n",
       "      <td>5.000000</td>\n",
       "      <td>1.000000</td>\n",
       "      <td>1.0</td>\n",
       "      <td>1.000000</td>\n",
       "      <td>0.000000</td>\n",
       "    </tr>\n",
       "    <tr>\n",
       "      <th>50%</th>\n",
       "      <td>0.000000</td>\n",
       "      <td>59.000000</td>\n",
       "      <td>63000.000000</td>\n",
       "      <td>3.000000</td>\n",
       "      <td>7.000000</td>\n",
       "      <td>7.000000</td>\n",
       "      <td>1.000000</td>\n",
       "      <td>1.0</td>\n",
       "      <td>1.000000</td>\n",
       "      <td>1.000000</td>\n",
       "    </tr>\n",
       "    <tr>\n",
       "      <th>75%</th>\n",
       "      <td>1.000000</td>\n",
       "      <td>75.000000</td>\n",
       "      <td>79000.000000</td>\n",
       "      <td>5.000000</td>\n",
       "      <td>10.000000</td>\n",
       "      <td>7.000000</td>\n",
       "      <td>1.000000</td>\n",
       "      <td>1.0</td>\n",
       "      <td>1.000000</td>\n",
       "      <td>1.000000</td>\n",
       "    </tr>\n",
       "    <tr>\n",
       "      <th>max</th>\n",
       "      <td>1.000000</td>\n",
       "      <td>118.000000</td>\n",
       "      <td>120000.000000</td>\n",
       "      <td>10.000000</td>\n",
       "      <td>20.000000</td>\n",
       "      <td>10.000000</td>\n",
       "      <td>1.000000</td>\n",
       "      <td>1.0</td>\n",
       "      <td>1.000000</td>\n",
       "      <td>1.000000</td>\n",
       "    </tr>\n",
       "  </tbody>\n",
       "</table>\n",
       "</div>"
      ],
      "text/plain": [
       "         conversion           age         income        reward    difficulty  \\\n",
       "count  43146.000000  43146.000000   36581.000000  43146.000000  43146.000000   \n",
       "mean       0.428105     64.103810   65086.383642      4.295022      7.036226   \n",
       "std        0.494810     27.806562   21037.238864      3.617176      4.822549   \n",
       "min        0.000000     18.000000   30000.000000      0.000000      0.000000   \n",
       "25%        0.000000     46.000000   50000.000000      2.000000      5.000000   \n",
       "50%        0.000000     59.000000   63000.000000      3.000000      7.000000   \n",
       "75%        1.000000     75.000000   79000.000000      5.000000     10.000000   \n",
       "max        1.000000    118.000000  120000.000000     10.000000     20.000000   \n",
       "\n",
       "           duration           web    email        mobile        social  \n",
       "count  43146.000000  43146.000000  43146.0  43146.000000  43146.000000  \n",
       "mean       6.251657      0.755574      1.0      0.952255      0.735109  \n",
       "std        2.198966      0.429751      0.0      0.213228      0.441280  \n",
       "min        3.000000      0.000000      1.0      0.000000      0.000000  \n",
       "25%        5.000000      1.000000      1.0      1.000000      0.000000  \n",
       "50%        7.000000      1.000000      1.0      1.000000      1.000000  \n",
       "75%        7.000000      1.000000      1.0      1.000000      1.000000  \n",
       "max       10.000000      1.000000      1.0      1.000000      1.000000  "
      ]
     },
     "metadata": {},
     "output_type": "display_data"
    }
   ],
   "source": [
    "# descriptive statistics for numeric features\n",
    "display(df1.describe())"
   ]
  },
  {
   "cell_type": "code",
   "execution_count": 33,
   "id": "c074a921",
   "metadata": {
    "scrolled": true
   },
   "outputs": [],
   "source": [
    "# clean age column\n",
    "# df1[df1.age == 118]\n",
    "\n",
    "# these customers have null values for gender, age and income"
   ]
  },
  {
   "cell_type": "code",
   "execution_count": 34,
   "id": "6b74044e",
   "metadata": {},
   "outputs": [],
   "source": [
    "# replace with NaN to be dealt with later\n",
    "df2 = df1.copy()\n",
    "df2.loc[df2['age'] == 118, 'age'] = np.nan"
   ]
  },
  {
   "cell_type": "code",
   "execution_count": 35,
   "id": "cd6d9c2d",
   "metadata": {
    "scrolled": true
   },
   "outputs": [
    {
     "data": {
      "image/png": "[encoded data removed]",
      "text/plain": [
       "<Figure size 720x720 with 12 Axes>"
      ]
     },
     "metadata": {
      "needs_background": "light"
     },
     "output_type": "display_data"
    }
   ],
   "source": [
    "# plot distribution of numeric features\n",
    "hist = df2.hist(bins=30, sharey=True, figsize=(10,10))"
   ]
  },
  {
   "cell_type": "code",
   "execution_count": 36,
   "id": "825c5478",
   "metadata": {},
   "outputs": [],
   "source": [
    "# remove email column as it is all 1's\n",
    "df2 = df2.drop('email', axis=1)"
   ]
  },
  {
   "cell_type": "code",
   "execution_count": 37,
   "id": "1179da6a",
   "metadata": {},
   "outputs": [
    {
     "name": "stdout",
     "output_type": "stream",
     "text": [
      "M    21266\n",
      "F    14758\n",
      "O      557\n",
      "Name: gender, dtype: int64\n",
      "bogo             18238\n",
      "discount         15599\n",
      "informational     9309\n",
      "Name: offer_type, dtype: int64\n"
     ]
    }
   ],
   "source": [
    "# distribution of categorical features\n",
    "print(df2.gender.value_counts())\n",
    "print(df2.offer_type.value_counts())"
   ]
  },
  {
   "cell_type": "code",
   "execution_count": 38,
   "id": "3827aaf2",
   "metadata": {},
   "outputs": [],
   "source": [
    "# df2.columns\n",
    "num_vars = ['age', 'income', 'reward', 'difficulty','duration']\n",
    "cat_bool_vars = ['gender', 'offer_type', 'web', 'mobile', 'social']"
   ]
  },
  {
   "cell_type": "code",
   "execution_count": 39,
   "id": "858e4a81",
   "metadata": {
    "scrolled": true
   },
   "outputs": [
    {
     "data": {
      "image/png": "[encoded data removed]",
      "text/plain": [
       "<Figure size 432x288 with 1 Axes>"
      ]
     },
     "metadata": {
      "needs_background": "light"
     },
     "output_type": "display_data"
    },
    {
     "data": {
      "image/png": "[encoded data removed]",
      "text/plain": [
       "<Figure size 432x288 with 1 Axes>"
      ]
     },
     "metadata": {
      "needs_background": "light"
     },
     "output_type": "display_data"
    },
    {
     "data": {
      "image/png": "[encoded data removed]",
      "text/plain": [
       "<Figure size 432x288 with 1 Axes>"
      ]
     },
     "metadata": {
      "needs_background": "light"
     },
     "output_type": "display_data"
    },
    {
     "data": {
      "image/png": "[encoded data removed]",
      "text/plain": [
       "<Figure size 432x288 with 1 Axes>"
      ]
     },
     "metadata": {
      "needs_background": "light"
     },
     "output_type": "display_data"
    },
    {
     "data": {
      "image/png": "[encoded data removed]",
      "text/plain": [
       "<Figure size 432x288 with 1 Axes>"
      ]
     },
     "metadata": {
      "needs_background": "light"
     },
     "output_type": "display_data"
    }
   ],
   "source": [
    "# plot distribution of each categorical and boolean feature\n",
    "for column in cat_bool_vars:\n",
    "    valuecounts=df2.groupby(by=column).size()\n",
    "    valuecounts.plot.bar()\n",
    "    plt.show()"
   ]
  },
  {
   "cell_type": "code",
   "execution_count": 40,
   "id": "cc10159e",
   "metadata": {
    "scrolled": true
   },
   "outputs": [
    {
     "data": {
      "image/png": "[encoded data removed]",
      "text/plain": [
       "<Figure size 504x504 with 1 Axes>"
      ]
     },
     "metadata": {
      "needs_background": "light"
     },
     "output_type": "display_data"
    },
    {
     "data": {
      "image/png": "[encoded data removed]",
      "text/plain": [
       "<Figure size 504x504 with 1 Axes>"
      ]
     },
     "metadata": {
      "needs_background": "light"
     },
     "output_type": "display_data"
    },
    {
     "data": {
      "image/png": "[encoded data removed]",
      "text/plain": [
       "<Figure size 504x504 with 1 Axes>"
      ]
     },
     "metadata": {
      "needs_background": "light"
     },
     "output_type": "display_data"
    },
    {
     "data": {
      "image/png": "[encoded data removed]",
      "text/plain": [
       "<Figure size 504x504 with 1 Axes>"
      ]
     },
     "metadata": {
      "needs_background": "light"
     },
     "output_type": "display_data"
    },
    {
     "data": {
      "image/png": "[encoded data removed]",
      "text/plain": [
       "<Figure size 504x504 with 1 Axes>"
      ]
     },
     "metadata": {
      "needs_background": "light"
     },
     "output_type": "display_data"
    }
   ],
   "source": [
    "# histograms for each numeric feature against target \n",
    "for column in num_vars:\n",
    "    plt.figure(figsize=(7,7))\n",
    "    plt.hist(df2[df2.conversion==0][column], density=True, alpha=.5, label='conversion=0');\n",
    "    plt.hist(df2[df2.conversion==1][column], density=True, alpha=.5, label='conversion=1');\n",
    "    plt.legend(loc='best', prop={'size': 15});\n",
    "    plt.xlabel(column);\n",
    "    plt.title(f'Distribution of {column} against target');\n",
    "    plt.savefig(f\"{column}_num_feat_vs_target.jpg\", bbox_inches='tight')"
   ]
  },
  {
   "cell_type": "code",
   "execution_count": 41,
   "id": "c1cc27f1",
   "metadata": {
    "scrolled": true
   },
   "outputs": [
    {
     "data": {
      "image/png": "[encoded data removed]",
      "text/plain": [
       "<Figure size 432x288 with 1 Axes>"
      ]
     },
     "metadata": {
      "needs_background": "light"
     },
     "output_type": "display_data"
    },
    {
     "data": {
      "image/png": "[encoded data removed]",
      "text/plain": [
       "<Figure size 432x288 with 1 Axes>"
      ]
     },
     "metadata": {
      "needs_background": "light"
     },
     "output_type": "display_data"
    },
    {
     "data": {
      "image/png": "[encoded data removed]",
      "text/plain": [
       "<Figure size 432x288 with 1 Axes>"
      ]
     },
     "metadata": {
      "needs_background": "light"
     },
     "output_type": "display_data"
    },
    {
     "data": {
      "image/png": "[encoded data removed]",
      "text/plain": [
       "<Figure size 432x288 with 1 Axes>"
      ]
     },
     "metadata": {
      "needs_background": "light"
     },
     "output_type": "display_data"
    },
    {
     "data": {
      "image/png": "[encoded data removed]",
      "text/plain": [
       "<Figure size 432x288 with 1 Axes>"
      ]
     },
     "metadata": {
      "needs_background": "light"
     },
     "output_type": "display_data"
    }
   ],
   "source": [
    "# stacked bar plots for each categorical feature against the target\n",
    "for column in cat_bool_vars:\n",
    "    pd.crosstab(df2[column],df2['conversion']).plot(kind=\"bar\",stacked=True)\n",
    "    plt.savefig(f\"{column}_cat_feat_vs_target.jpg\", bbox_inches='tight')"
   ]
  },
  {
   "cell_type": "markdown",
   "id": "92ca1444",
   "metadata": {},
   "source": [
    "### 3.5 Deal with missing values"
   ]
  },
  {
   "cell_type": "code",
   "execution_count": 42,
   "id": "dc404a78",
   "metadata": {
    "scrolled": true
   },
   "outputs": [
    {
     "data": {
      "text/plain": [
       "conversion    0.000000\n",
       "gender        0.152158\n",
       "age           0.152158\n",
       "income        0.152158\n",
       "reward        0.000000\n",
       "difficulty    0.000000\n",
       "duration      0.000000\n",
       "offer_type    0.000000\n",
       "web           0.000000\n",
       "mobile        0.000000\n",
       "social        0.000000\n",
       "dtype: float64"
      ]
     },
     "execution_count": 42,
     "metadata": {},
     "output_type": "execute_result"
    }
   ],
   "source": [
    "df2.isnull().sum() / len(df2)"
   ]
  },
  {
   "cell_type": "code",
   "execution_count": 43,
   "id": "38eac9c1",
   "metadata": {},
   "outputs": [],
   "source": [
    "# create dummy coded columns for categorical variables with additional columns for missing categorical columns\n",
    "cat_vars = df2.select_dtypes(include='object').columns\n",
    "df_model = df2.copy()\n",
    "for col in cat_vars:\n",
    "    df_model = pd.concat([df_model.drop(col, axis=1), pd.get_dummies(df_model[col], prefix=col, prefix_sep='_', dummy_na = True\n",
    "                                                               , drop_first=True)], axis=1)"
   ]
  },
  {
   "cell_type": "code",
   "execution_count": 44,
   "id": "779ff638",
   "metadata": {
    "scrolled": true
   },
   "outputs": [
    {
     "data": {
      "text/html": [
       "<div>\n",
       "<style scoped>\n",
       "    .dataframe tbody tr th:only-of-type {\n",
       "        vertical-align: middle;\n",
       "    }\n",
       "\n",
       "    .dataframe tbody tr th {\n",
       "        vertical-align: top;\n",
       "    }\n",
       "\n",
       "    .dataframe thead th {\n",
       "        text-align: right;\n",
       "    }\n",
       "</style>\n",
       "<table border=\"1\" class=\"dataframe\">\n",
       "  <thead>\n",
       "    <tr style=\"text-align: right;\">\n",
       "      <th></th>\n",
       "      <th>conversion</th>\n",
       "      <th>age</th>\n",
       "      <th>income</th>\n",
       "      <th>reward</th>\n",
       "      <th>difficulty</th>\n",
       "      <th>duration</th>\n",
       "      <th>web</th>\n",
       "      <th>mobile</th>\n",
       "      <th>social</th>\n",
       "      <th>gender_M</th>\n",
       "      <th>gender_O</th>\n",
       "      <th>gender_nan</th>\n",
       "      <th>offer_type_discount</th>\n",
       "      <th>offer_type_informational</th>\n",
       "      <th>offer_type_nan</th>\n",
       "    </tr>\n",
       "  </thead>\n",
       "  <tbody>\n",
       "    <tr>\n",
       "      <th>0</th>\n",
       "      <td>0</td>\n",
       "      <td>33.0</td>\n",
       "      <td>72000.0</td>\n",
       "      <td>0</td>\n",
       "      <td>0</td>\n",
       "      <td>4</td>\n",
       "      <td>1</td>\n",
       "      <td>1</td>\n",
       "      <td>0</td>\n",
       "      <td>1</td>\n",
       "      <td>0</td>\n",
       "      <td>0</td>\n",
       "      <td>0</td>\n",
       "      <td>1</td>\n",
       "      <td>0</td>\n",
       "    </tr>\n",
       "    <tr>\n",
       "      <th>1</th>\n",
       "      <td>0</td>\n",
       "      <td>40.0</td>\n",
       "      <td>57000.0</td>\n",
       "      <td>0</td>\n",
       "      <td>0</td>\n",
       "      <td>4</td>\n",
       "      <td>1</td>\n",
       "      <td>1</td>\n",
       "      <td>0</td>\n",
       "      <td>0</td>\n",
       "      <td>1</td>\n",
       "      <td>0</td>\n",
       "      <td>0</td>\n",
       "      <td>1</td>\n",
       "      <td>0</td>\n",
       "    </tr>\n",
       "    <tr>\n",
       "      <th>2</th>\n",
       "      <td>0</td>\n",
       "      <td>26.0</td>\n",
       "      <td>73000.0</td>\n",
       "      <td>0</td>\n",
       "      <td>0</td>\n",
       "      <td>4</td>\n",
       "      <td>1</td>\n",
       "      <td>1</td>\n",
       "      <td>0</td>\n",
       "      <td>0</td>\n",
       "      <td>0</td>\n",
       "      <td>0</td>\n",
       "      <td>0</td>\n",
       "      <td>1</td>\n",
       "      <td>0</td>\n",
       "    </tr>\n",
       "    <tr>\n",
       "      <th>3</th>\n",
       "      <td>0</td>\n",
       "      <td>54.0</td>\n",
       "      <td>91000.0</td>\n",
       "      <td>0</td>\n",
       "      <td>0</td>\n",
       "      <td>4</td>\n",
       "      <td>1</td>\n",
       "      <td>1</td>\n",
       "      <td>0</td>\n",
       "      <td>1</td>\n",
       "      <td>0</td>\n",
       "      <td>0</td>\n",
       "      <td>0</td>\n",
       "      <td>1</td>\n",
       "      <td>0</td>\n",
       "    </tr>\n",
       "    <tr>\n",
       "      <th>4</th>\n",
       "      <td>0</td>\n",
       "      <td>28.0</td>\n",
       "      <td>68000.0</td>\n",
       "      <td>0</td>\n",
       "      <td>0</td>\n",
       "      <td>4</td>\n",
       "      <td>1</td>\n",
       "      <td>1</td>\n",
       "      <td>0</td>\n",
       "      <td>0</td>\n",
       "      <td>0</td>\n",
       "      <td>0</td>\n",
       "      <td>0</td>\n",
       "      <td>1</td>\n",
       "      <td>0</td>\n",
       "    </tr>\n",
       "  </tbody>\n",
       "</table>\n",
       "</div>"
      ],
      "text/plain": [
       "   conversion   age   income  reward  difficulty  duration  web  mobile  \\\n",
       "0           0  33.0  72000.0       0           0         4    1       1   \n",
       "1           0  40.0  57000.0       0           0         4    1       1   \n",
       "2           0  26.0  73000.0       0           0         4    1       1   \n",
       "3           0  54.0  91000.0       0           0         4    1       1   \n",
       "4           0  28.0  68000.0       0           0         4    1       1   \n",
       "\n",
       "   social  gender_M  gender_O  gender_nan  offer_type_discount  \\\n",
       "0       0         1         0           0                    0   \n",
       "1       0         0         1           0                    0   \n",
       "2       0         0         0           0                    0   \n",
       "3       0         1         0           0                    0   \n",
       "4       0         0         0           0                    0   \n",
       "\n",
       "   offer_type_informational  offer_type_nan  \n",
       "0                         1               0  \n",
       "1                         1               0  \n",
       "2                         1               0  \n",
       "3                         1               0  \n",
       "4                         1               0  "
      ]
     },
     "execution_count": 44,
     "metadata": {},
     "output_type": "execute_result"
    }
   ],
   "source": [
    "df_model.head()\n",
    "\n",
    "# the data is ready for modelling"
   ]
  },
  {
   "cell_type": "markdown",
   "id": "fe586117",
   "metadata": {},
   "source": [
    "## 4. Modelling and Evaluation"
   ]
  },
  {
   "cell_type": "markdown",
   "id": "353ad3a7",
   "metadata": {},
   "source": [
    "### 4.1 Build a pipeline to train a Random Forest Classifier"
   ]
  },
  {
   "cell_type": "code",
   "execution_count": 45,
   "id": "07a34f82",
   "metadata": {},
   "outputs": [],
   "source": [
    "# split data \n",
    "X = df_model.drop('conversion', axis=1)\n",
    "y = df_model['conversion']\n",
    "\n",
    "# Create training and test sets of data\n",
    "X_train, X_test, y_train, y_test = train_test_split(X, y, test_size=0.3, random_state=42)"
   ]
  },
  {
   "cell_type": "code",
   "execution_count": 46,
   "id": "09b644fc",
   "metadata": {},
   "outputs": [],
   "source": [
    "# define pipeline to tune preprocessing and modelling step later\n",
    "pipeline = Pipeline([\n",
    "        # use simple imputer to impute missing values (for age and income) with mean\n",
    "        ('imp', SimpleImputer(missing_values=np.nan, strategy='mean')),\n",
    "        ('clf', RandomForestClassifier())\n",
    "    ])"
   ]
  },
  {
   "cell_type": "code",
   "execution_count": 47,
   "id": "bfac231e",
   "metadata": {},
   "outputs": [
    {
     "name": "stdout",
     "output_type": "stream",
     "text": [
      "Results with Random Forest Classifier:\n",
      "              precision    recall  f1-score   support\n",
      "\n",
      "           0       0.77      0.75      0.76      7478\n",
      "           1       0.67      0.69      0.68      5466\n",
      "\n",
      "    accuracy                           0.73     12944\n",
      "   macro avg       0.72      0.72      0.72     12944\n",
      "weighted avg       0.73      0.73      0.73     12944\n",
      "\n"
     ]
    }
   ],
   "source": [
    "# fit model to training data\n",
    "model_rf_1 = pipeline.fit(X_train, y_train)\n",
    "# predict on test data\n",
    "y_preds_rf_1 = model_rf_1.predict(X_test)\n",
    "# evaluate model\n",
    "print(\"Results with Random Forest Classifier:\")\n",
    "print(classification_report(y_test, y_preds_rf_1))\n",
    "# we pay attention to the 2nd row as we want to optimise for the precision, recall and F1 score of predicting conversion\n",
    "# as well as the 3rd row for accuracy"
   ]
  },
  {
   "cell_type": "code",
   "execution_count": 48,
   "id": "39c32f5b",
   "metadata": {},
   "outputs": [
    {
     "data": {
      "text/html": [
       "<div>\n",
       "<style scoped>\n",
       "    .dataframe tbody tr th:only-of-type {\n",
       "        vertical-align: middle;\n",
       "    }\n",
       "\n",
       "    .dataframe tbody tr th {\n",
       "        vertical-align: top;\n",
       "    }\n",
       "\n",
       "    .dataframe thead th {\n",
       "        text-align: right;\n",
       "    }\n",
       "</style>\n",
       "<table border=\"1\" class=\"dataframe\">\n",
       "  <thead>\n",
       "    <tr style=\"text-align: right;\">\n",
       "      <th></th>\n",
       "      <th>Precision</th>\n",
       "      <th>Recall</th>\n",
       "      <th>F1 score</th>\n",
       "      <th>Accuracy</th>\n",
       "    </tr>\n",
       "  </thead>\n",
       "  <tbody>\n",
       "    <tr>\n",
       "      <th>Random Forest</th>\n",
       "      <td>0.67</td>\n",
       "      <td>0.69</td>\n",
       "      <td>0.68</td>\n",
       "      <td>0.73</td>\n",
       "    </tr>\n",
       "  </tbody>\n",
       "</table>\n",
       "</div>"
      ],
      "text/plain": [
       "               Precision  Recall  F1 score  Accuracy\n",
       "Random Forest       0.67    0.69      0.68      0.73"
      ]
     },
     "execution_count": 48,
     "metadata": {},
     "output_type": "execute_result"
    }
   ],
   "source": [
    "df_results = pd.DataFrame({'Precision': 0.67,\n",
    "                              'Recall': 0.69,\n",
    "                             'F1 score': 0.68,\n",
    "                             'Accuracy': 0.73}, index=['Random Forest'])\n",
    "df_results"
   ]
  },
  {
   "cell_type": "markdown",
   "id": "b60b1d09",
   "metadata": {},
   "source": [
    "### 4.2 Try LGBM, Catboost and XGBoost algorithms"
   ]
  },
  {
   "cell_type": "code",
   "execution_count": 49,
   "id": "85b44390",
   "metadata": {},
   "outputs": [],
   "source": [
    "# define function to try different algorithms and return the test performance scores\n",
    "\n",
    "def build_model(X_train, y_train, X_test, y_test, algorithm):\n",
    "    '''Build the pipeline with simple imputer and classifier of choice, train it and \n",
    "    return the test performance scores\n",
    "    \n",
    "    Args:\n",
    "        X_train, y_train, X_test, y_test - the dataset split into training and test features and target \n",
    "        algorithm - an instance of the algorithm to build the model e.g. RandomForestClassifier()\n",
    "        \n",
    "    Returns:\n",
    "        pipeline - trained pipeline object\n",
    "        results - report with accuracy, precision, recall and F1 scores on the test data\n",
    "    '''\n",
    "    pipeline = Pipeline([\n",
    "        ('imp', SimpleImputer(missing_values=np.nan, strategy='mean')),\n",
    "        ('clf', algorithm)\n",
    "    ])\n",
    "    \n",
    "    # train pipeline\n",
    "    model = pipeline.fit(X_train, y_train)\n",
    "    \n",
    "    # predict on test data\n",
    "    y_pred = model.predict(X_test)\n",
    "    \n",
    "    # display results\n",
    "    results = classification_report(y_test, y_pred)\n",
    "    \n",
    "    return model, results"
   ]
  },
  {
   "cell_type": "code",
   "execution_count": 50,
   "id": "29adfafb",
   "metadata": {
    "scrolled": false
   },
   "outputs": [
    {
     "name": "stdout",
     "output_type": "stream",
     "text": [
      "Results with LGBM Classifier:\n",
      "              precision    recall  f1-score   support\n",
      "\n",
      "           0       0.85      0.73      0.79      7478\n",
      "           1       0.69      0.83      0.75      5466\n",
      "\n",
      "    accuracy                           0.77     12944\n",
      "   macro avg       0.77      0.78      0.77     12944\n",
      "weighted avg       0.78      0.77      0.77     12944\n",
      "\n"
     ]
    }
   ],
   "source": [
    "model_lgbm_1, results_lgbm_1 = build_model(X_train, y_train, X_test, y_test, LGBMClassifier(n_jobs=-1))\n",
    "print(\"Results with LGBM Classifier:\")\n",
    "print(results_lgbm_1)"
   ]
  },
  {
   "cell_type": "code",
   "execution_count": 51,
   "id": "c7590b50",
   "metadata": {},
   "outputs": [],
   "source": [
    "df_results.loc['LGBM'] = [0.69, 0.83, 0.75, 0.77]"
   ]
  },
  {
   "cell_type": "code",
   "execution_count": 52,
   "id": "b600559e",
   "metadata": {
    "scrolled": false
   },
   "outputs": [
    {
     "name": "stdout",
     "output_type": "stream",
     "text": [
      "Learning rate set to 0.044148\n",
      "0:\tlearn: 0.6537448\ttotal: 67ms\tremaining: 1m 6s\n",
      "1:\tlearn: 0.6215850\ttotal: 78.5ms\tremaining: 39.2s\n",
      "2:\tlearn: 0.5932301\ttotal: 86.8ms\tremaining: 28.9s\n",
      "3:\tlearn: 0.5701020\ttotal: 98.2ms\tremaining: 24.4s\n",
      "4:\tlearn: 0.5518853\ttotal: 110ms\tremaining: 21.8s\n",
      "5:\tlearn: 0.5373765\ttotal: 123ms\tremaining: 20.4s\n",
      "6:\tlearn: 0.5262916\ttotal: 132ms\tremaining: 18.7s\n",
      "7:\tlearn: 0.5162939\ttotal: 141ms\tremaining: 17.5s\n",
      "8:\tlearn: 0.5085707\ttotal: 158ms\tremaining: 17.4s\n",
      "9:\tlearn: 0.5013259\ttotal: 170ms\tremaining: 16.9s\n",
      "10:\tlearn: 0.4957702\ttotal: 180ms\tremaining: 16.2s\n",
      "11:\tlearn: 0.4911161\ttotal: 191ms\tremaining: 15.7s\n",
      "12:\tlearn: 0.4867129\ttotal: 206ms\tremaining: 15.6s\n",
      "13:\tlearn: 0.4841468\ttotal: 216ms\tremaining: 15.2s\n",
      "14:\tlearn: 0.4808607\ttotal: 229ms\tremaining: 15.1s\n",
      "15:\tlearn: 0.4778791\ttotal: 240ms\tremaining: 14.8s\n",
      "16:\tlearn: 0.4750193\ttotal: 250ms\tremaining: 14.4s\n",
      "17:\tlearn: 0.4724742\ttotal: 260ms\tremaining: 14.2s\n",
      "18:\tlearn: 0.4702427\ttotal: 269ms\tremaining: 13.9s\n",
      "19:\tlearn: 0.4683922\ttotal: 278ms\tremaining: 13.6s\n",
      "20:\tlearn: 0.4666040\ttotal: 287ms\tremaining: 13.4s\n",
      "21:\tlearn: 0.4650403\ttotal: 295ms\tremaining: 13.1s\n",
      "22:\tlearn: 0.4634699\ttotal: 305ms\tremaining: 13s\n",
      "23:\tlearn: 0.4621704\ttotal: 315ms\tremaining: 12.8s\n",
      "24:\tlearn: 0.4610733\ttotal: 323ms\tremaining: 12.6s\n",
      "25:\tlearn: 0.4600408\ttotal: 333ms\tremaining: 12.5s\n",
      "26:\tlearn: 0.4590330\ttotal: 341ms\tremaining: 12.3s\n",
      "27:\tlearn: 0.4581210\ttotal: 353ms\tremaining: 12.2s\n",
      "28:\tlearn: 0.4572583\ttotal: 362ms\tremaining: 12.1s\n",
      "29:\tlearn: 0.4564485\ttotal: 375ms\tremaining: 12.1s\n",
      "30:\tlearn: 0.4558068\ttotal: 385ms\tremaining: 12s\n",
      "31:\tlearn: 0.4553608\ttotal: 394ms\tremaining: 11.9s\n",
      "32:\tlearn: 0.4547077\ttotal: 403ms\tremaining: 11.8s\n",
      "33:\tlearn: 0.4540503\ttotal: 413ms\tremaining: 11.7s\n",
      "34:\tlearn: 0.4536203\ttotal: 423ms\tremaining: 11.7s\n",
      "35:\tlearn: 0.4531211\ttotal: 434ms\tremaining: 11.6s\n",
      "36:\tlearn: 0.4526351\ttotal: 441ms\tremaining: 11.5s\n",
      "37:\tlearn: 0.4521866\ttotal: 452ms\tremaining: 11.5s\n",
      "38:\tlearn: 0.4517365\ttotal: 461ms\tremaining: 11.4s\n",
      "39:\tlearn: 0.4514303\ttotal: 472ms\tremaining: 11.3s\n",
      "40:\tlearn: 0.4511427\ttotal: 482ms\tremaining: 11.3s\n",
      "41:\tlearn: 0.4508801\ttotal: 492ms\tremaining: 11.2s\n",
      "42:\tlearn: 0.4505500\ttotal: 501ms\tremaining: 11.1s\n",
      "43:\tlearn: 0.4502513\ttotal: 511ms\tremaining: 11.1s\n",
      "44:\tlearn: 0.4500578\ttotal: 520ms\tremaining: 11s\n",
      "45:\tlearn: 0.4497116\ttotal: 530ms\tremaining: 11s\n",
      "46:\tlearn: 0.4494251\ttotal: 543ms\tremaining: 11s\n",
      "47:\tlearn: 0.4492389\ttotal: 552ms\tremaining: 10.9s\n",
      "48:\tlearn: 0.4489512\ttotal: 564ms\tremaining: 10.9s\n",
      "49:\tlearn: 0.4487468\ttotal: 576ms\tremaining: 11s\n",
      "50:\tlearn: 0.4485239\ttotal: 585ms\tremaining: 10.9s\n",
      "51:\tlearn: 0.4483330\ttotal: 593ms\tremaining: 10.8s\n",
      "52:\tlearn: 0.4481409\ttotal: 601ms\tremaining: 10.7s\n",
      "53:\tlearn: 0.4480370\ttotal: 611ms\tremaining: 10.7s\n",
      "54:\tlearn: 0.4479123\ttotal: 621ms\tremaining: 10.7s\n",
      "55:\tlearn: 0.4477202\ttotal: 630ms\tremaining: 10.6s\n",
      "56:\tlearn: 0.4475432\ttotal: 640ms\tremaining: 10.6s\n",
      "57:\tlearn: 0.4473914\ttotal: 647ms\tremaining: 10.5s\n",
      "58:\tlearn: 0.4472286\ttotal: 656ms\tremaining: 10.5s\n",
      "59:\tlearn: 0.4471007\ttotal: 663ms\tremaining: 10.4s\n",
      "60:\tlearn: 0.4470630\ttotal: 672ms\tremaining: 10.3s\n",
      "61:\tlearn: 0.4469474\ttotal: 680ms\tremaining: 10.3s\n",
      "62:\tlearn: 0.4468723\ttotal: 689ms\tremaining: 10.2s\n",
      "63:\tlearn: 0.4467663\ttotal: 700ms\tremaining: 10.2s\n",
      "64:\tlearn: 0.4467412\ttotal: 706ms\tremaining: 10.2s\n",
      "65:\tlearn: 0.4466094\ttotal: 722ms\tremaining: 10.2s\n",
      "66:\tlearn: 0.4465373\ttotal: 734ms\tremaining: 10.2s\n",
      "67:\tlearn: 0.4464504\ttotal: 744ms\tremaining: 10.2s\n",
      "68:\tlearn: 0.4463515\ttotal: 754ms\tremaining: 10.2s\n",
      "69:\tlearn: 0.4462529\ttotal: 764ms\tremaining: 10.2s\n",
      "70:\tlearn: 0.4461675\ttotal: 774ms\tremaining: 10.1s\n",
      "71:\tlearn: 0.4460773\ttotal: 790ms\tremaining: 10.2s\n",
      "72:\tlearn: 0.4459611\ttotal: 798ms\tremaining: 10.1s\n",
      "73:\tlearn: 0.4458803\ttotal: 809ms\tremaining: 10.1s\n",
      "74:\tlearn: 0.4457986\ttotal: 819ms\tremaining: 10.1s\n",
      "75:\tlearn: 0.4457208\ttotal: 836ms\tremaining: 10.2s\n",
      "76:\tlearn: 0.4456595\ttotal: 845ms\tremaining: 10.1s\n",
      "77:\tlearn: 0.4455812\ttotal: 856ms\tremaining: 10.1s\n",
      "78:\tlearn: 0.4455159\ttotal: 866ms\tremaining: 10.1s\n",
      "79:\tlearn: 0.4454510\ttotal: 876ms\tremaining: 10.1s\n",
      "80:\tlearn: 0.4454035\ttotal: 884ms\tremaining: 10s\n",
      "81:\tlearn: 0.4452935\ttotal: 905ms\tremaining: 10.1s\n",
      "82:\tlearn: 0.4452130\ttotal: 920ms\tremaining: 10.2s\n",
      "83:\tlearn: 0.4451459\ttotal: 929ms\tremaining: 10.1s\n",
      "84:\tlearn: 0.4450953\ttotal: 937ms\tremaining: 10.1s\n",
      "85:\tlearn: 0.4450405\ttotal: 948ms\tremaining: 10.1s\n",
      "86:\tlearn: 0.4449449\ttotal: 957ms\tremaining: 10s\n",
      "87:\tlearn: 0.4448917\ttotal: 966ms\tremaining: 10s\n",
      "88:\tlearn: 0.4448382\ttotal: 977ms\tremaining: 9.99s\n",
      "89:\tlearn: 0.4447574\ttotal: 987ms\tremaining: 9.98s\n",
      "90:\tlearn: 0.4447092\ttotal: 997ms\tremaining: 9.96s\n",
      "91:\tlearn: 0.4446270\ttotal: 1.01s\tremaining: 9.95s\n",
      "92:\tlearn: 0.4445997\ttotal: 1.02s\tremaining: 9.99s\n",
      "93:\tlearn: 0.4445621\ttotal: 1.04s\tremaining: 10s\n",
      "94:\tlearn: 0.4445145\ttotal: 1.06s\tremaining: 10.1s\n",
      "95:\tlearn: 0.4444386\ttotal: 1.07s\tremaining: 10.1s\n",
      "96:\tlearn: 0.4443777\ttotal: 1.08s\tremaining: 10.1s\n",
      "97:\tlearn: 0.4443095\ttotal: 1.09s\tremaining: 10s\n",
      "98:\tlearn: 0.4442463\ttotal: 1.11s\tremaining: 10.2s\n",
      "99:\tlearn: 0.4441889\ttotal: 1.12s\tremaining: 10.1s\n",
      "100:\tlearn: 0.4441217\ttotal: 1.14s\tremaining: 10.1s\n",
      "101:\tlearn: 0.4440572\ttotal: 1.15s\tremaining: 10.1s\n",
      "102:\tlearn: 0.4440279\ttotal: 1.17s\tremaining: 10.2s\n",
      "103:\tlearn: 0.4439486\ttotal: 1.18s\tremaining: 10.1s\n",
      "104:\tlearn: 0.4439064\ttotal: 1.2s\tremaining: 10.2s\n",
      "105:\tlearn: 0.4438766\ttotal: 1.21s\tremaining: 10.2s\n",
      "106:\tlearn: 0.4438285\ttotal: 1.22s\tremaining: 10.2s\n",
      "107:\tlearn: 0.4437673\ttotal: 1.23s\tremaining: 10.1s\n",
      "108:\tlearn: 0.4437476\ttotal: 1.24s\tremaining: 10.1s\n",
      "109:\tlearn: 0.4436979\ttotal: 1.25s\tremaining: 10.1s\n",
      "110:\tlearn: 0.4436704\ttotal: 1.26s\tremaining: 10.1s\n",
      "111:\tlearn: 0.4436236\ttotal: 1.27s\tremaining: 10.1s\n",
      "112:\tlearn: 0.4435975\ttotal: 1.28s\tremaining: 10.1s\n",
      "113:\tlearn: 0.4435366\ttotal: 1.3s\tremaining: 10.1s\n",
      "114:\tlearn: 0.4434779\ttotal: 1.31s\tremaining: 10.1s\n",
      "115:\tlearn: 0.4434394\ttotal: 1.32s\tremaining: 10s\n",
      "116:\tlearn: 0.4433998\ttotal: 1.33s\tremaining: 10s\n",
      "117:\tlearn: 0.4433650\ttotal: 1.33s\tremaining: 9.98s\n",
      "118:\tlearn: 0.4433151\ttotal: 1.34s\tremaining: 9.96s\n",
      "119:\tlearn: 0.4432814\ttotal: 1.35s\tremaining: 9.93s\n",
      "120:\tlearn: 0.4432498\ttotal: 1.36s\tremaining: 9.92s\n",
      "121:\tlearn: 0.4432185\ttotal: 1.37s\tremaining: 9.89s\n",
      "122:\tlearn: 0.4431674\ttotal: 1.38s\tremaining: 9.86s\n",
      "123:\tlearn: 0.4431382\ttotal: 1.39s\tremaining: 9.82s\n",
      "124:\tlearn: 0.4430940\ttotal: 1.4s\tremaining: 9.79s\n",
      "125:\tlearn: 0.4430598\ttotal: 1.41s\tremaining: 9.77s\n",
      "126:\tlearn: 0.4430236\ttotal: 1.42s\tremaining: 9.75s\n",
      "127:\tlearn: 0.4429782\ttotal: 1.43s\tremaining: 9.72s\n",
      "128:\tlearn: 0.4429639\ttotal: 1.44s\tremaining: 9.69s\n",
      "129:\tlearn: 0.4428932\ttotal: 1.44s\tremaining: 9.66s\n",
      "130:\tlearn: 0.4428654\ttotal: 1.45s\tremaining: 9.63s\n",
      "131:\tlearn: 0.4428410\ttotal: 1.46s\tremaining: 9.6s\n",
      "132:\tlearn: 0.4427652\ttotal: 1.47s\tremaining: 9.57s\n",
      "133:\tlearn: 0.4427210\ttotal: 1.48s\tremaining: 9.54s\n",
      "134:\tlearn: 0.4426554\ttotal: 1.49s\tremaining: 9.53s\n",
      "135:\tlearn: 0.4426144\ttotal: 1.5s\tremaining: 9.52s\n",
      "136:\tlearn: 0.4425835\ttotal: 1.51s\tremaining: 9.51s\n",
      "137:\tlearn: 0.4425505\ttotal: 1.52s\tremaining: 9.49s\n",
      "138:\tlearn: 0.4425245\ttotal: 1.53s\tremaining: 9.5s\n",
      "139:\tlearn: 0.4424918\ttotal: 1.54s\tremaining: 9.5s\n",
      "140:\tlearn: 0.4424612\ttotal: 1.56s\tremaining: 9.49s\n",
      "141:\tlearn: 0.4424281\ttotal: 1.56s\tremaining: 9.46s\n",
      "142:\tlearn: 0.4423852\ttotal: 1.57s\tremaining: 9.44s\n",
      "143:\tlearn: 0.4423529\ttotal: 1.58s\tremaining: 9.42s\n",
      "144:\tlearn: 0.4423112\ttotal: 1.59s\tremaining: 9.39s\n",
      "145:\tlearn: 0.4422842\ttotal: 1.6s\tremaining: 9.36s\n",
      "146:\tlearn: 0.4422548\ttotal: 1.61s\tremaining: 9.34s\n",
      "147:\tlearn: 0.4422225\ttotal: 1.62s\tremaining: 9.32s\n",
      "148:\tlearn: 0.4421931\ttotal: 1.63s\tremaining: 9.29s\n",
      "149:\tlearn: 0.4421729\ttotal: 1.63s\tremaining: 9.26s\n",
      "150:\tlearn: 0.4421347\ttotal: 1.64s\tremaining: 9.23s\n",
      "151:\tlearn: 0.4420793\ttotal: 1.65s\tremaining: 9.21s\n",
      "152:\tlearn: 0.4420754\ttotal: 1.66s\tremaining: 9.17s\n",
      "153:\tlearn: 0.4420353\ttotal: 1.66s\tremaining: 9.14s\n",
      "154:\tlearn: 0.4419887\ttotal: 1.67s\tremaining: 9.12s\n",
      "155:\tlearn: 0.4419378\ttotal: 1.68s\tremaining: 9.09s\n",
      "156:\tlearn: 0.4419170\ttotal: 1.69s\tremaining: 9.07s\n",
      "157:\tlearn: 0.4418798\ttotal: 1.7s\tremaining: 9.07s\n",
      "158:\tlearn: 0.4418349\ttotal: 1.71s\tremaining: 9.05s\n",
      "159:\tlearn: 0.4418059\ttotal: 1.72s\tremaining: 9.03s\n",
      "160:\tlearn: 0.4417672\ttotal: 1.73s\tremaining: 9.03s\n",
      "161:\tlearn: 0.4417172\ttotal: 1.74s\tremaining: 9.02s\n",
      "162:\tlearn: 0.4416772\ttotal: 1.75s\tremaining: 9s\n",
      "163:\tlearn: 0.4416496\ttotal: 1.76s\tremaining: 8.98s\n",
      "164:\tlearn: 0.4416131\ttotal: 1.77s\tremaining: 8.97s\n",
      "165:\tlearn: 0.4415758\ttotal: 1.78s\tremaining: 8.96s\n",
      "166:\tlearn: 0.4415484\ttotal: 1.79s\tremaining: 8.93s\n",
      "167:\tlearn: 0.4414853\ttotal: 1.8s\tremaining: 8.9s\n",
      "168:\tlearn: 0.4414480\ttotal: 1.8s\tremaining: 8.87s\n",
      "169:\tlearn: 0.4414146\ttotal: 1.81s\tremaining: 8.85s\n",
      "170:\tlearn: 0.4413786\ttotal: 1.82s\tremaining: 8.81s\n",
      "171:\tlearn: 0.4413502\ttotal: 1.82s\tremaining: 8.78s\n",
      "172:\tlearn: 0.4413451\ttotal: 1.83s\tremaining: 8.74s\n",
      "173:\tlearn: 0.4413311\ttotal: 1.84s\tremaining: 8.72s\n",
      "174:\tlearn: 0.4413070\ttotal: 1.84s\tremaining: 8.69s\n",
      "175:\tlearn: 0.4412575\ttotal: 1.85s\tremaining: 8.66s\n",
      "176:\tlearn: 0.4412083\ttotal: 1.86s\tremaining: 8.63s\n",
      "177:\tlearn: 0.4411860\ttotal: 1.86s\tremaining: 8.6s\n",
      "178:\tlearn: 0.4411673\ttotal: 1.87s\tremaining: 8.58s\n",
      "179:\tlearn: 0.4411089\ttotal: 1.88s\tremaining: 8.55s\n",
      "180:\tlearn: 0.4410630\ttotal: 1.89s\tremaining: 8.53s\n",
      "181:\tlearn: 0.4410246\ttotal: 1.89s\tremaining: 8.51s\n"
     ]
    },
    {
     "name": "stdout",
     "output_type": "stream",
     "text": [
      "182:\tlearn: 0.4410119\ttotal: 1.9s\tremaining: 8.48s\n",
      "183:\tlearn: 0.4409763\ttotal: 1.91s\tremaining: 8.46s\n",
      "184:\tlearn: 0.4409373\ttotal: 1.92s\tremaining: 8.45s\n",
      "185:\tlearn: 0.4408747\ttotal: 1.93s\tremaining: 8.43s\n",
      "186:\tlearn: 0.4408385\ttotal: 1.93s\tremaining: 8.4s\n",
      "187:\tlearn: 0.4407872\ttotal: 1.94s\tremaining: 8.4s\n",
      "188:\tlearn: 0.4407514\ttotal: 1.95s\tremaining: 8.37s\n",
      "189:\tlearn: 0.4407232\ttotal: 1.96s\tremaining: 8.35s\n",
      "190:\tlearn: 0.4406900\ttotal: 1.97s\tremaining: 8.32s\n",
      "191:\tlearn: 0.4406518\ttotal: 1.97s\tremaining: 8.3s\n",
      "192:\tlearn: 0.4406013\ttotal: 1.98s\tremaining: 8.28s\n",
      "193:\tlearn: 0.4405987\ttotal: 1.98s\tremaining: 8.24s\n",
      "194:\tlearn: 0.4405438\ttotal: 1.99s\tremaining: 8.21s\n",
      "195:\tlearn: 0.4405338\ttotal: 1.99s\tremaining: 8.18s\n",
      "196:\tlearn: 0.4404684\ttotal: 2s\tremaining: 8.15s\n",
      "197:\tlearn: 0.4404148\ttotal: 2.01s\tremaining: 8.13s\n",
      "198:\tlearn: 0.4403810\ttotal: 2.02s\tremaining: 8.14s\n",
      "199:\tlearn: 0.4403603\ttotal: 2.03s\tremaining: 8.13s\n",
      "200:\tlearn: 0.4403133\ttotal: 2.04s\tremaining: 8.11s\n",
      "201:\tlearn: 0.4402746\ttotal: 2.05s\tremaining: 8.09s\n",
      "202:\tlearn: 0.4402712\ttotal: 2.06s\tremaining: 8.07s\n",
      "203:\tlearn: 0.4402460\ttotal: 2.07s\tremaining: 8.06s\n",
      "204:\tlearn: 0.4402019\ttotal: 2.07s\tremaining: 8.04s\n",
      "205:\tlearn: 0.4401678\ttotal: 2.08s\tremaining: 8.03s\n",
      "206:\tlearn: 0.4401352\ttotal: 2.09s\tremaining: 8.01s\n",
      "207:\tlearn: 0.4401312\ttotal: 2.1s\tremaining: 7.99s\n",
      "208:\tlearn: 0.4401015\ttotal: 2.11s\tremaining: 7.97s\n",
      "209:\tlearn: 0.4400765\ttotal: 2.12s\tremaining: 7.96s\n",
      "210:\tlearn: 0.4400234\ttotal: 2.13s\tremaining: 7.95s\n",
      "211:\tlearn: 0.4400063\ttotal: 2.13s\tremaining: 7.93s\n",
      "212:\tlearn: 0.4399820\ttotal: 2.14s\tremaining: 7.92s\n",
      "213:\tlearn: 0.4399789\ttotal: 2.15s\tremaining: 7.89s\n",
      "214:\tlearn: 0.4399190\ttotal: 2.16s\tremaining: 7.88s\n",
      "215:\tlearn: 0.4398887\ttotal: 2.17s\tremaining: 7.87s\n",
      "216:\tlearn: 0.4398410\ttotal: 2.17s\tremaining: 7.85s\n",
      "217:\tlearn: 0.4398043\ttotal: 2.18s\tremaining: 7.84s\n",
      "218:\tlearn: 0.4397839\ttotal: 2.19s\tremaining: 7.82s\n",
      "219:\tlearn: 0.4397174\ttotal: 2.2s\tremaining: 7.79s\n",
      "220:\tlearn: 0.4396815\ttotal: 2.21s\tremaining: 7.77s\n",
      "221:\tlearn: 0.4396377\ttotal: 2.21s\tremaining: 7.76s\n",
      "222:\tlearn: 0.4395978\ttotal: 2.22s\tremaining: 7.74s\n",
      "223:\tlearn: 0.4395475\ttotal: 2.23s\tremaining: 7.72s\n",
      "224:\tlearn: 0.4395097\ttotal: 2.24s\tremaining: 7.7s\n",
      "225:\tlearn: 0.4394610\ttotal: 2.24s\tremaining: 7.68s\n",
      "226:\tlearn: 0.4394344\ttotal: 2.25s\tremaining: 7.67s\n",
      "227:\tlearn: 0.4393979\ttotal: 2.26s\tremaining: 7.66s\n",
      "228:\tlearn: 0.4393594\ttotal: 2.27s\tremaining: 7.64s\n",
      "229:\tlearn: 0.4393058\ttotal: 2.28s\tremaining: 7.63s\n",
      "230:\tlearn: 0.4392649\ttotal: 2.29s\tremaining: 7.61s\n",
      "231:\tlearn: 0.4392399\ttotal: 2.29s\tremaining: 7.6s\n",
      "232:\tlearn: 0.4391842\ttotal: 2.3s\tremaining: 7.58s\n",
      "233:\tlearn: 0.4391402\ttotal: 2.31s\tremaining: 7.57s\n",
      "234:\tlearn: 0.4391001\ttotal: 2.32s\tremaining: 7.56s\n",
      "235:\tlearn: 0.4390588\ttotal: 2.33s\tremaining: 7.54s\n",
      "236:\tlearn: 0.4390220\ttotal: 2.34s\tremaining: 7.54s\n",
      "237:\tlearn: 0.4389922\ttotal: 2.35s\tremaining: 7.52s\n",
      "238:\tlearn: 0.4389659\ttotal: 2.36s\tremaining: 7.51s\n",
      "239:\tlearn: 0.4389254\ttotal: 2.37s\tremaining: 7.5s\n",
      "240:\tlearn: 0.4388924\ttotal: 2.38s\tremaining: 7.49s\n",
      "241:\tlearn: 0.4388474\ttotal: 2.39s\tremaining: 7.48s\n",
      "242:\tlearn: 0.4387941\ttotal: 2.4s\tremaining: 7.46s\n",
      "243:\tlearn: 0.4387391\ttotal: 2.4s\tremaining: 7.45s\n",
      "244:\tlearn: 0.4386993\ttotal: 2.41s\tremaining: 7.44s\n",
      "245:\tlearn: 0.4386609\ttotal: 2.42s\tremaining: 7.42s\n",
      "246:\tlearn: 0.4386077\ttotal: 2.43s\tremaining: 7.41s\n",
      "247:\tlearn: 0.4385621\ttotal: 2.44s\tremaining: 7.39s\n",
      "248:\tlearn: 0.4385139\ttotal: 2.45s\tremaining: 7.38s\n",
      "249:\tlearn: 0.4384617\ttotal: 2.45s\tremaining: 7.36s\n",
      "250:\tlearn: 0.4384243\ttotal: 2.46s\tremaining: 7.34s\n",
      "251:\tlearn: 0.4383602\ttotal: 2.47s\tremaining: 7.33s\n",
      "252:\tlearn: 0.4383343\ttotal: 2.48s\tremaining: 7.31s\n",
      "253:\tlearn: 0.4382866\ttotal: 2.48s\tremaining: 7.3s\n",
      "254:\tlearn: 0.4382344\ttotal: 2.49s\tremaining: 7.29s\n",
      "255:\tlearn: 0.4381876\ttotal: 2.5s\tremaining: 7.27s\n",
      "256:\tlearn: 0.4381441\ttotal: 2.51s\tremaining: 7.25s\n",
      "257:\tlearn: 0.4380754\ttotal: 2.52s\tremaining: 7.24s\n",
      "258:\tlearn: 0.4380373\ttotal: 2.53s\tremaining: 7.23s\n",
      "259:\tlearn: 0.4379571\ttotal: 2.54s\tremaining: 7.22s\n",
      "260:\tlearn: 0.4379235\ttotal: 2.55s\tremaining: 7.21s\n",
      "261:\tlearn: 0.4378643\ttotal: 2.56s\tremaining: 7.2s\n",
      "262:\tlearn: 0.4377978\ttotal: 2.56s\tremaining: 7.19s\n",
      "263:\tlearn: 0.4377367\ttotal: 2.57s\tremaining: 7.17s\n",
      "264:\tlearn: 0.4376810\ttotal: 2.58s\tremaining: 7.16s\n",
      "265:\tlearn: 0.4376383\ttotal: 2.59s\tremaining: 7.15s\n",
      "266:\tlearn: 0.4375879\ttotal: 2.6s\tremaining: 7.13s\n",
      "267:\tlearn: 0.4375150\ttotal: 2.6s\tremaining: 7.12s\n",
      "268:\tlearn: 0.4374497\ttotal: 2.61s\tremaining: 7.1s\n",
      "269:\tlearn: 0.4373998\ttotal: 2.62s\tremaining: 7.09s\n",
      "270:\tlearn: 0.4373447\ttotal: 2.63s\tremaining: 7.08s\n",
      "271:\tlearn: 0.4372843\ttotal: 2.64s\tremaining: 7.06s\n",
      "272:\tlearn: 0.4371960\ttotal: 2.65s\tremaining: 7.05s\n",
      "273:\tlearn: 0.4371551\ttotal: 2.66s\tremaining: 7.04s\n",
      "274:\tlearn: 0.4371166\ttotal: 2.67s\tremaining: 7.03s\n",
      "275:\tlearn: 0.4370509\ttotal: 2.67s\tremaining: 7.01s\n",
      "276:\tlearn: 0.4370030\ttotal: 2.68s\tremaining: 6.99s\n",
      "277:\tlearn: 0.4369408\ttotal: 2.69s\tremaining: 6.97s\n",
      "278:\tlearn: 0.4368958\ttotal: 2.69s\tremaining: 6.96s\n",
      "279:\tlearn: 0.4368543\ttotal: 2.7s\tremaining: 6.94s\n",
      "280:\tlearn: 0.4368028\ttotal: 2.71s\tremaining: 6.92s\n",
      "281:\tlearn: 0.4367465\ttotal: 2.71s\tremaining: 6.9s\n",
      "282:\tlearn: 0.4366788\ttotal: 2.72s\tremaining: 6.88s\n",
      "283:\tlearn: 0.4366280\ttotal: 2.73s\tremaining: 6.87s\n",
      "284:\tlearn: 0.4365755\ttotal: 2.74s\tremaining: 6.87s\n",
      "285:\tlearn: 0.4365367\ttotal: 2.74s\tremaining: 6.85s\n",
      "286:\tlearn: 0.4364704\ttotal: 2.75s\tremaining: 6.83s\n",
      "287:\tlearn: 0.4364066\ttotal: 2.76s\tremaining: 6.82s\n",
      "288:\tlearn: 0.4363478\ttotal: 2.76s\tremaining: 6.8s\n",
      "289:\tlearn: 0.4363008\ttotal: 2.77s\tremaining: 6.78s\n",
      "290:\tlearn: 0.4362450\ttotal: 2.78s\tremaining: 6.76s\n",
      "291:\tlearn: 0.4362045\ttotal: 2.78s\tremaining: 6.75s\n",
      "292:\tlearn: 0.4361650\ttotal: 2.79s\tremaining: 6.73s\n",
      "293:\tlearn: 0.4361192\ttotal: 2.8s\tremaining: 6.72s\n",
      "294:\tlearn: 0.4360742\ttotal: 2.8s\tremaining: 6.7s\n",
      "295:\tlearn: 0.4360123\ttotal: 2.81s\tremaining: 6.68s\n",
      "296:\tlearn: 0.4359487\ttotal: 2.81s\tremaining: 6.66s\n",
      "297:\tlearn: 0.4358908\ttotal: 2.82s\tremaining: 6.64s\n",
      "298:\tlearn: 0.4358524\ttotal: 2.83s\tremaining: 6.63s\n",
      "299:\tlearn: 0.4357810\ttotal: 2.84s\tremaining: 6.62s\n",
      "300:\tlearn: 0.4357176\ttotal: 2.84s\tremaining: 6.61s\n",
      "301:\tlearn: 0.4356850\ttotal: 2.85s\tremaining: 6.59s\n",
      "302:\tlearn: 0.4356336\ttotal: 2.86s\tremaining: 6.57s\n",
      "303:\tlearn: 0.4355807\ttotal: 2.86s\tremaining: 6.55s\n",
      "304:\tlearn: 0.4355184\ttotal: 2.87s\tremaining: 6.54s\n",
      "305:\tlearn: 0.4354713\ttotal: 2.88s\tremaining: 6.53s\n",
      "306:\tlearn: 0.4354229\ttotal: 2.88s\tremaining: 6.51s\n",
      "307:\tlearn: 0.4353707\ttotal: 2.89s\tremaining: 6.5s\n",
      "308:\tlearn: 0.4353149\ttotal: 2.9s\tremaining: 6.49s\n",
      "309:\tlearn: 0.4352624\ttotal: 2.91s\tremaining: 6.47s\n",
      "310:\tlearn: 0.4352189\ttotal: 2.91s\tremaining: 6.45s\n",
      "311:\tlearn: 0.4351729\ttotal: 2.92s\tremaining: 6.44s\n",
      "312:\tlearn: 0.4351242\ttotal: 2.93s\tremaining: 6.42s\n",
      "313:\tlearn: 0.4350660\ttotal: 2.93s\tremaining: 6.41s\n",
      "314:\tlearn: 0.4350244\ttotal: 2.94s\tremaining: 6.4s\n",
      "315:\tlearn: 0.4349711\ttotal: 2.95s\tremaining: 6.39s\n",
      "316:\tlearn: 0.4349065\ttotal: 2.96s\tremaining: 6.38s\n",
      "317:\tlearn: 0.4348492\ttotal: 2.96s\tremaining: 6.36s\n",
      "318:\tlearn: 0.4347926\ttotal: 2.97s\tremaining: 6.34s\n",
      "319:\tlearn: 0.4347294\ttotal: 2.98s\tremaining: 6.33s\n",
      "320:\tlearn: 0.4346922\ttotal: 2.99s\tremaining: 6.32s\n",
      "321:\tlearn: 0.4346452\ttotal: 3s\tremaining: 6.31s\n",
      "322:\tlearn: 0.4345898\ttotal: 3s\tremaining: 6.3s\n",
      "323:\tlearn: 0.4345464\ttotal: 3.01s\tremaining: 6.28s\n",
      "324:\tlearn: 0.4345120\ttotal: 3.02s\tremaining: 6.27s\n",
      "325:\tlearn: 0.4344733\ttotal: 3.02s\tremaining: 6.25s\n",
      "326:\tlearn: 0.4344306\ttotal: 3.03s\tremaining: 6.24s\n",
      "327:\tlearn: 0.4343683\ttotal: 3.04s\tremaining: 6.22s\n",
      "328:\tlearn: 0.4343346\ttotal: 3.04s\tremaining: 6.2s\n",
      "329:\tlearn: 0.4342908\ttotal: 3.05s\tremaining: 6.19s\n",
      "330:\tlearn: 0.4342365\ttotal: 3.05s\tremaining: 6.17s\n",
      "331:\tlearn: 0.4341793\ttotal: 3.06s\tremaining: 6.16s\n",
      "332:\tlearn: 0.4341329\ttotal: 3.07s\tremaining: 6.14s\n",
      "333:\tlearn: 0.4340838\ttotal: 3.07s\tremaining: 6.13s\n",
      "334:\tlearn: 0.4340281\ttotal: 3.08s\tremaining: 6.11s\n",
      "335:\tlearn: 0.4339831\ttotal: 3.08s\tremaining: 6.1s\n",
      "336:\tlearn: 0.4339522\ttotal: 3.09s\tremaining: 6.08s\n",
      "337:\tlearn: 0.4339095\ttotal: 3.1s\tremaining: 6.07s\n",
      "338:\tlearn: 0.4338364\ttotal: 3.1s\tremaining: 6.05s\n",
      "339:\tlearn: 0.4337804\ttotal: 3.11s\tremaining: 6.04s\n",
      "340:\tlearn: 0.4337361\ttotal: 3.12s\tremaining: 6.03s\n",
      "341:\tlearn: 0.4336903\ttotal: 3.12s\tremaining: 6.01s\n",
      "342:\tlearn: 0.4336251\ttotal: 3.13s\tremaining: 6s\n",
      "343:\tlearn: 0.4335769\ttotal: 3.14s\tremaining: 5.98s\n"
     ]
    },
    {
     "name": "stdout",
     "output_type": "stream",
     "text": [
      "344:\tlearn: 0.4335321\ttotal: 3.14s\tremaining: 5.97s\n",
      "345:\tlearn: 0.4334886\ttotal: 3.15s\tremaining: 5.96s\n",
      "346:\tlearn: 0.4334367\ttotal: 3.16s\tremaining: 5.95s\n",
      "347:\tlearn: 0.4334031\ttotal: 3.17s\tremaining: 5.94s\n",
      "348:\tlearn: 0.4333471\ttotal: 3.18s\tremaining: 5.92s\n",
      "349:\tlearn: 0.4332873\ttotal: 3.18s\tremaining: 5.91s\n",
      "350:\tlearn: 0.4332383\ttotal: 3.19s\tremaining: 5.9s\n",
      "351:\tlearn: 0.4331810\ttotal: 3.2s\tremaining: 5.88s\n",
      "352:\tlearn: 0.4331511\ttotal: 3.2s\tremaining: 5.87s\n",
      "353:\tlearn: 0.4331179\ttotal: 3.21s\tremaining: 5.86s\n",
      "354:\tlearn: 0.4330694\ttotal: 3.21s\tremaining: 5.84s\n",
      "355:\tlearn: 0.4330305\ttotal: 3.22s\tremaining: 5.83s\n",
      "356:\tlearn: 0.4329985\ttotal: 3.23s\tremaining: 5.81s\n",
      "357:\tlearn: 0.4329213\ttotal: 3.23s\tremaining: 5.8s\n",
      "358:\tlearn: 0.4328677\ttotal: 3.24s\tremaining: 5.79s\n",
      "359:\tlearn: 0.4328321\ttotal: 3.25s\tremaining: 5.77s\n",
      "360:\tlearn: 0.4327751\ttotal: 3.25s\tremaining: 5.76s\n",
      "361:\tlearn: 0.4327369\ttotal: 3.26s\tremaining: 5.74s\n",
      "362:\tlearn: 0.4326921\ttotal: 3.27s\tremaining: 5.73s\n",
      "363:\tlearn: 0.4326399\ttotal: 3.27s\tremaining: 5.72s\n",
      "364:\tlearn: 0.4325821\ttotal: 3.28s\tremaining: 5.7s\n",
      "365:\tlearn: 0.4325369\ttotal: 3.29s\tremaining: 5.69s\n",
      "366:\tlearn: 0.4324908\ttotal: 3.29s\tremaining: 5.68s\n",
      "367:\tlearn: 0.4324590\ttotal: 3.3s\tremaining: 5.67s\n",
      "368:\tlearn: 0.4324149\ttotal: 3.31s\tremaining: 5.66s\n",
      "369:\tlearn: 0.4323655\ttotal: 3.31s\tremaining: 5.64s\n",
      "370:\tlearn: 0.4323248\ttotal: 3.32s\tremaining: 5.63s\n",
      "371:\tlearn: 0.4322962\ttotal: 3.33s\tremaining: 5.62s\n",
      "372:\tlearn: 0.4322329\ttotal: 3.34s\tremaining: 5.61s\n",
      "373:\tlearn: 0.4321926\ttotal: 3.35s\tremaining: 5.6s\n",
      "374:\tlearn: 0.4321390\ttotal: 3.35s\tremaining: 5.59s\n",
      "375:\tlearn: 0.4320994\ttotal: 3.36s\tremaining: 5.58s\n",
      "376:\tlearn: 0.4320603\ttotal: 3.37s\tremaining: 5.57s\n",
      "377:\tlearn: 0.4320199\ttotal: 3.38s\tremaining: 5.56s\n",
      "378:\tlearn: 0.4319732\ttotal: 3.39s\tremaining: 5.55s\n",
      "379:\tlearn: 0.4319314\ttotal: 3.4s\tremaining: 5.54s\n",
      "380:\tlearn: 0.4318936\ttotal: 3.4s\tremaining: 5.53s\n",
      "381:\tlearn: 0.4318335\ttotal: 3.41s\tremaining: 5.52s\n",
      "382:\tlearn: 0.4317852\ttotal: 3.42s\tremaining: 5.5s\n",
      "383:\tlearn: 0.4317600\ttotal: 3.42s\tremaining: 5.49s\n",
      "384:\tlearn: 0.4317084\ttotal: 3.43s\tremaining: 5.48s\n",
      "385:\tlearn: 0.4316735\ttotal: 3.44s\tremaining: 5.46s\n",
      "386:\tlearn: 0.4316253\ttotal: 3.44s\tremaining: 5.45s\n",
      "387:\tlearn: 0.4315818\ttotal: 3.45s\tremaining: 5.44s\n",
      "388:\tlearn: 0.4315473\ttotal: 3.46s\tremaining: 5.43s\n",
      "389:\tlearn: 0.4314940\ttotal: 3.46s\tremaining: 5.42s\n",
      "390:\tlearn: 0.4314555\ttotal: 3.47s\tremaining: 5.41s\n",
      "391:\tlearn: 0.4314130\ttotal: 3.48s\tremaining: 5.39s\n",
      "392:\tlearn: 0.4313606\ttotal: 3.48s\tremaining: 5.38s\n",
      "393:\tlearn: 0.4313085\ttotal: 3.49s\tremaining: 5.37s\n",
      "394:\tlearn: 0.4312653\ttotal: 3.5s\tremaining: 5.36s\n",
      "395:\tlearn: 0.4312249\ttotal: 3.5s\tremaining: 5.34s\n",
      "396:\tlearn: 0.4311787\ttotal: 3.51s\tremaining: 5.33s\n",
      "397:\tlearn: 0.4311160\ttotal: 3.52s\tremaining: 5.32s\n",
      "398:\tlearn: 0.4310857\ttotal: 3.52s\tremaining: 5.31s\n",
      "399:\tlearn: 0.4310340\ttotal: 3.53s\tremaining: 5.3s\n",
      "400:\tlearn: 0.4309995\ttotal: 3.54s\tremaining: 5.29s\n",
      "401:\tlearn: 0.4309615\ttotal: 3.54s\tremaining: 5.27s\n",
      "402:\tlearn: 0.4309255\ttotal: 3.56s\tremaining: 5.27s\n",
      "403:\tlearn: 0.4308821\ttotal: 3.56s\tremaining: 5.26s\n",
      "404:\tlearn: 0.4308464\ttotal: 3.57s\tremaining: 5.25s\n",
      "405:\tlearn: 0.4307882\ttotal: 3.58s\tremaining: 5.24s\n",
      "406:\tlearn: 0.4307401\ttotal: 3.59s\tremaining: 5.23s\n",
      "407:\tlearn: 0.4306901\ttotal: 3.59s\tremaining: 5.21s\n",
      "408:\tlearn: 0.4306650\ttotal: 3.6s\tremaining: 5.2s\n",
      "409:\tlearn: 0.4306324\ttotal: 3.61s\tremaining: 5.19s\n",
      "410:\tlearn: 0.4305892\ttotal: 3.61s\tremaining: 5.18s\n",
      "411:\tlearn: 0.4305492\ttotal: 3.62s\tremaining: 5.16s\n",
      "412:\tlearn: 0.4305045\ttotal: 3.63s\tremaining: 5.15s\n",
      "413:\tlearn: 0.4304503\ttotal: 3.63s\tremaining: 5.14s\n",
      "414:\tlearn: 0.4304220\ttotal: 3.64s\tremaining: 5.13s\n",
      "415:\tlearn: 0.4303952\ttotal: 3.65s\tremaining: 5.12s\n",
      "416:\tlearn: 0.4303484\ttotal: 3.66s\tremaining: 5.11s\n",
      "417:\tlearn: 0.4302944\ttotal: 3.67s\tremaining: 5.11s\n",
      "418:\tlearn: 0.4302478\ttotal: 3.67s\tremaining: 5.1s\n",
      "419:\tlearn: 0.4302111\ttotal: 3.68s\tremaining: 5.09s\n",
      "420:\tlearn: 0.4301817\ttotal: 3.69s\tremaining: 5.08s\n",
      "421:\tlearn: 0.4301538\ttotal: 3.7s\tremaining: 5.06s\n",
      "422:\tlearn: 0.4301038\ttotal: 3.7s\tremaining: 5.05s\n",
      "423:\tlearn: 0.4300646\ttotal: 3.71s\tremaining: 5.04s\n",
      "424:\tlearn: 0.4300168\ttotal: 3.72s\tremaining: 5.03s\n",
      "425:\tlearn: 0.4299916\ttotal: 3.73s\tremaining: 5.02s\n",
      "426:\tlearn: 0.4299529\ttotal: 3.74s\tremaining: 5.01s\n",
      "427:\tlearn: 0.4299252\ttotal: 3.75s\tremaining: 5.01s\n",
      "428:\tlearn: 0.4298765\ttotal: 3.75s\tremaining: 5s\n",
      "429:\tlearn: 0.4298141\ttotal: 3.76s\tremaining: 4.99s\n",
      "430:\tlearn: 0.4297776\ttotal: 3.77s\tremaining: 4.98s\n",
      "431:\tlearn: 0.4297439\ttotal: 3.78s\tremaining: 4.97s\n",
      "432:\tlearn: 0.4297107\ttotal: 3.79s\tremaining: 4.96s\n",
      "433:\tlearn: 0.4296603\ttotal: 3.8s\tremaining: 4.96s\n",
      "434:\tlearn: 0.4296036\ttotal: 3.81s\tremaining: 4.95s\n",
      "435:\tlearn: 0.4295695\ttotal: 3.82s\tremaining: 4.94s\n",
      "436:\tlearn: 0.4295310\ttotal: 3.83s\tremaining: 4.93s\n",
      "437:\tlearn: 0.4295042\ttotal: 3.83s\tremaining: 4.92s\n",
      "438:\tlearn: 0.4294548\ttotal: 3.84s\tremaining: 4.91s\n",
      "439:\tlearn: 0.4294117\ttotal: 3.85s\tremaining: 4.9s\n",
      "440:\tlearn: 0.4293632\ttotal: 3.86s\tremaining: 4.89s\n",
      "441:\tlearn: 0.4293319\ttotal: 3.87s\tremaining: 4.89s\n",
      "442:\tlearn: 0.4292962\ttotal: 3.88s\tremaining: 4.88s\n",
      "443:\tlearn: 0.4292514\ttotal: 3.89s\tremaining: 4.87s\n",
      "444:\tlearn: 0.4292195\ttotal: 3.89s\tremaining: 4.86s\n",
      "445:\tlearn: 0.4291771\ttotal: 3.9s\tremaining: 4.85s\n",
      "446:\tlearn: 0.4291335\ttotal: 3.91s\tremaining: 4.84s\n",
      "447:\tlearn: 0.4290963\ttotal: 3.92s\tremaining: 4.83s\n",
      "448:\tlearn: 0.4290574\ttotal: 3.93s\tremaining: 4.82s\n",
      "449:\tlearn: 0.4290223\ttotal: 3.94s\tremaining: 4.82s\n",
      "450:\tlearn: 0.4289768\ttotal: 3.95s\tremaining: 4.81s\n",
      "451:\tlearn: 0.4289403\ttotal: 3.96s\tremaining: 4.8s\n",
      "452:\tlearn: 0.4289054\ttotal: 3.97s\tremaining: 4.79s\n",
      "453:\tlearn: 0.4288756\ttotal: 3.98s\tremaining: 4.78s\n",
      "454:\tlearn: 0.4288384\ttotal: 3.98s\tremaining: 4.77s\n",
      "455:\tlearn: 0.4288026\ttotal: 4s\tremaining: 4.77s\n",
      "456:\tlearn: 0.4287599\ttotal: 4s\tremaining: 4.76s\n",
      "457:\tlearn: 0.4287254\ttotal: 4.01s\tremaining: 4.75s\n",
      "458:\tlearn: 0.4286845\ttotal: 4.02s\tremaining: 4.74s\n",
      "459:\tlearn: 0.4286489\ttotal: 4.03s\tremaining: 4.73s\n",
      "460:\tlearn: 0.4286143\ttotal: 4.04s\tremaining: 4.72s\n",
      "461:\tlearn: 0.4285786\ttotal: 4.05s\tremaining: 4.71s\n",
      "462:\tlearn: 0.4285407\ttotal: 4.05s\tremaining: 4.7s\n",
      "463:\tlearn: 0.4284865\ttotal: 4.06s\tremaining: 4.69s\n",
      "464:\tlearn: 0.4284651\ttotal: 4.07s\tremaining: 4.68s\n",
      "465:\tlearn: 0.4284225\ttotal: 4.08s\tremaining: 4.67s\n",
      "466:\tlearn: 0.4283696\ttotal: 4.09s\tremaining: 4.67s\n",
      "467:\tlearn: 0.4283437\ttotal: 4.1s\tremaining: 4.66s\n",
      "468:\tlearn: 0.4283102\ttotal: 4.11s\tremaining: 4.65s\n",
      "469:\tlearn: 0.4282665\ttotal: 4.11s\tremaining: 4.64s\n",
      "470:\tlearn: 0.4282244\ttotal: 4.12s\tremaining: 4.63s\n",
      "471:\tlearn: 0.4281935\ttotal: 4.13s\tremaining: 4.62s\n",
      "472:\tlearn: 0.4281514\ttotal: 4.14s\tremaining: 4.61s\n",
      "473:\tlearn: 0.4281268\ttotal: 4.15s\tremaining: 4.6s\n",
      "474:\tlearn: 0.4280957\ttotal: 4.16s\tremaining: 4.59s\n",
      "475:\tlearn: 0.4280577\ttotal: 4.17s\tremaining: 4.59s\n",
      "476:\tlearn: 0.4280343\ttotal: 4.17s\tremaining: 4.58s\n",
      "477:\tlearn: 0.4279754\ttotal: 4.19s\tremaining: 4.57s\n",
      "478:\tlearn: 0.4279235\ttotal: 4.2s\tremaining: 4.57s\n",
      "479:\tlearn: 0.4278763\ttotal: 4.21s\tremaining: 4.56s\n",
      "480:\tlearn: 0.4278280\ttotal: 4.22s\tremaining: 4.55s\n",
      "481:\tlearn: 0.4277931\ttotal: 4.22s\tremaining: 4.54s\n",
      "482:\tlearn: 0.4277334\ttotal: 4.23s\tremaining: 4.53s\n",
      "483:\tlearn: 0.4276983\ttotal: 4.23s\tremaining: 4.51s\n",
      "484:\tlearn: 0.4276485\ttotal: 4.24s\tremaining: 4.5s\n",
      "485:\tlearn: 0.4276012\ttotal: 4.25s\tremaining: 4.49s\n",
      "486:\tlearn: 0.4275726\ttotal: 4.25s\tremaining: 4.48s\n",
      "487:\tlearn: 0.4275436\ttotal: 4.26s\tremaining: 4.47s\n",
      "488:\tlearn: 0.4275205\ttotal: 4.27s\tremaining: 4.46s\n",
      "489:\tlearn: 0.4274726\ttotal: 4.27s\tremaining: 4.45s\n",
      "490:\tlearn: 0.4274346\ttotal: 4.28s\tremaining: 4.44s\n",
      "491:\tlearn: 0.4274040\ttotal: 4.29s\tremaining: 4.43s\n",
      "492:\tlearn: 0.4273551\ttotal: 4.29s\tremaining: 4.42s\n",
      "493:\tlearn: 0.4273228\ttotal: 4.3s\tremaining: 4.41s\n",
      "494:\tlearn: 0.4272672\ttotal: 4.31s\tremaining: 4.4s\n",
      "495:\tlearn: 0.4272235\ttotal: 4.32s\tremaining: 4.39s\n",
      "496:\tlearn: 0.4271927\ttotal: 4.33s\tremaining: 4.38s\n",
      "497:\tlearn: 0.4271505\ttotal: 4.34s\tremaining: 4.37s\n",
      "498:\tlearn: 0.4271063\ttotal: 4.34s\tremaining: 4.36s\n",
      "499:\tlearn: 0.4270727\ttotal: 4.35s\tremaining: 4.35s\n",
      "500:\tlearn: 0.4270403\ttotal: 4.36s\tremaining: 4.34s\n",
      "501:\tlearn: 0.4269998\ttotal: 4.37s\tremaining: 4.33s\n",
      "502:\tlearn: 0.4269590\ttotal: 4.38s\tremaining: 4.33s\n"
     ]
    },
    {
     "name": "stdout",
     "output_type": "stream",
     "text": [
      "503:\tlearn: 0.4269300\ttotal: 4.39s\tremaining: 4.32s\n",
      "504:\tlearn: 0.4268973\ttotal: 4.4s\tremaining: 4.31s\n",
      "505:\tlearn: 0.4268641\ttotal: 4.41s\tremaining: 4.3s\n",
      "506:\tlearn: 0.4268318\ttotal: 4.42s\tremaining: 4.3s\n",
      "507:\tlearn: 0.4267773\ttotal: 4.43s\tremaining: 4.29s\n",
      "508:\tlearn: 0.4267349\ttotal: 4.44s\tremaining: 4.28s\n",
      "509:\tlearn: 0.4267061\ttotal: 4.45s\tremaining: 4.27s\n",
      "510:\tlearn: 0.4266436\ttotal: 4.46s\tremaining: 4.26s\n",
      "511:\tlearn: 0.4266127\ttotal: 4.46s\tremaining: 4.26s\n",
      "512:\tlearn: 0.4265650\ttotal: 4.47s\tremaining: 4.25s\n",
      "513:\tlearn: 0.4265035\ttotal: 4.48s\tremaining: 4.24s\n",
      "514:\tlearn: 0.4264620\ttotal: 4.49s\tremaining: 4.23s\n",
      "515:\tlearn: 0.4264335\ttotal: 4.5s\tremaining: 4.22s\n",
      "516:\tlearn: 0.4263953\ttotal: 4.51s\tremaining: 4.21s\n",
      "517:\tlearn: 0.4263488\ttotal: 4.52s\tremaining: 4.2s\n",
      "518:\tlearn: 0.4263119\ttotal: 4.53s\tremaining: 4.19s\n",
      "519:\tlearn: 0.4262538\ttotal: 4.54s\tremaining: 4.19s\n",
      "520:\tlearn: 0.4262192\ttotal: 4.55s\tremaining: 4.18s\n",
      "521:\tlearn: 0.4261825\ttotal: 4.56s\tremaining: 4.17s\n",
      "522:\tlearn: 0.4261537\ttotal: 4.57s\tremaining: 4.17s\n",
      "523:\tlearn: 0.4261163\ttotal: 4.58s\tremaining: 4.16s\n",
      "524:\tlearn: 0.4260873\ttotal: 4.59s\tremaining: 4.15s\n",
      "525:\tlearn: 0.4260449\ttotal: 4.6s\tremaining: 4.15s\n",
      "526:\tlearn: 0.4259780\ttotal: 4.62s\tremaining: 4.15s\n",
      "527:\tlearn: 0.4259514\ttotal: 4.63s\tremaining: 4.14s\n",
      "528:\tlearn: 0.4258970\ttotal: 4.64s\tremaining: 4.13s\n",
      "529:\tlearn: 0.4258505\ttotal: 4.65s\tremaining: 4.12s\n",
      "530:\tlearn: 0.4258241\ttotal: 4.66s\tremaining: 4.12s\n",
      "531:\tlearn: 0.4257873\ttotal: 4.67s\tremaining: 4.11s\n",
      "532:\tlearn: 0.4257477\ttotal: 4.68s\tremaining: 4.1s\n",
      "533:\tlearn: 0.4257193\ttotal: 4.68s\tremaining: 4.09s\n",
      "534:\tlearn: 0.4256874\ttotal: 4.69s\tremaining: 4.08s\n",
      "535:\tlearn: 0.4256668\ttotal: 4.7s\tremaining: 4.07s\n",
      "536:\tlearn: 0.4256388\ttotal: 4.71s\tremaining: 4.06s\n",
      "537:\tlearn: 0.4255989\ttotal: 4.71s\tremaining: 4.05s\n",
      "538:\tlearn: 0.4255701\ttotal: 4.72s\tremaining: 4.04s\n",
      "539:\tlearn: 0.4255291\ttotal: 4.72s\tremaining: 4.03s\n",
      "540:\tlearn: 0.4254988\ttotal: 4.73s\tremaining: 4.01s\n",
      "541:\tlearn: 0.4254662\ttotal: 4.74s\tremaining: 4s\n",
      "542:\tlearn: 0.4254317\ttotal: 4.74s\tremaining: 3.99s\n",
      "543:\tlearn: 0.4253876\ttotal: 4.75s\tremaining: 3.98s\n",
      "544:\tlearn: 0.4253406\ttotal: 4.76s\tremaining: 3.97s\n",
      "545:\tlearn: 0.4253096\ttotal: 4.76s\tremaining: 3.96s\n",
      "546:\tlearn: 0.4252806\ttotal: 4.77s\tremaining: 3.95s\n",
      "547:\tlearn: 0.4252421\ttotal: 4.78s\tremaining: 3.94s\n",
      "548:\tlearn: 0.4252142\ttotal: 4.78s\tremaining: 3.93s\n",
      "549:\tlearn: 0.4251845\ttotal: 4.79s\tremaining: 3.92s\n",
      "550:\tlearn: 0.4251171\ttotal: 4.8s\tremaining: 3.91s\n",
      "551:\tlearn: 0.4250880\ttotal: 4.8s\tremaining: 3.9s\n",
      "552:\tlearn: 0.4250559\ttotal: 4.82s\tremaining: 3.89s\n",
      "553:\tlearn: 0.4250078\ttotal: 4.83s\tremaining: 3.88s\n",
      "554:\tlearn: 0.4249663\ttotal: 4.83s\tremaining: 3.88s\n",
      "555:\tlearn: 0.4249250\ttotal: 4.84s\tremaining: 3.87s\n",
      "556:\tlearn: 0.4248534\ttotal: 4.85s\tremaining: 3.86s\n",
      "557:\tlearn: 0.4248122\ttotal: 4.86s\tremaining: 3.85s\n",
      "558:\tlearn: 0.4247801\ttotal: 4.87s\tremaining: 3.84s\n",
      "559:\tlearn: 0.4247478\ttotal: 4.88s\tremaining: 3.83s\n",
      "560:\tlearn: 0.4246996\ttotal: 4.89s\tremaining: 3.83s\n",
      "561:\tlearn: 0.4246330\ttotal: 4.91s\tremaining: 3.82s\n",
      "562:\tlearn: 0.4246015\ttotal: 4.92s\tremaining: 3.81s\n",
      "563:\tlearn: 0.4245758\ttotal: 4.92s\tremaining: 3.81s\n",
      "564:\tlearn: 0.4245284\ttotal: 4.93s\tremaining: 3.8s\n",
      "565:\tlearn: 0.4245001\ttotal: 4.94s\tremaining: 3.79s\n",
      "566:\tlearn: 0.4244743\ttotal: 4.95s\tremaining: 3.78s\n",
      "567:\tlearn: 0.4244485\ttotal: 4.95s\tremaining: 3.77s\n",
      "568:\tlearn: 0.4244151\ttotal: 4.96s\tremaining: 3.76s\n",
      "569:\tlearn: 0.4243760\ttotal: 4.97s\tremaining: 3.75s\n",
      "570:\tlearn: 0.4243154\ttotal: 4.98s\tremaining: 3.74s\n",
      "571:\tlearn: 0.4242718\ttotal: 4.98s\tremaining: 3.73s\n",
      "572:\tlearn: 0.4242226\ttotal: 4.99s\tremaining: 3.72s\n",
      "573:\tlearn: 0.4241862\ttotal: 5s\tremaining: 3.71s\n",
      "574:\tlearn: 0.4241521\ttotal: 5s\tremaining: 3.7s\n",
      "575:\tlearn: 0.4241124\ttotal: 5.01s\tremaining: 3.69s\n",
      "576:\tlearn: 0.4240562\ttotal: 5.01s\tremaining: 3.68s\n",
      "577:\tlearn: 0.4240055\ttotal: 5.02s\tremaining: 3.67s\n",
      "578:\tlearn: 0.4239583\ttotal: 5.03s\tremaining: 3.66s\n",
      "579:\tlearn: 0.4239109\ttotal: 5.04s\tremaining: 3.65s\n",
      "580:\tlearn: 0.4238452\ttotal: 5.05s\tremaining: 3.64s\n",
      "581:\tlearn: 0.4238014\ttotal: 5.06s\tremaining: 3.63s\n",
      "582:\tlearn: 0.4237413\ttotal: 5.07s\tremaining: 3.63s\n",
      "583:\tlearn: 0.4236967\ttotal: 5.08s\tremaining: 3.62s\n",
      "584:\tlearn: 0.4236497\ttotal: 5.09s\tremaining: 3.61s\n",
      "585:\tlearn: 0.4236050\ttotal: 5.1s\tremaining: 3.6s\n",
      "586:\tlearn: 0.4235716\ttotal: 5.11s\tremaining: 3.59s\n",
      "587:\tlearn: 0.4235300\ttotal: 5.12s\tremaining: 3.58s\n",
      "588:\tlearn: 0.4234680\ttotal: 5.13s\tremaining: 3.58s\n",
      "589:\tlearn: 0.4234328\ttotal: 5.13s\tremaining: 3.57s\n",
      "590:\tlearn: 0.4234132\ttotal: 5.14s\tremaining: 3.56s\n",
      "591:\tlearn: 0.4233775\ttotal: 5.15s\tremaining: 3.55s\n",
      "592:\tlearn: 0.4233427\ttotal: 5.16s\tremaining: 3.54s\n",
      "593:\tlearn: 0.4232992\ttotal: 5.17s\tremaining: 3.53s\n",
      "594:\tlearn: 0.4232725\ttotal: 5.18s\tremaining: 3.52s\n",
      "595:\tlearn: 0.4232435\ttotal: 5.19s\tremaining: 3.52s\n",
      "596:\tlearn: 0.4232028\ttotal: 5.2s\tremaining: 3.51s\n",
      "597:\tlearn: 0.4231735\ttotal: 5.2s\tremaining: 3.5s\n",
      "598:\tlearn: 0.4231302\ttotal: 5.21s\tremaining: 3.49s\n",
      "599:\tlearn: 0.4231037\ttotal: 5.22s\tremaining: 3.48s\n",
      "600:\tlearn: 0.4230790\ttotal: 5.23s\tremaining: 3.47s\n",
      "601:\tlearn: 0.4230417\ttotal: 5.23s\tremaining: 3.46s\n",
      "602:\tlearn: 0.4229865\ttotal: 5.24s\tremaining: 3.45s\n",
      "603:\tlearn: 0.4229565\ttotal: 5.25s\tremaining: 3.44s\n",
      "604:\tlearn: 0.4229136\ttotal: 5.26s\tremaining: 3.44s\n",
      "605:\tlearn: 0.4228919\ttotal: 5.27s\tremaining: 3.43s\n",
      "606:\tlearn: 0.4228560\ttotal: 5.28s\tremaining: 3.42s\n",
      "607:\tlearn: 0.4228310\ttotal: 5.29s\tremaining: 3.41s\n",
      "608:\tlearn: 0.4227961\ttotal: 5.3s\tremaining: 3.4s\n",
      "609:\tlearn: 0.4227596\ttotal: 5.3s\tremaining: 3.39s\n",
      "610:\tlearn: 0.4227204\ttotal: 5.31s\tremaining: 3.38s\n",
      "611:\tlearn: 0.4226803\ttotal: 5.32s\tremaining: 3.37s\n",
      "612:\tlearn: 0.4226499\ttotal: 5.32s\tremaining: 3.36s\n",
      "613:\tlearn: 0.4226234\ttotal: 5.33s\tremaining: 3.35s\n",
      "614:\tlearn: 0.4225847\ttotal: 5.33s\tremaining: 3.34s\n",
      "615:\tlearn: 0.4225487\ttotal: 5.34s\tremaining: 3.33s\n",
      "616:\tlearn: 0.4225185\ttotal: 5.35s\tremaining: 3.32s\n",
      "617:\tlearn: 0.4224889\ttotal: 5.36s\tremaining: 3.31s\n",
      "618:\tlearn: 0.4224609\ttotal: 5.36s\tremaining: 3.3s\n",
      "619:\tlearn: 0.4224143\ttotal: 5.37s\tremaining: 3.29s\n",
      "620:\tlearn: 0.4223854\ttotal: 5.38s\tremaining: 3.28s\n",
      "621:\tlearn: 0.4223607\ttotal: 5.38s\tremaining: 3.27s\n",
      "622:\tlearn: 0.4223394\ttotal: 5.39s\tremaining: 3.26s\n",
      "623:\tlearn: 0.4223024\ttotal: 5.4s\tremaining: 3.25s\n",
      "624:\tlearn: 0.4222760\ttotal: 5.41s\tremaining: 3.25s\n",
      "625:\tlearn: 0.4222341\ttotal: 5.42s\tremaining: 3.24s\n",
      "626:\tlearn: 0.4222098\ttotal: 5.43s\tremaining: 3.23s\n",
      "627:\tlearn: 0.4221665\ttotal: 5.44s\tremaining: 3.22s\n",
      "628:\tlearn: 0.4221230\ttotal: 5.45s\tremaining: 3.21s\n",
      "629:\tlearn: 0.4220903\ttotal: 5.46s\tremaining: 3.21s\n",
      "630:\tlearn: 0.4220585\ttotal: 5.47s\tremaining: 3.2s\n",
      "631:\tlearn: 0.4220169\ttotal: 5.47s\tremaining: 3.19s\n",
      "632:\tlearn: 0.4219581\ttotal: 5.49s\tremaining: 3.18s\n",
      "633:\tlearn: 0.4219319\ttotal: 5.49s\tremaining: 3.17s\n",
      "634:\tlearn: 0.4219056\ttotal: 5.5s\tremaining: 3.16s\n",
      "635:\tlearn: 0.4218718\ttotal: 5.51s\tremaining: 3.15s\n",
      "636:\tlearn: 0.4218373\ttotal: 5.52s\tremaining: 3.15s\n",
      "637:\tlearn: 0.4218036\ttotal: 5.53s\tremaining: 3.14s\n",
      "638:\tlearn: 0.4217438\ttotal: 5.54s\tremaining: 3.13s\n",
      "639:\tlearn: 0.4216852\ttotal: 5.55s\tremaining: 3.12s\n",
      "640:\tlearn: 0.4216594\ttotal: 5.56s\tremaining: 3.11s\n",
      "641:\tlearn: 0.4216422\ttotal: 5.57s\tremaining: 3.1s\n",
      "642:\tlearn: 0.4216045\ttotal: 5.57s\tremaining: 3.09s\n",
      "643:\tlearn: 0.4215657\ttotal: 5.58s\tremaining: 3.08s\n",
      "644:\tlearn: 0.4215376\ttotal: 5.59s\tremaining: 3.08s\n",
      "645:\tlearn: 0.4215052\ttotal: 5.6s\tremaining: 3.07s\n",
      "646:\tlearn: 0.4214679\ttotal: 5.61s\tremaining: 3.06s\n",
      "647:\tlearn: 0.4214329\ttotal: 5.62s\tremaining: 3.05s\n",
      "648:\tlearn: 0.4213953\ttotal: 5.62s\tremaining: 3.04s\n",
      "649:\tlearn: 0.4213594\ttotal: 5.63s\tremaining: 3.03s\n",
      "650:\tlearn: 0.4213177\ttotal: 5.64s\tremaining: 3.02s\n",
      "651:\tlearn: 0.4212908\ttotal: 5.65s\tremaining: 3.02s\n",
      "652:\tlearn: 0.4212678\ttotal: 5.66s\tremaining: 3.01s\n",
      "653:\tlearn: 0.4212072\ttotal: 5.67s\tremaining: 3s\n",
      "654:\tlearn: 0.4211673\ttotal: 5.68s\tremaining: 2.99s\n",
      "655:\tlearn: 0.4211505\ttotal: 5.68s\tremaining: 2.98s\n",
      "656:\tlearn: 0.4211239\ttotal: 5.69s\tremaining: 2.97s\n",
      "657:\tlearn: 0.4210912\ttotal: 5.7s\tremaining: 2.96s\n",
      "658:\tlearn: 0.4210388\ttotal: 5.71s\tremaining: 2.96s\n",
      "659:\tlearn: 0.4210072\ttotal: 5.72s\tremaining: 2.95s\n",
      "660:\tlearn: 0.4209886\ttotal: 5.73s\tremaining: 2.94s\n",
      "661:\tlearn: 0.4209465\ttotal: 5.74s\tremaining: 2.93s\n",
      "662:\tlearn: 0.4209175\ttotal: 5.75s\tremaining: 2.92s\n",
      "663:\tlearn: 0.4208761\ttotal: 5.75s\tremaining: 2.91s\n",
      "664:\tlearn: 0.4208508\ttotal: 5.76s\tremaining: 2.9s\n",
      "665:\tlearn: 0.4208296\ttotal: 5.77s\tremaining: 2.89s\n",
      "666:\tlearn: 0.4207887\ttotal: 5.78s\tremaining: 2.88s\n",
      "667:\tlearn: 0.4207455\ttotal: 5.79s\tremaining: 2.88s\n",
      "668:\tlearn: 0.4207211\ttotal: 5.8s\tremaining: 2.87s\n",
      "669:\tlearn: 0.4206984\ttotal: 5.8s\tremaining: 2.86s\n",
      "670:\tlearn: 0.4206756\ttotal: 5.81s\tremaining: 2.85s\n",
      "671:\tlearn: 0.4206580\ttotal: 5.82s\tremaining: 2.84s\n",
      "672:\tlearn: 0.4206416\ttotal: 5.83s\tremaining: 2.83s\n",
      "673:\tlearn: 0.4205963\ttotal: 5.84s\tremaining: 2.82s\n",
      "674:\tlearn: 0.4205390\ttotal: 5.84s\tremaining: 2.81s\n",
      "675:\tlearn: 0.4205096\ttotal: 5.86s\tremaining: 2.81s\n",
      "676:\tlearn: 0.4204789\ttotal: 5.86s\tremaining: 2.8s\n",
      "677:\tlearn: 0.4204475\ttotal: 5.87s\tremaining: 2.79s\n"
     ]
    },
    {
     "name": "stdout",
     "output_type": "stream",
     "text": [
      "678:\tlearn: 0.4204128\ttotal: 5.88s\tremaining: 2.78s\n",
      "679:\tlearn: 0.4203739\ttotal: 5.89s\tremaining: 2.77s\n",
      "680:\tlearn: 0.4203577\ttotal: 5.9s\tremaining: 2.76s\n",
      "681:\tlearn: 0.4203300\ttotal: 5.91s\tremaining: 2.76s\n",
      "682:\tlearn: 0.4202930\ttotal: 5.92s\tremaining: 2.75s\n",
      "683:\tlearn: 0.4202661\ttotal: 5.93s\tremaining: 2.74s\n",
      "684:\tlearn: 0.4202325\ttotal: 5.93s\tremaining: 2.73s\n",
      "685:\tlearn: 0.4202092\ttotal: 5.94s\tremaining: 2.72s\n",
      "686:\tlearn: 0.4201891\ttotal: 5.95s\tremaining: 2.71s\n",
      "687:\tlearn: 0.4201605\ttotal: 5.96s\tremaining: 2.7s\n",
      "688:\tlearn: 0.4201330\ttotal: 5.96s\tremaining: 2.69s\n",
      "689:\tlearn: 0.4200930\ttotal: 5.97s\tremaining: 2.68s\n",
      "690:\tlearn: 0.4200546\ttotal: 5.98s\tremaining: 2.67s\n",
      "691:\tlearn: 0.4200228\ttotal: 5.99s\tremaining: 2.66s\n",
      "692:\tlearn: 0.4199891\ttotal: 5.99s\tremaining: 2.65s\n",
      "693:\tlearn: 0.4199702\ttotal: 6s\tremaining: 2.65s\n",
      "694:\tlearn: 0.4199511\ttotal: 6.01s\tremaining: 2.64s\n",
      "695:\tlearn: 0.4199147\ttotal: 6.01s\tremaining: 2.63s\n",
      "696:\tlearn: 0.4198905\ttotal: 6.02s\tremaining: 2.62s\n",
      "697:\tlearn: 0.4198635\ttotal: 6.03s\tremaining: 2.61s\n",
      "698:\tlearn: 0.4198375\ttotal: 6.03s\tremaining: 2.6s\n",
      "699:\tlearn: 0.4198033\ttotal: 6.04s\tremaining: 2.59s\n",
      "700:\tlearn: 0.4197661\ttotal: 6.04s\tremaining: 2.58s\n",
      "701:\tlearn: 0.4197351\ttotal: 6.05s\tremaining: 2.57s\n",
      "702:\tlearn: 0.4196957\ttotal: 6.06s\tremaining: 2.56s\n",
      "703:\tlearn: 0.4196588\ttotal: 6.06s\tremaining: 2.55s\n",
      "704:\tlearn: 0.4196355\ttotal: 6.07s\tremaining: 2.54s\n",
      "705:\tlearn: 0.4195799\ttotal: 6.08s\tremaining: 2.53s\n",
      "706:\tlearn: 0.4195393\ttotal: 6.08s\tremaining: 2.52s\n",
      "707:\tlearn: 0.4195203\ttotal: 6.09s\tremaining: 2.51s\n",
      "708:\tlearn: 0.4194826\ttotal: 6.1s\tremaining: 2.5s\n",
      "709:\tlearn: 0.4194444\ttotal: 6.11s\tremaining: 2.5s\n",
      "710:\tlearn: 0.4193925\ttotal: 6.12s\tremaining: 2.49s\n",
      "711:\tlearn: 0.4193661\ttotal: 6.13s\tremaining: 2.48s\n",
      "712:\tlearn: 0.4193484\ttotal: 6.13s\tremaining: 2.47s\n",
      "713:\tlearn: 0.4193114\ttotal: 6.14s\tremaining: 2.46s\n",
      "714:\tlearn: 0.4192901\ttotal: 6.15s\tremaining: 2.45s\n",
      "715:\tlearn: 0.4192585\ttotal: 6.16s\tremaining: 2.44s\n",
      "716:\tlearn: 0.4192312\ttotal: 6.17s\tremaining: 2.44s\n",
      "717:\tlearn: 0.4192071\ttotal: 6.18s\tremaining: 2.43s\n",
      "718:\tlearn: 0.4191769\ttotal: 6.19s\tremaining: 2.42s\n",
      "719:\tlearn: 0.4191357\ttotal: 6.2s\tremaining: 2.41s\n",
      "720:\tlearn: 0.4190979\ttotal: 6.2s\tremaining: 2.4s\n",
      "721:\tlearn: 0.4190658\ttotal: 6.21s\tremaining: 2.39s\n",
      "722:\tlearn: 0.4190112\ttotal: 6.24s\tremaining: 2.39s\n",
      "723:\tlearn: 0.4189868\ttotal: 6.24s\tremaining: 2.38s\n",
      "724:\tlearn: 0.4189557\ttotal: 6.26s\tremaining: 2.37s\n",
      "725:\tlearn: 0.4189289\ttotal: 6.27s\tremaining: 2.37s\n",
      "726:\tlearn: 0.4189000\ttotal: 6.28s\tremaining: 2.36s\n",
      "727:\tlearn: 0.4188749\ttotal: 6.29s\tremaining: 2.35s\n",
      "728:\tlearn: 0.4188290\ttotal: 6.3s\tremaining: 2.34s\n",
      "729:\tlearn: 0.4187941\ttotal: 6.32s\tremaining: 2.34s\n",
      "730:\tlearn: 0.4187413\ttotal: 6.33s\tremaining: 2.33s\n",
      "731:\tlearn: 0.4187034\ttotal: 6.34s\tremaining: 2.32s\n",
      "732:\tlearn: 0.4186792\ttotal: 6.34s\tremaining: 2.31s\n",
      "733:\tlearn: 0.4186351\ttotal: 6.35s\tremaining: 2.3s\n",
      "734:\tlearn: 0.4185944\ttotal: 6.36s\tremaining: 2.29s\n",
      "735:\tlearn: 0.4185657\ttotal: 6.37s\tremaining: 2.29s\n",
      "736:\tlearn: 0.4185493\ttotal: 6.38s\tremaining: 2.28s\n",
      "737:\tlearn: 0.4185153\ttotal: 6.39s\tremaining: 2.27s\n",
      "738:\tlearn: 0.4184817\ttotal: 6.4s\tremaining: 2.26s\n",
      "739:\tlearn: 0.4184302\ttotal: 6.41s\tremaining: 2.25s\n",
      "740:\tlearn: 0.4184045\ttotal: 6.42s\tremaining: 2.24s\n",
      "741:\tlearn: 0.4183751\ttotal: 6.43s\tremaining: 2.23s\n",
      "742:\tlearn: 0.4183462\ttotal: 6.43s\tremaining: 2.23s\n",
      "743:\tlearn: 0.4183199\ttotal: 6.44s\tremaining: 2.22s\n",
      "744:\tlearn: 0.4183009\ttotal: 6.45s\tremaining: 2.21s\n",
      "745:\tlearn: 0.4182748\ttotal: 6.46s\tremaining: 2.2s\n",
      "746:\tlearn: 0.4182536\ttotal: 6.47s\tremaining: 2.19s\n",
      "747:\tlearn: 0.4182280\ttotal: 6.48s\tremaining: 2.18s\n",
      "748:\tlearn: 0.4181971\ttotal: 6.49s\tremaining: 2.17s\n",
      "749:\tlearn: 0.4181728\ttotal: 6.5s\tremaining: 2.17s\n",
      "750:\tlearn: 0.4181287\ttotal: 6.5s\tremaining: 2.16s\n",
      "751:\tlearn: 0.4181066\ttotal: 6.51s\tremaining: 2.15s\n",
      "752:\tlearn: 0.4180683\ttotal: 6.52s\tremaining: 2.14s\n",
      "753:\tlearn: 0.4180240\ttotal: 6.53s\tremaining: 2.13s\n",
      "754:\tlearn: 0.4179748\ttotal: 6.54s\tremaining: 2.12s\n",
      "755:\tlearn: 0.4179480\ttotal: 6.55s\tremaining: 2.11s\n",
      "756:\tlearn: 0.4179118\ttotal: 6.56s\tremaining: 2.11s\n",
      "757:\tlearn: 0.4178806\ttotal: 6.57s\tremaining: 2.1s\n",
      "758:\tlearn: 0.4178455\ttotal: 6.58s\tremaining: 2.09s\n",
      "759:\tlearn: 0.4178269\ttotal: 6.59s\tremaining: 2.08s\n",
      "760:\tlearn: 0.4177738\ttotal: 6.6s\tremaining: 2.07s\n",
      "761:\tlearn: 0.4177401\ttotal: 6.61s\tremaining: 2.06s\n",
      "762:\tlearn: 0.4176987\ttotal: 6.61s\tremaining: 2.05s\n",
      "763:\tlearn: 0.4176601\ttotal: 6.62s\tremaining: 2.04s\n",
      "764:\tlearn: 0.4176247\ttotal: 6.63s\tremaining: 2.04s\n",
      "765:\tlearn: 0.4175991\ttotal: 6.64s\tremaining: 2.03s\n",
      "766:\tlearn: 0.4175839\ttotal: 6.65s\tremaining: 2.02s\n",
      "767:\tlearn: 0.4175323\ttotal: 6.66s\tremaining: 2.01s\n",
      "768:\tlearn: 0.4174817\ttotal: 6.66s\tremaining: 2s\n",
      "769:\tlearn: 0.4174156\ttotal: 6.67s\tremaining: 1.99s\n",
      "770:\tlearn: 0.4173904\ttotal: 6.68s\tremaining: 1.98s\n",
      "771:\tlearn: 0.4173416\ttotal: 6.68s\tremaining: 1.97s\n",
      "772:\tlearn: 0.4173093\ttotal: 6.7s\tremaining: 1.97s\n",
      "773:\tlearn: 0.4172608\ttotal: 6.71s\tremaining: 1.96s\n",
      "774:\tlearn: 0.4172220\ttotal: 6.71s\tremaining: 1.95s\n",
      "775:\tlearn: 0.4171826\ttotal: 6.72s\tremaining: 1.94s\n",
      "776:\tlearn: 0.4171558\ttotal: 6.73s\tremaining: 1.93s\n",
      "777:\tlearn: 0.4171209\ttotal: 6.74s\tremaining: 1.92s\n",
      "778:\tlearn: 0.4170876\ttotal: 6.75s\tremaining: 1.91s\n",
      "779:\tlearn: 0.4170462\ttotal: 6.76s\tremaining: 1.91s\n",
      "780:\tlearn: 0.4170205\ttotal: 6.77s\tremaining: 1.9s\n",
      "781:\tlearn: 0.4169898\ttotal: 6.77s\tremaining: 1.89s\n",
      "782:\tlearn: 0.4169574\ttotal: 6.78s\tremaining: 1.88s\n",
      "783:\tlearn: 0.4169135\ttotal: 6.79s\tremaining: 1.87s\n",
      "784:\tlearn: 0.4168793\ttotal: 6.8s\tremaining: 1.86s\n",
      "785:\tlearn: 0.4168583\ttotal: 6.81s\tremaining: 1.85s\n",
      "786:\tlearn: 0.4168127\ttotal: 6.82s\tremaining: 1.84s\n",
      "787:\tlearn: 0.4167947\ttotal: 6.82s\tremaining: 1.84s\n",
      "788:\tlearn: 0.4167688\ttotal: 6.83s\tremaining: 1.83s\n",
      "789:\tlearn: 0.4167441\ttotal: 6.84s\tremaining: 1.82s\n",
      "790:\tlearn: 0.4167113\ttotal: 6.85s\tremaining: 1.81s\n",
      "791:\tlearn: 0.4166786\ttotal: 6.86s\tremaining: 1.8s\n",
      "792:\tlearn: 0.4166557\ttotal: 6.87s\tremaining: 1.79s\n",
      "793:\tlearn: 0.4166114\ttotal: 6.88s\tremaining: 1.78s\n",
      "794:\tlearn: 0.4165900\ttotal: 6.88s\tremaining: 1.77s\n",
      "795:\tlearn: 0.4165642\ttotal: 6.89s\tremaining: 1.77s\n",
      "796:\tlearn: 0.4165333\ttotal: 6.9s\tremaining: 1.76s\n",
      "797:\tlearn: 0.4165084\ttotal: 6.91s\tremaining: 1.75s\n",
      "798:\tlearn: 0.4164734\ttotal: 6.92s\tremaining: 1.74s\n",
      "799:\tlearn: 0.4164480\ttotal: 6.93s\tremaining: 1.73s\n",
      "800:\tlearn: 0.4164311\ttotal: 6.94s\tremaining: 1.73s\n",
      "801:\tlearn: 0.4164059\ttotal: 6.95s\tremaining: 1.72s\n",
      "802:\tlearn: 0.4163689\ttotal: 6.96s\tremaining: 1.71s\n",
      "803:\tlearn: 0.4163422\ttotal: 6.97s\tremaining: 1.7s\n",
      "804:\tlearn: 0.4163122\ttotal: 6.98s\tremaining: 1.69s\n",
      "805:\tlearn: 0.4162863\ttotal: 6.99s\tremaining: 1.68s\n",
      "806:\tlearn: 0.4162611\ttotal: 7s\tremaining: 1.67s\n",
      "807:\tlearn: 0.4162429\ttotal: 7.01s\tremaining: 1.67s\n",
      "808:\tlearn: 0.4162083\ttotal: 7.02s\tremaining: 1.66s\n",
      "809:\tlearn: 0.4161866\ttotal: 7.03s\tremaining: 1.65s\n",
      "810:\tlearn: 0.4161605\ttotal: 7.04s\tremaining: 1.64s\n",
      "811:\tlearn: 0.4161315\ttotal: 7.05s\tremaining: 1.63s\n",
      "812:\tlearn: 0.4160984\ttotal: 7.07s\tremaining: 1.63s\n",
      "813:\tlearn: 0.4160700\ttotal: 7.09s\tremaining: 1.62s\n",
      "814:\tlearn: 0.4160483\ttotal: 7.1s\tremaining: 1.61s\n",
      "815:\tlearn: 0.4160033\ttotal: 7.12s\tremaining: 1.6s\n",
      "816:\tlearn: 0.4159604\ttotal: 7.13s\tremaining: 1.6s\n",
      "817:\tlearn: 0.4159191\ttotal: 7.14s\tremaining: 1.59s\n",
      "818:\tlearn: 0.4158831\ttotal: 7.16s\tremaining: 1.58s\n",
      "819:\tlearn: 0.4158540\ttotal: 7.17s\tremaining: 1.57s\n",
      "820:\tlearn: 0.4158189\ttotal: 7.18s\tremaining: 1.57s\n",
      "821:\tlearn: 0.4157959\ttotal: 7.19s\tremaining: 1.56s\n",
      "822:\tlearn: 0.4157665\ttotal: 7.2s\tremaining: 1.55s\n",
      "823:\tlearn: 0.4157237\ttotal: 7.21s\tremaining: 1.54s\n",
      "824:\tlearn: 0.4156932\ttotal: 7.23s\tremaining: 1.53s\n",
      "825:\tlearn: 0.4156612\ttotal: 7.24s\tremaining: 1.52s\n",
      "826:\tlearn: 0.4156096\ttotal: 7.25s\tremaining: 1.52s\n",
      "827:\tlearn: 0.4155677\ttotal: 7.27s\tremaining: 1.51s\n",
      "828:\tlearn: 0.4155506\ttotal: 7.28s\tremaining: 1.5s\n",
      "829:\tlearn: 0.4155252\ttotal: 7.29s\tremaining: 1.49s\n",
      "830:\tlearn: 0.4154935\ttotal: 7.3s\tremaining: 1.48s\n",
      "831:\tlearn: 0.4154680\ttotal: 7.3s\tremaining: 1.48s\n",
      "832:\tlearn: 0.4154289\ttotal: 7.32s\tremaining: 1.47s\n",
      "833:\tlearn: 0.4153961\ttotal: 7.33s\tremaining: 1.46s\n",
      "834:\tlearn: 0.4153605\ttotal: 7.34s\tremaining: 1.45s\n",
      "835:\tlearn: 0.4153263\ttotal: 7.35s\tremaining: 1.44s\n",
      "836:\tlearn: 0.4152988\ttotal: 7.36s\tremaining: 1.43s\n",
      "837:\tlearn: 0.4152730\ttotal: 7.37s\tremaining: 1.42s\n",
      "838:\tlearn: 0.4152563\ttotal: 7.37s\tremaining: 1.42s\n",
      "839:\tlearn: 0.4152266\ttotal: 7.38s\tremaining: 1.41s\n",
      "840:\tlearn: 0.4151947\ttotal: 7.39s\tremaining: 1.4s\n",
      "841:\tlearn: 0.4151523\ttotal: 7.4s\tremaining: 1.39s\n",
      "842:\tlearn: 0.4151252\ttotal: 7.41s\tremaining: 1.38s\n"
     ]
    },
    {
     "name": "stdout",
     "output_type": "stream",
     "text": [
      "843:\tlearn: 0.4150978\ttotal: 7.42s\tremaining: 1.37s\n",
      "844:\tlearn: 0.4150553\ttotal: 7.43s\tremaining: 1.36s\n",
      "845:\tlearn: 0.4150332\ttotal: 7.44s\tremaining: 1.35s\n",
      "846:\tlearn: 0.4149966\ttotal: 7.45s\tremaining: 1.35s\n",
      "847:\tlearn: 0.4149699\ttotal: 7.46s\tremaining: 1.34s\n",
      "848:\tlearn: 0.4149435\ttotal: 7.48s\tremaining: 1.33s\n",
      "849:\tlearn: 0.4149049\ttotal: 7.49s\tremaining: 1.32s\n",
      "850:\tlearn: 0.4148587\ttotal: 7.5s\tremaining: 1.31s\n",
      "851:\tlearn: 0.4148355\ttotal: 7.51s\tremaining: 1.3s\n",
      "852:\tlearn: 0.4148138\ttotal: 7.52s\tremaining: 1.29s\n",
      "853:\tlearn: 0.4147820\ttotal: 7.53s\tremaining: 1.29s\n",
      "854:\tlearn: 0.4147488\ttotal: 7.54s\tremaining: 1.28s\n",
      "855:\tlearn: 0.4147226\ttotal: 7.55s\tremaining: 1.27s\n",
      "856:\tlearn: 0.4146908\ttotal: 7.55s\tremaining: 1.26s\n",
      "857:\tlearn: 0.4146633\ttotal: 7.57s\tremaining: 1.25s\n",
      "858:\tlearn: 0.4146466\ttotal: 7.57s\tremaining: 1.24s\n",
      "859:\tlearn: 0.4146132\ttotal: 7.58s\tremaining: 1.23s\n",
      "860:\tlearn: 0.4145602\ttotal: 7.59s\tremaining: 1.23s\n",
      "861:\tlearn: 0.4145370\ttotal: 7.6s\tremaining: 1.22s\n",
      "862:\tlearn: 0.4145127\ttotal: 7.61s\tremaining: 1.21s\n",
      "863:\tlearn: 0.4144832\ttotal: 7.62s\tremaining: 1.2s\n",
      "864:\tlearn: 0.4144579\ttotal: 7.63s\tremaining: 1.19s\n",
      "865:\tlearn: 0.4144296\ttotal: 7.63s\tremaining: 1.18s\n",
      "866:\tlearn: 0.4143933\ttotal: 7.64s\tremaining: 1.17s\n",
      "867:\tlearn: 0.4143682\ttotal: 7.65s\tremaining: 1.16s\n",
      "868:\tlearn: 0.4143549\ttotal: 7.66s\tremaining: 1.15s\n",
      "869:\tlearn: 0.4143073\ttotal: 7.67s\tremaining: 1.15s\n",
      "870:\tlearn: 0.4142875\ttotal: 7.68s\tremaining: 1.14s\n",
      "871:\tlearn: 0.4142506\ttotal: 7.69s\tremaining: 1.13s\n",
      "872:\tlearn: 0.4142308\ttotal: 7.7s\tremaining: 1.12s\n",
      "873:\tlearn: 0.4142012\ttotal: 7.71s\tremaining: 1.11s\n",
      "874:\tlearn: 0.4141662\ttotal: 7.72s\tremaining: 1.1s\n",
      "875:\tlearn: 0.4141171\ttotal: 7.73s\tremaining: 1.09s\n",
      "876:\tlearn: 0.4140849\ttotal: 7.74s\tremaining: 1.08s\n",
      "877:\tlearn: 0.4140560\ttotal: 7.75s\tremaining: 1.08s\n",
      "878:\tlearn: 0.4140260\ttotal: 7.75s\tremaining: 1.07s\n",
      "879:\tlearn: 0.4140062\ttotal: 7.76s\tremaining: 1.06s\n",
      "880:\tlearn: 0.4139746\ttotal: 7.77s\tremaining: 1.05s\n",
      "881:\tlearn: 0.4139544\ttotal: 7.78s\tremaining: 1.04s\n",
      "882:\tlearn: 0.4139299\ttotal: 7.79s\tremaining: 1.03s\n",
      "883:\tlearn: 0.4138991\ttotal: 7.8s\tremaining: 1.02s\n",
      "884:\tlearn: 0.4138568\ttotal: 7.81s\tremaining: 1.01s\n",
      "885:\tlearn: 0.4138268\ttotal: 7.82s\tremaining: 1.01s\n",
      "886:\tlearn: 0.4138103\ttotal: 7.83s\tremaining: 997ms\n",
      "887:\tlearn: 0.4137780\ttotal: 7.84s\tremaining: 989ms\n",
      "888:\tlearn: 0.4137455\ttotal: 7.85s\tremaining: 980ms\n",
      "889:\tlearn: 0.4137186\ttotal: 7.86s\tremaining: 971ms\n",
      "890:\tlearn: 0.4136947\ttotal: 7.86s\tremaining: 962ms\n",
      "891:\tlearn: 0.4136554\ttotal: 7.87s\tremaining: 953ms\n",
      "892:\tlearn: 0.4136237\ttotal: 7.88s\tremaining: 944ms\n",
      "893:\tlearn: 0.4135939\ttotal: 7.89s\tremaining: 935ms\n",
      "894:\tlearn: 0.4135604\ttotal: 7.9s\tremaining: 926ms\n",
      "895:\tlearn: 0.4135377\ttotal: 7.9s\tremaining: 918ms\n",
      "896:\tlearn: 0.4134949\ttotal: 7.91s\tremaining: 909ms\n",
      "897:\tlearn: 0.4134455\ttotal: 7.92s\tremaining: 900ms\n",
      "898:\tlearn: 0.4134176\ttotal: 7.93s\tremaining: 891ms\n",
      "899:\tlearn: 0.4133931\ttotal: 7.94s\tremaining: 882ms\n",
      "900:\tlearn: 0.4133774\ttotal: 7.94s\tremaining: 873ms\n",
      "901:\tlearn: 0.4133438\ttotal: 7.95s\tremaining: 864ms\n",
      "902:\tlearn: 0.4133130\ttotal: 7.96s\tremaining: 855ms\n",
      "903:\tlearn: 0.4132930\ttotal: 7.97s\tremaining: 846ms\n",
      "904:\tlearn: 0.4132645\ttotal: 7.98s\tremaining: 838ms\n",
      "905:\tlearn: 0.4132459\ttotal: 7.99s\tremaining: 828ms\n",
      "906:\tlearn: 0.4132192\ttotal: 7.99s\tremaining: 820ms\n",
      "907:\tlearn: 0.4131873\ttotal: 8s\tremaining: 811ms\n",
      "908:\tlearn: 0.4131693\ttotal: 8.01s\tremaining: 802ms\n",
      "909:\tlearn: 0.4131291\ttotal: 8.02s\tremaining: 793ms\n",
      "910:\tlearn: 0.4130980\ttotal: 8.03s\tremaining: 784ms\n",
      "911:\tlearn: 0.4130649\ttotal: 8.04s\tremaining: 776ms\n",
      "912:\tlearn: 0.4130408\ttotal: 8.05s\tremaining: 767ms\n",
      "913:\tlearn: 0.4130239\ttotal: 8.06s\tremaining: 758ms\n",
      "914:\tlearn: 0.4129978\ttotal: 8.06s\tremaining: 749ms\n",
      "915:\tlearn: 0.4129681\ttotal: 8.07s\tremaining: 740ms\n",
      "916:\tlearn: 0.4129477\ttotal: 8.08s\tremaining: 731ms\n",
      "917:\tlearn: 0.4129119\ttotal: 8.09s\tremaining: 723ms\n",
      "918:\tlearn: 0.4128944\ttotal: 8.1s\tremaining: 714ms\n",
      "919:\tlearn: 0.4128640\ttotal: 8.11s\tremaining: 705ms\n",
      "920:\tlearn: 0.4128360\ttotal: 8.12s\tremaining: 696ms\n",
      "921:\tlearn: 0.4128071\ttotal: 8.13s\tremaining: 688ms\n",
      "922:\tlearn: 0.4127840\ttotal: 8.14s\tremaining: 679ms\n",
      "923:\tlearn: 0.4127587\ttotal: 8.15s\tremaining: 670ms\n",
      "924:\tlearn: 0.4127342\ttotal: 8.15s\tremaining: 661ms\n",
      "925:\tlearn: 0.4127212\ttotal: 8.17s\tremaining: 653ms\n",
      "926:\tlearn: 0.4126947\ttotal: 8.18s\tremaining: 644ms\n",
      "927:\tlearn: 0.4126744\ttotal: 8.19s\tremaining: 636ms\n",
      "928:\tlearn: 0.4126492\ttotal: 8.2s\tremaining: 627ms\n",
      "929:\tlearn: 0.4126282\ttotal: 8.21s\tremaining: 618ms\n",
      "930:\tlearn: 0.4125950\ttotal: 8.22s\tremaining: 610ms\n",
      "931:\tlearn: 0.4125742\ttotal: 8.24s\tremaining: 601ms\n",
      "932:\tlearn: 0.4125599\ttotal: 8.28s\tremaining: 595ms\n",
      "933:\tlearn: 0.4125324\ttotal: 8.29s\tremaining: 586ms\n",
      "934:\tlearn: 0.4125047\ttotal: 8.3s\tremaining: 577ms\n",
      "935:\tlearn: 0.4124730\ttotal: 8.31s\tremaining: 568ms\n",
      "936:\tlearn: 0.4124480\ttotal: 8.32s\tremaining: 559ms\n",
      "937:\tlearn: 0.4124102\ttotal: 8.33s\tremaining: 551ms\n",
      "938:\tlearn: 0.4123822\ttotal: 8.34s\tremaining: 542ms\n",
      "939:\tlearn: 0.4123406\ttotal: 8.35s\tremaining: 533ms\n",
      "940:\tlearn: 0.4123079\ttotal: 8.36s\tremaining: 524ms\n",
      "941:\tlearn: 0.4122716\ttotal: 8.37s\tremaining: 515ms\n",
      "942:\tlearn: 0.4122394\ttotal: 8.38s\tremaining: 507ms\n",
      "943:\tlearn: 0.4122186\ttotal: 8.39s\tremaining: 498ms\n",
      "944:\tlearn: 0.4122008\ttotal: 8.4s\tremaining: 489ms\n",
      "945:\tlearn: 0.4121668\ttotal: 8.41s\tremaining: 480ms\n",
      "946:\tlearn: 0.4121170\ttotal: 8.42s\tremaining: 471ms\n",
      "947:\tlearn: 0.4120935\ttotal: 8.43s\tremaining: 463ms\n",
      "948:\tlearn: 0.4120527\ttotal: 8.44s\tremaining: 454ms\n",
      "949:\tlearn: 0.4120224\ttotal: 8.45s\tremaining: 445ms\n",
      "950:\tlearn: 0.4120030\ttotal: 8.46s\tremaining: 436ms\n",
      "951:\tlearn: 0.4119715\ttotal: 8.47s\tremaining: 427ms\n",
      "952:\tlearn: 0.4119522\ttotal: 8.48s\tremaining: 418ms\n",
      "953:\tlearn: 0.4119229\ttotal: 8.49s\tremaining: 409ms\n",
      "954:\tlearn: 0.4119073\ttotal: 8.5s\tremaining: 400ms\n",
      "955:\tlearn: 0.4118869\ttotal: 8.51s\tremaining: 392ms\n",
      "956:\tlearn: 0.4118578\ttotal: 8.52s\tremaining: 383ms\n",
      "957:\tlearn: 0.4118339\ttotal: 8.53s\tremaining: 374ms\n",
      "958:\tlearn: 0.4118196\ttotal: 8.54s\tremaining: 365ms\n",
      "959:\tlearn: 0.4117852\ttotal: 8.55s\tremaining: 356ms\n",
      "960:\tlearn: 0.4117505\ttotal: 8.57s\tremaining: 348ms\n",
      "961:\tlearn: 0.4117245\ttotal: 8.58s\tremaining: 339ms\n",
      "962:\tlearn: 0.4116939\ttotal: 8.59s\tremaining: 330ms\n",
      "963:\tlearn: 0.4116619\ttotal: 8.6s\tremaining: 321ms\n",
      "964:\tlearn: 0.4116159\ttotal: 8.61s\tremaining: 312ms\n",
      "965:\tlearn: 0.4115935\ttotal: 8.62s\tremaining: 303ms\n",
      "966:\tlearn: 0.4115598\ttotal: 8.63s\tremaining: 295ms\n",
      "967:\tlearn: 0.4115333\ttotal: 8.64s\tremaining: 286ms\n",
      "968:\tlearn: 0.4115109\ttotal: 8.65s\tremaining: 277ms\n",
      "969:\tlearn: 0.4114787\ttotal: 8.66s\tremaining: 268ms\n",
      "970:\tlearn: 0.4114633\ttotal: 8.67s\tremaining: 259ms\n",
      "971:\tlearn: 0.4114438\ttotal: 8.68s\tremaining: 250ms\n",
      "972:\tlearn: 0.4114094\ttotal: 8.69s\tremaining: 241ms\n",
      "973:\tlearn: 0.4113903\ttotal: 8.69s\tremaining: 232ms\n",
      "974:\tlearn: 0.4113691\ttotal: 8.7s\tremaining: 223ms\n",
      "975:\tlearn: 0.4113462\ttotal: 8.71s\tremaining: 214ms\n",
      "976:\tlearn: 0.4113072\ttotal: 8.72s\tremaining: 205ms\n",
      "977:\tlearn: 0.4112876\ttotal: 8.73s\tremaining: 196ms\n",
      "978:\tlearn: 0.4112611\ttotal: 8.74s\tremaining: 188ms\n",
      "979:\tlearn: 0.4112437\ttotal: 8.75s\tremaining: 179ms\n",
      "980:\tlearn: 0.4112180\ttotal: 8.77s\tremaining: 170ms\n",
      "981:\tlearn: 0.4111661\ttotal: 8.78s\tremaining: 161ms\n",
      "982:\tlearn: 0.4111425\ttotal: 8.79s\tremaining: 152ms\n",
      "983:\tlearn: 0.4111142\ttotal: 8.79s\tremaining: 143ms\n",
      "984:\tlearn: 0.4110909\ttotal: 8.81s\tremaining: 134ms\n",
      "985:\tlearn: 0.4110604\ttotal: 8.82s\tremaining: 125ms\n",
      "986:\tlearn: 0.4110431\ttotal: 8.84s\tremaining: 116ms\n",
      "987:\tlearn: 0.4110157\ttotal: 8.85s\tremaining: 107ms\n",
      "988:\tlearn: 0.4110001\ttotal: 8.86s\tremaining: 98.5ms\n",
      "989:\tlearn: 0.4109727\ttotal: 8.87s\tremaining: 89.6ms\n",
      "990:\tlearn: 0.4109220\ttotal: 8.89s\tremaining: 80.7ms\n",
      "991:\tlearn: 0.4108908\ttotal: 8.89s\tremaining: 71.7ms\n",
      "992:\tlearn: 0.4108683\ttotal: 8.9s\tremaining: 62.8ms\n",
      "993:\tlearn: 0.4108404\ttotal: 8.91s\tremaining: 53.8ms\n",
      "994:\tlearn: 0.4108254\ttotal: 8.92s\tremaining: 44.8ms\n",
      "995:\tlearn: 0.4108003\ttotal: 8.93s\tremaining: 35.9ms\n",
      "996:\tlearn: 0.4107812\ttotal: 8.95s\tremaining: 26.9ms\n",
      "997:\tlearn: 0.4107411\ttotal: 8.96s\tremaining: 17.9ms\n",
      "998:\tlearn: 0.4107018\ttotal: 8.96s\tremaining: 8.97ms\n",
      "999:\tlearn: 0.4106776\ttotal: 8.97s\tremaining: 0us\n",
      "Results with CatBoost Classifier:\n",
      "              precision    recall  f1-score   support\n",
      "\n",
      "           0       0.85      0.73      0.79      7478\n",
      "           1       0.69      0.83      0.75      5466\n",
      "\n",
      "    accuracy                           0.77     12944\n",
      "   macro avg       0.77      0.78      0.77     12944\n",
      "weighted avg       0.79      0.77      0.77     12944\n",
      "\n"
     ]
    }
   ],
   "source": [
    "model_cb_1, results_cb_1 = build_model(X_train, y_train, X_test, y_test, CatBoostClassifier())\n",
    "print(\"Results with CatBoost Classifier:\")\n",
    "print(results_cb_1)"
   ]
  },
  {
   "cell_type": "code",
   "execution_count": 53,
   "id": "2df0baa3",
   "metadata": {},
   "outputs": [],
   "source": [
    "df_results.loc['CatBoost'] = [0.69, 0.83, 0.75, 0.77]"
   ]
  },
  {
   "cell_type": "code",
   "execution_count": 54,
   "id": "152bed8a",
   "metadata": {
    "scrolled": true
   },
   "outputs": [
    {
     "name": "stdout",
     "output_type": "stream",
     "text": [
      "Results with XGBoost Classifier:\n",
      "              precision    recall  f1-score   support\n",
      "\n",
      "           0       0.84      0.74      0.78      7478\n",
      "           1       0.69      0.81      0.75      5466\n",
      "\n",
      "    accuracy                           0.77     12944\n",
      "   macro avg       0.77      0.77      0.77     12944\n",
      "weighted avg       0.78      0.77      0.77     12944\n",
      "\n"
     ]
    }
   ],
   "source": [
    "model_xgb_1, results_xgb_1 = build_model(X_train, y_train, X_test, y_test, XGBClassifier(n_jobs = -1))\n",
    "print(\"Results with XGBoost Classifier:\")\n",
    "print(results_xgb_1)"
   ]
  },
  {
   "cell_type": "code",
   "execution_count": 55,
   "id": "6c3a3d8e",
   "metadata": {},
   "outputs": [
    {
     "data": {
      "text/html": [
       "<div>\n",
       "<style scoped>\n",
       "    .dataframe tbody tr th:only-of-type {\n",
       "        vertical-align: middle;\n",
       "    }\n",
       "\n",
       "    .dataframe tbody tr th {\n",
       "        vertical-align: top;\n",
       "    }\n",
       "\n",
       "    .dataframe thead th {\n",
       "        text-align: right;\n",
       "    }\n",
       "</style>\n",
       "<table border=\"1\" class=\"dataframe\">\n",
       "  <thead>\n",
       "    <tr style=\"text-align: right;\">\n",
       "      <th></th>\n",
       "      <th>Precision</th>\n",
       "      <th>Recall</th>\n",
       "      <th>F1 score</th>\n",
       "      <th>Accuracy</th>\n",
       "    </tr>\n",
       "  </thead>\n",
       "  <tbody>\n",
       "    <tr>\n",
       "      <th>Random Forest</th>\n",
       "      <td>0.67</td>\n",
       "      <td>0.69</td>\n",
       "      <td>0.68</td>\n",
       "      <td>0.73</td>\n",
       "    </tr>\n",
       "    <tr>\n",
       "      <th>LGBM</th>\n",
       "      <td>0.69</td>\n",
       "      <td>0.83</td>\n",
       "      <td>0.75</td>\n",
       "      <td>0.77</td>\n",
       "    </tr>\n",
       "    <tr>\n",
       "      <th>CatBoost</th>\n",
       "      <td>0.69</td>\n",
       "      <td>0.83</td>\n",
       "      <td>0.75</td>\n",
       "      <td>0.77</td>\n",
       "    </tr>\n",
       "    <tr>\n",
       "      <th>XGBoost</th>\n",
       "      <td>0.69</td>\n",
       "      <td>0.81</td>\n",
       "      <td>0.75</td>\n",
       "      <td>0.77</td>\n",
       "    </tr>\n",
       "  </tbody>\n",
       "</table>\n",
       "</div>"
      ],
      "text/plain": [
       "               Precision  Recall  F1 score  Accuracy\n",
       "Random Forest       0.67    0.69      0.68      0.73\n",
       "LGBM                0.69    0.83      0.75      0.77\n",
       "CatBoost            0.69    0.83      0.75      0.77\n",
       "XGBoost             0.69    0.81      0.75      0.77"
      ]
     },
     "execution_count": 55,
     "metadata": {},
     "output_type": "execute_result"
    }
   ],
   "source": [
    "df_results.loc['XGBoost'] = [0.69, 0.81, 0.75, 0.77]\n",
    "df_results"
   ]
  },
  {
   "cell_type": "markdown",
   "id": "03efa791",
   "metadata": {},
   "source": [
    "The 3 models above have similar performance scores. From experience, XGBoost tends to give a better increase in performance from hyperparameter tuning than LGBM and Catboost, hence we proceed with XGBoost."
   ]
  },
  {
   "cell_type": "markdown",
   "id": "f7a470e1",
   "metadata": {},
   "source": [
    "### 4.3 Tune XGBoost model"
   ]
  },
  {
   "cell_type": "code",
   "execution_count": 56,
   "id": "b700b588",
   "metadata": {
    "scrolled": true
   },
   "outputs": [
    {
     "data": {
      "text/plain": [
       "{'memory': None,\n",
       " 'steps': [('imp', SimpleImputer()),\n",
       "  ('clf',\n",
       "   XGBClassifier(base_score=0.5, booster='gbtree', callbacks=None,\n",
       "                 colsample_bylevel=1, colsample_bynode=1, colsample_bytree=1,\n",
       "                 early_stopping_rounds=None, enable_categorical=False,\n",
       "                 eval_metric=None, gamma=0, gpu_id=-1, grow_policy='depthwise',\n",
       "                 importance_type=None, interaction_constraints='',\n",
       "                 learning_rate=0.300000012, max_bin=256, max_cat_to_onehot=4,\n",
       "                 max_delta_step=0, max_depth=6, max_leaves=0, min_child_weight=1,\n",
       "                 missing=nan, monotone_constraints='()', n_estimators=100,\n",
       "                 n_jobs=-1, num_parallel_tree=1, predictor='auto', random_state=0,\n",
       "                 reg_alpha=0, reg_lambda=1, ...))],\n",
       " 'verbose': False,\n",
       " 'imp': SimpleImputer(),\n",
       " 'clf': XGBClassifier(base_score=0.5, booster='gbtree', callbacks=None,\n",
       "               colsample_bylevel=1, colsample_bynode=1, colsample_bytree=1,\n",
       "               early_stopping_rounds=None, enable_categorical=False,\n",
       "               eval_metric=None, gamma=0, gpu_id=-1, grow_policy='depthwise',\n",
       "               importance_type=None, interaction_constraints='',\n",
       "               learning_rate=0.300000012, max_bin=256, max_cat_to_onehot=4,\n",
       "               max_delta_step=0, max_depth=6, max_leaves=0, min_child_weight=1,\n",
       "               missing=nan, monotone_constraints='()', n_estimators=100,\n",
       "               n_jobs=-1, num_parallel_tree=1, predictor='auto', random_state=0,\n",
       "               reg_alpha=0, reg_lambda=1, ...),\n",
       " 'imp__add_indicator': False,\n",
       " 'imp__copy': True,\n",
       " 'imp__fill_value': None,\n",
       " 'imp__missing_values': nan,\n",
       " 'imp__strategy': 'mean',\n",
       " 'imp__verbose': 0,\n",
       " 'clf__objective': 'binary:logistic',\n",
       " 'clf__use_label_encoder': False,\n",
       " 'clf__base_score': 0.5,\n",
       " 'clf__booster': 'gbtree',\n",
       " 'clf__callbacks': None,\n",
       " 'clf__colsample_bylevel': 1,\n",
       " 'clf__colsample_bynode': 1,\n",
       " 'clf__colsample_bytree': 1,\n",
       " 'clf__early_stopping_rounds': None,\n",
       " 'clf__enable_categorical': False,\n",
       " 'clf__eval_metric': None,\n",
       " 'clf__gamma': 0,\n",
       " 'clf__gpu_id': -1,\n",
       " 'clf__grow_policy': 'depthwise',\n",
       " 'clf__importance_type': None,\n",
       " 'clf__interaction_constraints': '',\n",
       " 'clf__learning_rate': 0.300000012,\n",
       " 'clf__max_bin': 256,\n",
       " 'clf__max_cat_to_onehot': 4,\n",
       " 'clf__max_delta_step': 0,\n",
       " 'clf__max_depth': 6,\n",
       " 'clf__max_leaves': 0,\n",
       " 'clf__min_child_weight': 1,\n",
       " 'clf__missing': nan,\n",
       " 'clf__monotone_constraints': '()',\n",
       " 'clf__n_estimators': 100,\n",
       " 'clf__n_jobs': -1,\n",
       " 'clf__num_parallel_tree': 1,\n",
       " 'clf__predictor': 'auto',\n",
       " 'clf__random_state': 0,\n",
       " 'clf__reg_alpha': 0,\n",
       " 'clf__reg_lambda': 1,\n",
       " 'clf__sampling_method': 'uniform',\n",
       " 'clf__scale_pos_weight': 1,\n",
       " 'clf__subsample': 1,\n",
       " 'clf__tree_method': 'exact',\n",
       " 'clf__validate_parameters': 1,\n",
       " 'clf__verbosity': None}"
      ]
     },
     "execution_count": 56,
     "metadata": {},
     "output_type": "execute_result"
    }
   ],
   "source": [
    "model_xgb_1.get_params()"
   ]
  },
  {
   "cell_type": "code",
   "execution_count": 53,
   "id": "78bb1516",
   "metadata": {},
   "outputs": [],
   "source": [
    "def build_and_tune_model(X_train, y_train, X_test, y_test):\n",
    "    '''Build the machine learning pipeline in 3 steps:\n",
    "    Step 1: Structure the pipeline with simple imputer and XGBoost classifier\n",
    "    Step 2: Specify parameters for grid search\n",
    "    Step 3: Create grid search\n",
    "    \n",
    "    The fit the pipeline on training data, predict on test data and display performance results\n",
    "    \n",
    "    Args: \n",
    "        X_train, y_train, X_test, y_test - the dataset split into training and test features and target \n",
    "        \n",
    "    Returns:\n",
    "        model - trained optimal model object \n",
    "    '''\n",
    "    pipeline = Pipeline([\n",
    "        ('imp', SimpleImputer(missing_values=np.nan, strategy='mean')),\n",
    "        ('clf', XGBClassifier())\n",
    "    ])\n",
    "    \n",
    "    # specify parameters for grid search\n",
    "    parameters = {\n",
    "        'clf__max_depth': [3, 6, 10],\n",
    "        'clf__learning_rate': [0.01, 0.1, 0.2],\n",
    "        'clf__subsample': [0.3, 0.5, 0.10],     \n",
    "        'clf__n_estimators': [50, 100, 200],\n",
    "        'clf__colsample_bytree': [0.5, 0.6, 0.7]\n",
    "    }\n",
    "    \n",
    "    # create grid search object\n",
    "    model = GridSearchCV(pipeline, param_grid = parameters, scoring='precision', n_jobs=-1, verbose=2)\n",
    "    \n",
    "    # fit to training data\n",
    "    model.fit(X_train, y_train)\n",
    "    \n",
    "    # predict on test data\n",
    "    y_pred = model.predict(X_test)\n",
    "    \n",
    "    # display results\n",
    "    results = classification_report(y_test, y_pred)\n",
    "    \n",
    "    return model, results"
   ]
  },
  {
   "cell_type": "code",
   "execution_count": 54,
   "id": "0cb699ef",
   "metadata": {
    "scrolled": false
   },
   "outputs": [
    {
     "name": "stdout",
     "output_type": "stream",
     "text": [
      "Fitting 5 folds for each of 243 candidates, totalling 1215 fits\n"
     ]
    }
   ],
   "source": [
    "final_model, final_results = build_and_tune_model(X_train, y_train, X_test, y_test)"
   ]
  },
  {
   "cell_type": "code",
   "execution_count": 106,
   "id": "9560ba52",
   "metadata": {},
   "outputs": [
    {
     "data": {
      "text/plain": [
       "0.7017752108862763"
      ]
     },
     "execution_count": 106,
     "metadata": {},
     "output_type": "execute_result"
    }
   ],
   "source": [
    "final_model.best_score_"
   ]
  },
  {
   "cell_type": "code",
   "execution_count": 55,
   "id": "7472346e",
   "metadata": {
    "scrolled": true
   },
   "outputs": [
    {
     "data": {
      "text/plain": [
       "{'clf__colsample_bytree': 0.6,\n",
       " 'clf__learning_rate': 0.1,\n",
       " 'clf__max_depth': 3,\n",
       " 'clf__n_estimators': 50,\n",
       " 'clf__subsample': 0.1}"
      ]
     },
     "execution_count": 55,
     "metadata": {},
     "output_type": "execute_result"
    }
   ],
   "source": [
    "final_model.best_params_"
   ]
  },
  {
   "cell_type": "markdown",
   "id": "3ca08114",
   "metadata": {},
   "source": [
    "## 5. Results"
   ]
  },
  {
   "cell_type": "markdown",
   "id": "e0f38f8a",
   "metadata": {},
   "source": [
    "### 5.1 Create baseline to evaluate performance"
   ]
  },
  {
   "cell_type": "code",
   "execution_count": 58,
   "id": "3e47f893",
   "metadata": {},
   "outputs": [],
   "source": [
    "y_baseline = [1]*len(y_test)"
   ]
  },
  {
   "cell_type": "code",
   "execution_count": 59,
   "id": "44d0c947",
   "metadata": {},
   "outputs": [
    {
     "name": "stdout",
     "output_type": "stream",
     "text": [
      "Baseline results (predict all 1's):\n",
      "              precision    recall  f1-score   support\n",
      "\n",
      "           0       0.00      0.00      0.00      7478\n",
      "           1       0.42      1.00      0.59      5466\n",
      "\n",
      "    accuracy                           0.42     12944\n",
      "   macro avg       0.21      0.50      0.30     12944\n",
      "weighted avg       0.18      0.42      0.25     12944\n",
      "\n"
     ]
    },
    {
     "name": "stderr",
     "output_type": "stream",
     "text": [
      "/home/chanzb/miniconda3/envs/jupyterlab/lib/python3.7/site-packages/sklearn/metrics/_classification.py:1318: UndefinedMetricWarning: Precision and F-score are ill-defined and being set to 0.0 in labels with no predicted samples. Use `zero_division` parameter to control this behavior.\n",
      "  _warn_prf(average, modifier, msg_start, len(result))\n",
      "/home/chanzb/miniconda3/envs/jupyterlab/lib/python3.7/site-packages/sklearn/metrics/_classification.py:1318: UndefinedMetricWarning: Precision and F-score are ill-defined and being set to 0.0 in labels with no predicted samples. Use `zero_division` parameter to control this behavior.\n",
      "  _warn_prf(average, modifier, msg_start, len(result))\n",
      "/home/chanzb/miniconda3/envs/jupyterlab/lib/python3.7/site-packages/sklearn/metrics/_classification.py:1318: UndefinedMetricWarning: Precision and F-score are ill-defined and being set to 0.0 in labels with no predicted samples. Use `zero_division` parameter to control this behavior.\n",
      "  _warn_prf(average, modifier, msg_start, len(result))\n"
     ]
    }
   ],
   "source": [
    "print(\"Baseline results (predict all 1's):\")\n",
    "print(classification_report(y_test, y_baseline))"
   ]
  },
  {
   "cell_type": "markdown",
   "id": "8b092e7a",
   "metadata": {},
   "source": [
    "### 5.2 Compare with final model performance"
   ]
  },
  {
   "cell_type": "code",
   "execution_count": 60,
   "id": "2e41c0bf",
   "metadata": {
    "scrolled": true
   },
   "outputs": [
    {
     "name": "stdout",
     "output_type": "stream",
     "text": [
      "Results with tuned XGBoost Classifier:\n",
      "              precision    recall  f1-score   support\n",
      "\n",
      "           0       0.85      0.73      0.78      7478\n",
      "           1       0.69      0.83      0.75      5466\n",
      "\n",
      "    accuracy                           0.77     12944\n",
      "   macro avg       0.77      0.78      0.77     12944\n",
      "weighted avg       0.78      0.77      0.77     12944\n",
      "\n"
     ]
    }
   ],
   "source": [
    "print(\"Results with tuned XGBoost Classifier:\")\n",
    "print(final_results)"
   ]
  },
  {
   "cell_type": "code",
   "execution_count": 58,
   "id": "58f53019",
   "metadata": {},
   "outputs": [
    {
     "data": {
      "text/html": [
       "<div>\n",
       "<style scoped>\n",
       "    .dataframe tbody tr th:only-of-type {\n",
       "        vertical-align: middle;\n",
       "    }\n",
       "\n",
       "    .dataframe tbody tr th {\n",
       "        vertical-align: top;\n",
       "    }\n",
       "\n",
       "    .dataframe thead th {\n",
       "        text-align: right;\n",
       "    }\n",
       "</style>\n",
       "<table border=\"1\" class=\"dataframe\">\n",
       "  <thead>\n",
       "    <tr style=\"text-align: right;\">\n",
       "      <th></th>\n",
       "      <th>Precision</th>\n",
       "      <th>Recall</th>\n",
       "      <th>F1 score</th>\n",
       "      <th>Accuracy</th>\n",
       "    </tr>\n",
       "  </thead>\n",
       "  <tbody>\n",
       "    <tr>\n",
       "      <th>Random Forest</th>\n",
       "      <td>0.67</td>\n",
       "      <td>0.69</td>\n",
       "      <td>0.68</td>\n",
       "      <td>0.73</td>\n",
       "    </tr>\n",
       "    <tr>\n",
       "      <th>LGBM</th>\n",
       "      <td>0.69</td>\n",
       "      <td>0.83</td>\n",
       "      <td>0.75</td>\n",
       "      <td>0.77</td>\n",
       "    </tr>\n",
       "    <tr>\n",
       "      <th>CatBoost</th>\n",
       "      <td>0.69</td>\n",
       "      <td>0.83</td>\n",
       "      <td>0.75</td>\n",
       "      <td>0.77</td>\n",
       "    </tr>\n",
       "    <tr>\n",
       "      <th>XGBoost</th>\n",
       "      <td>0.69</td>\n",
       "      <td>0.81</td>\n",
       "      <td>0.75</td>\n",
       "      <td>0.77</td>\n",
       "    </tr>\n",
       "    <tr>\n",
       "      <th>Tuned XGBoost (final model)</th>\n",
       "      <td>0.69</td>\n",
       "      <td>0.83</td>\n",
       "      <td>0.75</td>\n",
       "      <td>0.77</td>\n",
       "    </tr>\n",
       "    <tr>\n",
       "      <th>Baseline</th>\n",
       "      <td>0.42</td>\n",
       "      <td>1.00</td>\n",
       "      <td>0.59</td>\n",
       "      <td>0.42</td>\n",
       "    </tr>\n",
       "  </tbody>\n",
       "</table>\n",
       "</div>"
      ],
      "text/plain": [
       "                             Precision  Recall  F1 score  Accuracy\n",
       "Random Forest                     0.67    0.69      0.68      0.73\n",
       "LGBM                              0.69    0.83      0.75      0.77\n",
       "CatBoost                          0.69    0.83      0.75      0.77\n",
       "XGBoost                           0.69    0.81      0.75      0.77\n",
       "Tuned XGBoost (final model)       0.69    0.83      0.75      0.77\n",
       "Baseline                          0.42    1.00      0.59      0.42"
      ]
     },
     "execution_count": 58,
     "metadata": {},
     "output_type": "execute_result"
    }
   ],
   "source": [
    "df_results.loc['Tuned XGBoost (final model)'] = [0.69, 0.83, 0.75, 0.77]\n",
    "df_results.loc['Baseline'] = [0.42, 1.00, 0.59, 0.42]\n",
    "df_results"
   ]
  },
  {
   "cell_type": "code",
   "execution_count": 110,
   "id": "f01766be",
   "metadata": {},
   "outputs": [],
   "source": [
    "df_final_results = pd.DataFrame({'Baseline': [0.42, 0.42],\n",
    "                           'Model': [0.69, 0.77]},\n",
    "                          index=['Precision', 'Accuracy']).T.reset_index()\n",
    "df_final_results.rename({'index': 'Type'}, axis=1, inplace=True)\n",
    "df_final_results = df_final_results.melt(id_vars='Type').rename(columns=str.title)"
   ]
  },
  {
   "cell_type": "code",
   "execution_count": 111,
   "id": "e942f761",
   "metadata": {
    "scrolled": true
   },
   "outputs": [
    {
     "data": {
      "image/png": "[encoded data removed]",
      "text/plain": [
       "<Figure size 432x288 with 1 Axes>"
      ]
     },
     "metadata": {
      "needs_background": "light"
     },
     "output_type": "display_data"
    }
   ],
   "source": [
    "fig, ax = plt.subplots()\n",
    "\n",
    "sns.barplot(x='Variable', y='Value', hue='Type', data=df_final_results)\n",
    "\n",
    "plt.title('Precision and Accuracy of Model vs Baseline')\n",
    "plt.ylabel('Metric %')\n",
    "plt.xlabel('Metric')\n",
    "\n",
    "ax.bar_label(ax.containers[-2], fmt='%.2f', label_type='edge')\n",
    "ax.bar_label(ax.containers[-1], fmt='%.2f', label_type='edge')\n",
    "plt.savefig(\"results.jpg\", bbox_inches='tight')"
   ]
  },
  {
   "cell_type": "markdown",
   "id": "c50d19f3",
   "metadata": {},
   "source": [
    "### 5.3 Plot feature importances"
   ]
  },
  {
   "cell_type": "code",
   "execution_count": 79,
   "id": "f95f6181",
   "metadata": {},
   "outputs": [
    {
     "data": {
      "text/plain": [
       "<AxesSubplot:>"
      ]
     },
     "execution_count": 79,
     "metadata": {},
     "output_type": "execute_result"
    },
    {
     "data": {
      "image/png": "[encoded data removed]",
      "text/plain": [
       "<Figure size 432x288 with 1 Axes>"
      ]
     },
     "metadata": {
      "needs_background": "light"
     },
     "output_type": "display_data"
    }
   ],
   "source": [
    "feat_imp = pd.Series(final_model.best_estimator_.named_steps[\"clf\"].feature_importances_, index=X_train.columns)\n",
    "feat_imp.sort_values().plot(kind='barh')"
   ]
  },
  {
   "cell_type": "markdown",
   "id": "4a90bc99",
   "metadata": {},
   "source": [
    "Unfinished ideas:\n",
    "\n",
    "This project was completed as part of Udacity’s Data Scientist nanodegree. Given more time, I would have loved to explore the following:\n",
    "+ Collect more data about each offer such as the day of week and time of day that it was released, and the time that each customer viewed and completed it \n",
    "+ Use NLP to analyse how the text used in informational offers is related to its effectiveness\n",
    "+ Use clustering algorithms like PCA and k-nearest neighbours to segment customers into groups based on behaviour\n",
    "+ Create a business case for the estimated value of this recommendation system by analysing counterfactuals (customers who complete offers without viewing or receiving them)"
   ]
  },
  {
   "cell_type": "code",
   "execution_count": null,
   "id": "5528a3e2",
   "metadata": {},
   "outputs": [],
   "source": []
  }
 ],
 "metadata": {
  "kernelspec": {
   "display_name": "Python 3",
   "language": "python",
   "name": "python3"
  },
  "language_info": {
   "codemirror_mode": {
    "name": "ipython",
    "version": 3
   },
   "file_extension": ".py",
   "mimetype": "text/x-python",
   "name": "python",
   "nbconvert_exporter": "python",
   "pygments_lexer": "ipython3",
   "version": "3.7.12"
  }
 },
 "nbformat": 4,
 "nbformat_minor": 5
}
